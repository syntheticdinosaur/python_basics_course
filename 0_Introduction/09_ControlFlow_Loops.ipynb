{
 "cells": [
  {
   "cell_type": "markdown",
   "metadata": {},
   "source": [
    "# Control Flow, or: Doing the right thing at the right time\n",
    "\n",
    "## Learning Goals\n",
    "- How to make the execution of code depend on certain conditions\n",
    "- How to use if-statements for conditional execution of code\n",
    "- How to use for-loops and while-loops for repeated execution of a block of code\n",
    "\n",
    "## Introduction\n",
    "A program is a sequence of instructions for the computer. In many cases, simply proceeding through such a sequence from start to end is enough to accomplish a task.\n",
    "\n",
    "Sometimes however, we want to execute parts of code only if certain conditions are met. For instance, we want to do one thing when a number is even, and another thing if it is not (and maybe, we want to treat the case 0 differently, too).\n",
    "\n",
    "At other times, we want to repeat certain instructions for a number of times. Both of these issues belong to the area of _Control Flow_ or _Control Structure_.\n",
    "\n",
    "## A Motivating Example\n",
    "\n",
    "Imagine that we want to go on our well-deserved holiday. Since there is no bad weather, only bad clothing, we want to optimize what we put into our luggage. We want to formalize our packing list, depending on the expected conditions of our holiday.\n",
    "\n",
    "If it is rainy, we want to take a rain coat. If it's sunny, we want to take sun glasses. Are we going to the beach or mountain, we need some sunscreen, if we go to the forest, we need some insect repellent. We will put all of this into our luggage list."
   ]
  },
  {
   "cell_type": "code",
   "execution_count": null,
   "metadata": {},
   "outputs": [],
   "source": [
    "packing_list = [] # Initialize an empty packing list; we add our items later\n",
    "weather = \"rainy\" # sunny or rainy\n",
    "destination = \"beach\" # beach, forest or mountain\n",
    "\n",
    "if weather == \"sunny\":\n",
    "  packing_list.append(\"sun glasses\")\n",
    "elif weather == \"rainy\":\n",
    "  packing_list.append(\"rain coat\")\n",
    "else:\n",
    "  print(\"Either it's rainy or sunny, nothing in between happens in our example.\")\n",
    "print(f\"We are packing: {packing_list}\")"
   ]
  },
  {
   "cell_type": "markdown",
   "metadata": {},
   "source": [
    "Try playing a bit around with the definition of weather in the code cell below. What happens if...\n",
    "* You change it to 'sunny'?\n",
    "* You change it to 'cloudy'?\n",
    "\n",
    "Think about it first and note down your expectations, and then test it out.  \n",
    " Do the results match what you expect?\n",
    "\n"
   ]
  },
  {
   "cell_type": "markdown",
   "metadata": {},
   "source": [
    "## Anatomy of an if-statement\n",
    "\n",
    "Let's unpack what we see in the above.  \n",
    "We see a sequence of the following statements: \n",
    "\n",
    "- ```if```, which specifies a condition after which a certain block of code is executed or not.\n",
    "\n",
    "- ```elif``` (else-if) specifies what to do in case the previous if statement is not true, but the elif statement itself is true.\n",
    "\n",
    "- ```else``` specifies what to do in case neither of the previous statements in the if-block evaluated to true. It's a fallback position for your code.\n",
    "\n",
    "> __Note__ The code that is to be executed after each statement is indented (either via 4 spaces or a hit of the tabulator key). If you mess up the indentation, Python will complain noteably!\n",
    "\n",
    "> __Important__: The order of statements in the if-block matters. The comparison is greedy - the first path that is True is entered and the code therein executed. If another condition later would also have evaluated to True, this will not be executed.\n"
   ]
  },
  {
   "cell_type": "markdown",
   "metadata": {},
   "source": [
    "Considering what you just learned about the role of the order in such statements, have a look at the code block below. Why won't it tell us that the number we entered is 0? How could you fix the code?"
   ]
  },
  {
   "cell_type": "code",
   "execution_count": null,
   "metadata": {},
   "outputs": [],
   "source": [
    "# Playground Block: Test it and break it (and fix it again)\n",
    "number = 0\n",
    "\n",
    "if number >= 0:\n",
    "    print(\"Number is non-negative.\")\n",
    "elif number == 0:\n",
    "    print(\"Number is 0\")\n",
    "else:\n",
    "    print(\"Number is negative\")"
   ]
  },
  {
   "cell_type": "markdown",
   "metadata": {},
   "source": [
    "## Using multiple conditions in if-statements\n",
    "\n",
    "We can also execute a block of code depending on the truth value of multiple statements: This is a complicated way of saying that we can combine certain conditions, and adjust our control flow based on that.\n",
    "\n",
    "For instance, when it's rainy and cold, we might want to use a warm rain jacket, instead of merely and umbrella. This allows for more fine grained control of code execution. To achieve this, we can use our knowledge about logical statements from last notebook.\n",
    "\n",
    "In the following, we will use the packing list example for a short trip. What we pack should reflect the weather and the destination we are visiting.\n"
   ]
  },
  {
   "cell_type": "code",
   "execution_count": null,
   "metadata": {},
   "outputs": [],
   "source": [
    "# define basic packing list, weather and destination here\n",
    "packing_list = [\"underwear\", \"shoes\", \"shirt\"]\n",
    "\n",
    "# Create the following 2 variables\n",
    "weather = #sunny or rainy\n",
    "destination = # beach, mountain or forest"
   ]
  },
  {
   "cell_type": "markdown",
   "metadata": {},
   "source": [
    "Now that we have defined the basics, you will see in the following how to use multiple conditions for control flow."
   ]
  },
  {
   "cell_type": "code",
   "execution_count": null,
   "metadata": {},
   "outputs": [],
   "source": [
    "if weather == \"sunny\" and destination in [\"beach\", \"mountain\"]:\n",
    "  packing_list.append(\"sunscreen\")\n",
    "elif weather == \"rainy\" and destination in [\"beach\", \"mountain\"]:\n",
    "  packing_list.append(\"waterproof bag\")\n",
    "elif destination == \"forest\":\n",
    "  packing_list.append(\"insect repellent\")\n",
    "else:\n",
    "  print(\"We either go to the beach, mountains, or the forest. Weather is sunny or rainy.\")"
   ]
  },
  {
   "cell_type": "markdown",
   "metadata": {},
   "source": [
    "Let's check the adjusted packing list!"
   ]
  },
  {
   "cell_type": "code",
   "execution_count": null,
   "metadata": {},
   "outputs": [],
   "source": [
    "print(\"We are packing the following for our holidays:\")\n",
    "print(packing_list)"
   ]
  },
  {
   "cell_type": "markdown",
   "metadata": {},
   "source": [
    "## If-statement exercise\n",
    "\n",
    "\n",
    "__Now it's your turn__. When on holidays, we might also take the time to pursue a hobby, such as painting, riding a bike, swimming, or reading. Below, we noted a hobby, but you may add others if you like.   \n",
    "\n",
    "Then, use ```if```, ```elif```, and ```else``` in statements to pack something for the hobbies photography, reading, and another hobby you can think of. You can find a possible solution at the end of this notebook."
   ]
  },
  {
   "cell_type": "code",
   "execution_count": null,
   "metadata": {},
   "outputs": [],
   "source": [
    "hobby = \"photography\" # or reading, or running, or hiking, or biking ...\n",
    "\n",
    "if hobby == \"photography\":\n",
    "  # ... continue here"
   ]
  },
  {
   "cell_type": "markdown",
   "metadata": {},
   "source": [
    "Great! Now we know what to pack for our holidays. We now print a list that we could tick of one by one. We can do this by using something called a for-loop.\n",
    "\n",
    "\n"
   ]
  },
  {
   "cell_type": "markdown",
   "metadata": {},
   "source": [
    "## Again and again and again: Loops\n",
    "\n",
    "Loops allow for the repeated execution of code. There are two kinds of loop in Python that you encounter. While-loops and for-loops.\n",
    "\n",
    "### For-loops\n",
    "\n",
    "For-loops operate over a specified set of elements (i.e., an iterable). For-loops are particularly useful when the number of iterations is known ahead of time or when you want to iterate through a collection like a list, tuple, or string. In the following example, we will use a for-loop to generate a packing list with tick-off boxes using the list we created before."
   ]
  },
  {
   "cell_type": "code",
   "execution_count": null,
   "metadata": {},
   "outputs": [],
   "source": [
    "# a for-loop\n",
    "print(\"Nicely formatted tick-off list\")\n",
    "for item in packing_list:\n",
    "  print(\"[ ]\", item) # [ ] is our 'checkbox'\n"
   ]
  },
  {
   "cell_type": "markdown",
   "metadata": {},
   "source": [
    "### While-loops\n",
    "\n",
    "While-loops repeatedly execute a block of code as long as a specified condition remains true. The condition is checked before each iteration, and if it's true, the loop continues; if it's false, the loop exits. While-loops are useful when the number of iterations is not known in advance, allowing the loop to run until a certain condition or event occurs.\n",
    "\n",
    "Care must be taken to ensure that the condition eventually becomes false, or the loop could run indefinitely.\n",
    "\n",
    "A simple example of a while-loop is offered in the following code. Try to understand what its conditions are and what it does.\n",
    "\n"
   ]
  },
  {
   "cell_type": "code",
   "execution_count": null,
   "metadata": {},
   "outputs": [],
   "source": [
    "# a simple while-loop\n",
    "counter = 0\n",
    "while counter < 10:\n",
    "    print(counter)\n",
    "    counter = counter + 1"
   ]
  },
  {
   "cell_type": "markdown",
   "metadata": {},
   "source": [
    "The following code shows a bit more of an advanced use of a while-loop. In this example we try to put people in our car, but have limited capacity. ```len()``` returns the length of an object such as a list, i.e. the number of elements."
   ]
  },
  {
   "cell_type": "code",
   "execution_count": null,
   "metadata": {},
   "outputs": [],
   "source": [
    "passenger_list = [\"Joana\", \"Marcus\", \"Paul\", \"Michael\", \"Anna\"]\n",
    "carry_limit = 3\n",
    "car = []\n",
    "\n",
    "while len(car) < carry_limit:\n",
    "  print(carry_limit - len(car), \"spot(s) left in the car.\")\n",
    "  # packing_list.pop() returns  by default the last element from the list as a new value, and removes it from the list.\n",
    "  # by giving it an index, it removes that index instead\n",
    "  car.append(passenger_list.pop(0))\n",
    "\n",
    "print(\"Car passengers are: \", car)\n",
    "print(\"We couldn't give spots to: \", passenger_list)"
   ]
  },
  {
   "cell_type": "markdown",
   "metadata": {},
   "source": [
    "### `range()`: doing something a predefined number of times"
   ]
  },
  {
   "cell_type": "markdown",
   "metadata": {},
   "source": [
    "A final useful tool for control flow and iterations is the `range()` function. It generates a sequence of numbers within a specified range, with an optional step size.\n",
    "\n",
    "It works like this:\n",
    "\n",
    "```python\n",
    "    range(start, stop, step)\n",
    "```\n",
    "\n",
    "Python's `range()` uses half-open intervals, meaning the start index is included, but the stop index is excluded. For example, `range(0, 8, 2)` produces the numbers 0, 2, 4, and 6, starting at 0, stepping by 2, and stopping before 8. \n",
    "\n",
    "start and step are optional arguments, they will default to 0 and 1 if not specified otherwise. This means that `range(3)` will go from 0 to 2 (inclusive), in steps of 1."
   ]
  },
  {
   "cell_type": "code",
   "execution_count": null,
   "metadata": {},
   "outputs": [],
   "source": [
    "for number in range(0,8,2):\n",
    "  print(number)"
   ]
  },
  {
   "cell_type": "markdown",
   "metadata": {},
   "source": [
    "You can use the `range()` function to execute a piece of code a predefined number of times. The following loop will print \"Bonjour!\" three times, but the underscore `_` makes it clear that we don't care about the value (e.g., whether its 0,1, or 2) of each iteration, just the repeated execution of the code. Using an underscore `_` as a variable name is common convention to mark a variable that is irrelevant, but that is returned from a function and thus needs to be assigned a name."
   ]
  },
  {
   "cell_type": "code",
   "execution_count": null,
   "metadata": {},
   "outputs": [],
   "source": [
    "for _ in range(0,3): # The underscore _ indicates we don't need to use the loop variable\n",
    "    print(\"Bonjour!\") "
   ]
  },
  {
   "cell_type": "markdown",
   "metadata": {},
   "source": [
    "If you have two lists of equal length, and elements at the same index belong together, you can use the range() function to iterate over the indices and access corresponding elements from both lists. Here is an example:"
   ]
  },
  {
   "cell_type": "code",
   "execution_count": null,
   "metadata": {},
   "outputs": [],
   "source": [
    "weights = [10, 5 ,8, 0.2, 12]\n",
    "objects = [\"tent\", \"mattress\", \"BBQ\", \"tin cup\", \"backpack\"]\n",
    "\n",
    "for idx in range(0, len(weights), 1):\n",
    "  # Instead, we could also just use range(len(weights))\n",
    "  # as by default, it starts at 0, and has step size 1.\n",
    "  print(objects[idx] ,\"weighs\", weights[idx], \"kg.\")\n",
    "\n",
    "# Bonus: Overall weight\n",
    "print(\"----\")\n",
    "print(\"Overall, we have\", sum(weights), \"kg of luggage.\")"
   ]
  },
  {
   "cell_type": "markdown",
   "metadata": {},
   "source": [
    "## Summary and Outlook\n",
    "\n",
    "In this notebook, we saw how to use logical conditions to change the flow of code execution. We saw how if, elif, and else statements can allow for branching code. We further explored for and while loops for repeated execution of code.\n",
    "This conclude the basics of Python for now. __Well done!__   \n",
    "In the next part, we will learn more about functions, classes and modules in Python. These more advanced concepts can help you structure your code and icnrease its reusability."
   ]
  },
  {
   "cell_type": "markdown",
   "metadata": {},
   "source": [
    "# Example Solution for the Packing Exercise"
   ]
  },
  {
   "cell_type": "code",
   "execution_count": null,
   "metadata": {},
   "outputs": [],
   "source": [
    "packing_list = [\"underwear\", \"t-shirt\"]\n",
    "\n",
    "hobby = \"photography\"\n",
    "\n",
    "if hobby == \"photography\":\n",
    "  packing_list.append(\"camera\")\n",
    "elif hobby == \"reading\":\n",
    "  packing_list.append(\"book\")\n",
    "elif hobby == \"running\":\n",
    "  packing_list.append(\"running shoes\")\n",
    "else:\n",
    "  print(f\"Don't know what to pack for doing {hobby}\")\n",
    "\n",
    "print(f\"Packing List {packing_list}\")"
   ]
  }
 ],
 "metadata": {
  "kernelspec": {
   "display_name": "base",
   "language": "python",
   "name": "python3"
  },
  "language_info": {
   "codemirror_mode": {
    "name": "ipython",
    "version": 3
   },
   "file_extension": ".py",
   "mimetype": "text/x-python",
   "name": "python",
   "nbconvert_exporter": "python",
   "pygments_lexer": "ipython3",
   "version": "3.12.8"
  }
 },
 "nbformat": 4,
 "nbformat_minor": 2
}
