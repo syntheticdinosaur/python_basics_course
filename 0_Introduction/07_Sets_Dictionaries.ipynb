{
 "cells": [
  {
   "cell_type": "markdown",
   "metadata": {},
   "source": [
    "# Collections beyond Lists: Sets and Dictionaries\n",
    "\n",
    "## Learning Goals\n",
    "- Alternatives to lists: dictionaries and sets\n",
    "- What sets are and how they differ from lists\n",
    "- dictionaries as key-value pairs for better look-up of values\n",
    "\n",
    "## Introduction\n",
    "Lists belong to a class of objects which are called iterables. They are called like that because they may contain multiple objects that you can access. Iterables are collections of different items. But there are other iterables beyond lists with other properties, for specific uses.\n",
    "\n",
    "## Sets\n",
    "One example for another iterable that comes in handy at times is the ```set```. A set, like the mathematical structure of the same name, doesn't care about order, or about multiple occurences of the same value.\n",
    "\n",
    "> __Sets__ care only about membership: Something either is in a set or it is not. For example, if I ask you whether you have a pencil, it only matters wether you have at least one pencil or not. If you have 100 pencils, you'd still answer yes.\n",
    "\n",
    "Sets are useful for comparing whether two collections of objects have the same elements or not (their identity), or by which elements collections differ (the set difference).\n",
    "\n",
    "You don't need to fully grasp that now. Just know that there are more data types and that those might come handy in some places.\n",
    "\n",
    "Before diving into sets, let's see something about lists:  \n",
    "Lists care about the number of occurences, as well as the order of items."
   ]
  },
  {
   "cell_type": "code",
   "execution_count": null,
   "metadata": {},
   "outputs": [],
   "source": [
    "# These lists are not the same\n",
    "list_1 = [1,4, \"apple\", \"apple\", 4]\n",
    "list_2 = [4, 1, 1, \"apple\", 1]\n",
    "print(\"Are list_1 and list_2 the same list?\", list_1 == list_2)"
   ]
  },
  {
   "cell_type": "markdown",
   "metadata": {},
   "source": [
    "## Creating Sets\n",
    "\n",
    "The lists above where not the same, although they shared the same elements, but in different order and numerosity. But sometimes, we just want to know whether collections share the same basic contents, without caring for order or number of occurences. That's what sets are good for.  \n",
    "You can create sets by using curly braces ```{}``` instead of the brackets ```[]``` used for lists."
   ]
  },
  {
   "cell_type": "code",
   "execution_count": null,
   "metadata": {},
   "outputs": [],
   "source": [
    "# Creating Sets\n",
    "set_1 = {1,4, \"apple\", \"apple\", 4}\n",
    "set_2 = {4, 1, 1, \"apple\", 1}\n",
    "print(\"Are set_1 and set_2 the same set?\", set_1 == set_2)\n"
   ]
  },
  {
   "cell_type": "markdown",
   "metadata": {},
   "source": [
    "You can turn an existing iterable such like a list into a set like this:\n"
   ]
  },
  {
   "cell_type": "code",
   "execution_count": null,
   "metadata": {},
   "outputs": [],
   "source": [
    "list_1_as_set = set(list_1)\n",
    "print(type(list_1_as_set))"
   ]
  },
  {
   "cell_type": "markdown",
   "metadata": {},
   "source": [
    "## Set Differences\n",
    "An actual usecase is checking which elements are in one set, but not the other. Imagine we want to bake banana bread. We know the ingredients, and we have some stuff in the storage. What we need to buy are those ingredients that we don't have at home, i.e. the set difference.\n"
   ]
  },
  {
   "cell_type": "code",
   "execution_count": null,
   "metadata": {},
   "outputs": [],
   "source": [
    "# Define the ingredients necessary and those we already have in storage\n",
    "ingredients = {\"banana\", \"flour\", \"almonds\", \"spices\", \"oat milk\"} # What we need for our recipe\n",
    "storage     = {\"banana\", \"flour\"} #  What we have at home"
   ]
  },
  {
   "cell_type": "markdown",
   "metadata": {},
   "source": [
    "To check for these differences, you can just use the minus sign, ```-``` like this:"
   ]
  },
  {
   "cell_type": "code",
   "execution_count": null,
   "metadata": {},
   "outputs": [],
   "source": [
    "# Set difference\n",
    "print(ingredients - storage)"
   ]
  },
  {
   "cell_type": "markdown",
   "metadata": {},
   "source": [
    "## Set Union\n",
    "\n",
    "Sometimes we want to know all individual elements that occur across multiple sets. For example, you might want to have a list of names of people who attended one of multiple concerts, but you don't care whether anyone went twice.  \n",
    "\n",
    "The union of sets, e.g. all elements that appear in any one of the sets, is constructed using the ```|```sign.\n",
    "\n",
    "In the following, we will get all the unique ingredients we would need for pizza and cake.\n",
    "\n"
   ]
  },
  {
   "cell_type": "code",
   "execution_count": null,
   "metadata": {},
   "outputs": [],
   "source": [
    "# Set Union\n",
    "pizza_ingredients = {\"flour\", \"yeast\", \"cheese\", \"tomoatoes\", \"salt\"}\n",
    "cake_ingredients  = {\"flour\", \"milk\", \"sugar\", \"yeast\", \"vanilla\"}\n",
    "\n",
    "all_ingredients = pizza_ingredients | cake_ingredients\n",
    "print(\"All ingredients to buy are: \", all_ingredients)"
   ]
  },
  {
   "cell_type": "markdown",
   "metadata": {},
   "source": [
    "## Dictionaries\n",
    "\n",
    "As you saw, in lists elements can be accessed by their position. This is nice, but can be limiting. Another structure in python is the so-called _dictionary_, which stores key-value pairs. The key can be for instance a number or a string (to be precise, it must be a so-called immutable data type). The value however can, just like in lists, be any data type (even a list!).\n",
    "While lists store elements by their position (index), dictionaries store data by associating each element with a unique key. This makes it easier to look up values based on descriptive keys rather than numerical indices.\n",
    "\n",
    "### Creating Dictionaries\n",
    "A dictionary is defined using curly braces `{}`, and the key-value pairs are separated by a colon `:`. \n",
    "\n",
    "```python\n",
    "my_dict = {\"key_1\": \"value_1\", \"key_2\": \"value_2\"}\n",
    "```\n",
    "\n",
    "Data in a dictionary can be accessed by the so-called 'key', e.g.:\n",
    "\n",
    "```python\n",
    "food_dict = {\"fruits\": [\"apples\", \"oranges\", \"bananas\"], \"vegetables\": [\"tomato\", \"cucumber\", \"carrot\"]}\n",
    "\n",
    "print(food_dict[\"fruits\"])\n",
    ">>> ['apples', 'oranges', 'bananas']\n",
    "```\n",
    "### Keys and Values in a Dictionary\n",
    "\n",
    "In this case, `\"fruits\"` is the key, and its associated value is the list `[\"apples\", \"oranges\", \"bananas\"]`.\n",
    "\n",
    "\n",
    "- **Keys**: In Python, keys must be of an immutable data type (e.g., strings, numbers, or tuples). You cannot use mutable types like lists as keys.\n",
    "- **Values**: Values can be of any data type, including strings, numbers, lists, or even other dictionaries!\n",
    "\n",
    "\n",
    "Now, try to access the list of _vegetables_ in ```food_dict```.\n",
    "\n"
   ]
  },
  {
   "cell_type": "code",
   "execution_count": null,
   "metadata": {},
   "outputs": [],
   "source": [
    "food_dict = {\"fruits\": [\"apples\", \"oranges\", \"bananas\"], \"vegetables\": [\"tomato\", \"cucumber\", \"carrot\"]}\n",
    "# Implement your solution here"
   ]
  },
  {
   "cell_type": "markdown",
   "metadata": {},
   "source": [
    "### Modifying Data in a Dictionary\n",
    "\n",
    "You can also modify the values in a dictionary by assigning a new value to a key:\n",
    "\n",
    "```python\n",
    "food_dict[\"fruits\"] = [\"grapes\", \"pineapple\", \"kiwi\"]\n",
    "print(food_dict[\"fruits\"])\n",
    "```\n",
    "\n",
    "Output:\n",
    "```python\n",
    "['grapes', 'pineapple', 'kiwi']\n",
    "```"
   ]
  },
  {
   "cell_type": "code",
   "execution_count": null,
   "metadata": {},
   "outputs": [],
   "source": [
    "# Modify the vegetable list by appending \"eggplant\""
   ]
  },
  {
   "cell_type": "markdown",
   "metadata": {},
   "source": [
    "### Adding New Key-Value Pairs\n",
    "\n",
    "You can add a new key-value pair to a dictionary like this:\n",
    "\n",
    "```python\n",
    "food_dict[\"dairy\"] = [\"milk\", \"cheese\", \"yogurt\"]\n",
    "print(food_dict)\n",
    "```\n",
    "\n",
    "Output:\n",
    "```python\n",
    "{\n",
    "    \"fruits\": [\"grapes\", \"pineapple\", \"kiwi\"],\n",
    "    \"vegetables\": [\"tomato\", \"cucumber\", \"carrot\"],\n",
    "    \"dairy\": [\"milk\", \"cheese\", \"yogurt\"]\n",
    "}\n",
    "```"
   ]
  },
  {
   "cell_type": "code",
   "execution_count": null,
   "metadata": {},
   "outputs": [],
   "source": [
    "# Add another food category of your choosing the the food_dict"
   ]
  },
  {
   "cell_type": "markdown",
   "metadata": {},
   "source": [
    "\n",
    "### Removing Items from a Dictionary\n",
    "\n",
    "To remove a key-value pair from a dictionary, use the `del` statement:\n",
    "\n",
    "```python\n",
    "del food_dict[\"dairy\"]\n",
    "print(food_dict)\n",
    "```\n",
    "\n",
    "Output:\n",
    "```python\n",
    "{\n",
    "    \"fruits\": [\"grapes\", \"pineapple\", \"kiwi\"],\n",
    "    \"vegetables\": [\"tomato\", \"cucumber\", \"carrot\"]\n",
    "}\n",
    "```"
   ]
  },
  {
   "cell_type": "markdown",
   "metadata": {},
   "source": [
    "\n",
    "\n",
    "\n",
    "\n",
    "### Iterating Through a Dictionary\n",
    "\n",
    "You can loop through a dictionary to access both keys and values. Here's an example:\n",
    "\n",
    "```python\n",
    "for key, value in food_dict.items():\n",
    "    print(f\"Key: {key}, Value: {value}\")\n",
    "```\n",
    "\n",
    "Output:\n",
    "```python\n",
    "Key: fruits, Value: ['grapes', 'pineapple', 'kiwi']\n",
    "Key: vegetables, Value: ['tomato', 'cucumber', 'carrot']\n",
    "```"
   ]
  },
  {
   "cell_type": "code",
   "execution_count": null,
   "metadata": {},
   "outputs": [],
   "source": [
    "# Print out only the values of the dictionary and collect them in a 'shopping_list'\n",
    "shopping_list = []\n",
    "\n",
    "# your code goes here\n",
    "\n",
    "print(shopping_list)"
   ]
  },
  {
   "cell_type": "markdown",
   "metadata": {},
   "source": [
    "## Summary and Outlook\n",
    "\n",
    "The notebook introduced sets and dictionaries as additional data structures beyond lists. Sets focus on membership and uniqueness, while dictionaries store key-value pairs for efficient lookups. The next notebooks will provide a slight shift towards more general principles of structuring code, discussing logical operations and control flow. Control flow refers to the order in which individual instructions are executed in code and is important for building larger programs."
   ]
  }
 ],
 "metadata": {
  "kernelspec": {
   "display_name": "base",
   "language": "python",
   "name": "python3"
  },
  "language_info": {
   "codemirror_mode": {
    "name": "ipython",
    "version": 3
   },
   "file_extension": ".py",
   "mimetype": "text/x-python",
   "name": "python",
   "nbconvert_exporter": "python",
   "pygments_lexer": "ipython3",
   "version": "3.12.8"
  }
 },
 "nbformat": 4,
 "nbformat_minor": 2
}
