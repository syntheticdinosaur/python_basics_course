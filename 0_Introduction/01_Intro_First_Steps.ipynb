{
 "cells": [
  {
   "cell_type": "markdown",
   "metadata": {},
   "source": [
    "# First things first: Introduction to Python\n"
   ]
  },
  {
   "cell_type": "markdown",
   "metadata": {},
   "source": [
    "## Learning Goals\n",
    "* What is programming, and why do we use programming languages?\n",
    "* What does it mean to \"run\" a program?\n",
    "* What are variables, and why are they important in programming?\n"
   ]
  },
  {
   "cell_type": "markdown",
   "metadata": {},
   "source": [
    "# The 'Why' of Programming in 5 Minutes\n",
    "## Make computers do things\n",
    "\n",
    "Computers excel at doing repeated tasks quickly. For this, computers need to be told step-by-step how to accomplish such a task. To give computers the necessary instructions, a program is used. This compilation of instructions tells the computer what to do. It uses special words and logical rules to define instructions, which the computer follows.\n",
    "\n",
    "Programs are written in a certain programming language. There are many different programming languages for many different applications (such as C, Java, Julia, R, Matlab, ...). In this course, we will use the Python programming language, because it is easy to use, and can still do powerful things. If you want to know more about the other languages, hit your search engine of choice to learn more.\n",
    "\n",
    "## Programming languages\n",
    "\n",
    "A programming language, like Python, is the set of rules and commands we use to write instructions for the computer. You can theoretically write your program as a normal text file in a regular text editor if you want to.\n",
    "\n",
    "This program can then be executed by a so called interpreter. An interpreter is a program that reads and executes code written in a programming language. It translates the code into machine instructions that the computer can understand and run immediately.\n",
    "\n",
    "What we are currently working in is called a 'Jupyter Notebook'. This provides a way to interactively show regular text as well as to execute code.\n",
    "A Jupyter Notebook provides a (browser-based) way of working with Python code.\n",
    "\n"
   ]
  },
  {
   "cell_type": "markdown",
   "metadata": {},
   "source": [
    "## Using AI for Coding (2024/2025)\n",
    "\n",
    "Yes, LLMs like ChatGPT are useful, especially for programming. And especially for programming at a basic level, since there was loads of training materials for that. Use them not just to finish assignments, but to understand and explore different solutions.\n",
    "\n",
    "> Beware: Current LLMs are very good at producing code that looks very nice and plausible, but sometimes the stupidest of mistakes hide in that code. It can be difficult to debug code that looks very nice and clean, as one doesn't suspect certain classes of errors there. The authors speak from their own experience.\n",
    "\n",
    "AI can absolve you of some of the nitty-gritty details for some programming task, but a sufficient high-level understanding can't be replaced (yet).\n",
    "\n"
   ]
  },
  {
   "cell_type": "markdown",
   "metadata": {},
   "source": [
    "# Starting to Program\n",
    "## Hello World\n",
    "\n",
    "You will now write your first working piece of code. A so-called 'Hello World' program is often the first introduction to a programming language. It is the simplest program in such a language the gives out 'hello world' to your screen."
   ]
  },
  {
   "cell_type": "markdown",
   "metadata": {},
   "source": [
    "In Python, this is very simple:  \n",
    "\n",
    "```python\n",
    "    print('hello world')\n",
    "```\n"
   ]
  },
  {
   "cell_type": "markdown",
   "metadata": {},
   "source": [
    "Just type that out in the empty code cell below.\n",
    "Code cells in a jupyter notebook contain Python code which can be executed. This means that the computer will try to follow the commands and instructions given in that cell.\n",
    "\n",
    "__You may run the code cell by clicking the 'play' button on the top bar, or alternatively, by pressing the 'Shift' and 'Enter' buttons at the same time.__\n"
   ]
  },
  {
   "cell_type": "code",
   "execution_count": null,
   "metadata": {},
   "outputs": [],
   "source": [
    "# Try it yourself! Get the computer to greet the world.\n"
   ]
  },
  {
   "cell_type": "markdown",
   "metadata": {},
   "source": [
    "Did it work? Great, then you had your (probably) first step into programming. What has just happened?\n",
    "* ```print()``` is a function that tells the computer to show you something in the output line.\n",
    "* What it should show you is given as a so called _argument_ in the parantheses ```()```."
   ]
  },
  {
   "cell_type": "markdown",
   "metadata": {},
   "source": [
    "## Commenting Code"
   ]
  },
  {
   "cell_type": "markdown",
   "metadata": {},
   "source": [
    "Maybe you noticed the text after the  ```#``` in the code cell above. That's a so-called comment.  \n",
    "Comments are notes left by programmers for others (or themselves) who might read their code, for instance explaining certain parts of the program. _Comments do not influence what the program is actually doing_. They are not translated into instructions for the computer.  \n",
    "  \n",
    "In Python, comments are indicate by a ```#```. Everything in a line of code after that is a comment.\n",
    "The following line for instance just contains a comment, and doesn't do anything at all."
   ]
  },
  {
   "cell_type": "code",
   "execution_count": null,
   "metadata": {},
   "outputs": [],
   "source": [
    "# This is a comment and just for humans to read. Python programs don't care about what comes after the '#'!"
   ]
  },
  {
   "cell_type": "markdown",
   "metadata": {},
   "source": [
    "Comments can also come at the end of a line of code."
   ]
  },
  {
   "cell_type": "code",
   "execution_count": null,
   "metadata": {},
   "outputs": [],
   "source": [
    "print('Guten Tag') # 'Guten Tag' is a German greeting, and a bit more formal than 'Hallo'"
   ]
  },
  {
   "cell_type": "markdown",
   "metadata": {},
   "source": [
    "## Summary and Outlook\n",
    "\n",
    "In this notebook, we introduced the basics of programming, explaining how computers follow step-by-step instructions written in a programming language like Python. We explored how Python code is executed using an interpreter and wrote our first simple program using the `print()` function. In the next notebook, we will take our first steps in using Python as a basic calculator to perform mathematical operations."
   ]
  }
 ],
 "metadata": {
  "language_info": {
   "name": "python"
  }
 },
 "nbformat": 4,
 "nbformat_minor": 2
}
