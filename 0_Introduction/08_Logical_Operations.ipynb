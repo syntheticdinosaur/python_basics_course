{
 "cells": [
  {
   "cell_type": "markdown",
   "metadata": {},
   "source": [
    "# Logical Operations\n",
    "\n",
    "## Learning Goals\n",
    "- What are logical values in Python\n",
    "- What are logical operators\n",
    "- How logical values are combined (truth tables)\n",
    "\n",
    "## Introduction\n",
    "One of our goals is to write programs to fulfill complex sets of instructions. For this, it is often necessary to make the program do different things, depending on some factor. \n",
    "One example of such a conditional statement is dressing apropriately for the current weather. For instance, if the chance of rain is high, then I will take a rain jacket or an umbrella with me. If it's cold, but not rainy, a warm pullover and a coat might be more suitable. When the sun is shining, I better not forget my sunglasses. We are comparing a current state of a variable with a number of cases. Either it fits the case, or it doesn't.\n",
    "\n",
    "In the next segment, we will first learn more about such logical statements. These statements can be used to control the flow of the script, which is the topic of the notebook following this one. We might do one thing if a condition is true, and another if its not."
   ]
  },
  {
   "cell_type": "markdown",
   "metadata": {},
   "source": [
    "## Equality and Inequality\n",
    "\n",
    "Statements, such as '1+1 equals 3' (in Python ```1 + 1 == 3```) can be either ```True``` or ```False``` (i.e. 'They evaluate to boolean or logical values').    \n",
    "\n",
    "> Please note that we use the double equal sign ```==``` to test for equality, and use the single equal sign ```=``` to assign a value to a variable!\n",
    "\n",
    "We can also make statements of inequality using ```!=```. e.g., ```2 * 5 + 3 != 2 * (5+3)```.\n",
    "\n"
   ]
  },
  {
   "cell_type": "code",
   "execution_count": null,
   "metadata": {},
   "outputs": [],
   "source": [
    "# Testing equality\n",
    "1 + 1 == 2"
   ]
  },
  {
   "cell_type": "code",
   "execution_count": null,
   "metadata": {},
   "outputs": [],
   "source": [
    "# Testing for inequality\n",
    "2 * 5 + 3 != 2 * (5 + 3) # Both sides of the inequality are not the same"
   ]
  },
  {
   "cell_type": "markdown",
   "metadata": {},
   "source": [
    "## Relational Operators\n",
    "We further can test relations such as ' x is larger/smaller than y', or similarly, whether x is 'smaller/larger _or equal_' than y. The highlighted symbols are so-called _relational operators_ (just that you have heard the proper term).\n",
    "\n",
    "* Smaller ```<```\n",
    "* Larger ```>```\n",
    "\n",
    "* Smaller-or-equal ```<=```\n",
    "* Larger-or-equal ```>=```"
   ]
  },
  {
   "cell_type": "code",
   "execution_count": null,
   "metadata": {},
   "outputs": [],
   "source": [
    "4 < 5"
   ]
  },
  {
   "cell_type": "code",
   "execution_count": null,
   "metadata": {},
   "outputs": [],
   "source": [
    "2*2+5 > 10"
   ]
  },
  {
   "cell_type": "code",
   "execution_count": null,
   "metadata": {},
   "outputs": [],
   "source": [
    "10 > 10"
   ]
  },
  {
   "cell_type": "code",
   "execution_count": null,
   "metadata": {},
   "outputs": [],
   "source": [
    "10 >= 10"
   ]
  },
  {
   "cell_type": "markdown",
   "metadata": {},
   "source": [
    "## Operating on Logical Values\n",
    "We can combine Truth values using logical operators such as ```and``` or ```or```.\n",
    "We can invert a logical value using ```not```.\n",
    "\n",
    "For ```and``` to be ```True```, both parts must be true. For ```or```to be True, it is enough if one of the parts is true.\n",
    "\n",
    "There also is the xor-operator, written as ```^```, which means 'exclusive or'. It is true if exactly one of its inputs is true. This is what often is meant in everyday language by the simple 'or', and said specifically if we use 'either ... or'."
   ]
  },
  {
   "cell_type": "code",
   "execution_count": null,
   "metadata": {},
   "outputs": [],
   "source": [
    "True and True"
   ]
  },
  {
   "cell_type": "code",
   "execution_count": null,
   "metadata": {},
   "outputs": [],
   "source": [
    "True or False"
   ]
  },
  {
   "cell_type": "code",
   "execution_count": null,
   "metadata": {},
   "outputs": [],
   "source": [
    "not False"
   ]
  },
  {
   "cell_type": "code",
   "execution_count": null,
   "metadata": {},
   "outputs": [],
   "source": [
    "# Try out some other combinations, and also use the 'or' operator"
   ]
  },
  {
   "cell_type": "markdown",
   "metadata": {},
   "source": [
    "## Bonus: Truth Tables\n",
    "The following code generates so-called truth tables for the logical operators introduced above (and, or, xor). Truth tables tell you the truth value resulting from each binary combination of True or False using that operator (e.g.: True and True is True, False or False is False,...). They are a way to clearly show what a logical operator is doing.\n"
   ]
  },
  {
   "cell_type": "code",
   "execution_count": null,
   "metadata": {},
   "outputs": [],
   "source": [
    "logicals = [True, False]\n",
    "\n",
    "print(\"Truth Table: AND\")\n",
    "print(\"-----\")\n",
    "for logical in logicals:\n",
    "  print(f\"{logical} and {logical}|\", logical and logical)\n",
    "  print(f\"{logical} and {not logical}|\", logical and not logical)\n",
    "\n",
    "print(\"\\n-----\")\n",
    "print(\"Truth Table: OR\")\n",
    "print(\"-----\")\n",
    "for logical in logicals:\n",
    "  print(f\"{logical} or {logical}|\", logical or logical)\n",
    "  print(f\"{logical} or {not logical}|\", logical or not logical)\n",
    "\n",
    "\n",
    "print(\"\\n-----\")\n",
    "print(\"Truth Table: XOR\")\n",
    "print(\"-----\")\n",
    "for logical in logicals:\n",
    "  print(f\"{logical} xor {logical}|\", logical ^ logical)\n",
    "  print(f\"{logical} xor {not logical}|\", logical ^ (not logical))"
   ]
  },
  {
   "cell_type": "markdown",
   "metadata": {},
   "source": [
    "## Summary and Outlook\n",
    "\n",
    "This notebook introduced logical operations in Python, focusing on logical values and operators such as equality, inequality, and relational comparisons.\n",
    "These are important for creating conditions with which to decide the execution of later parts of code to establish control flow. The next notebook will hence shift towards control flow, and will further explore loops for repeated execution of code blocks."
   ]
  },
  {
   "cell_type": "markdown",
   "metadata": {},
   "source": []
  }
 ],
 "metadata": {
  "kernelspec": {
   "display_name": "base",
   "language": "python",
   "name": "python3"
  },
  "language_info": {
   "codemirror_mode": {
    "name": "ipython",
    "version": 3
   },
   "file_extension": ".py",
   "mimetype": "text/x-python",
   "name": "python",
   "nbconvert_exporter": "python",
   "pygments_lexer": "ipython3",
   "version": "3.12.8"
  }
 },
 "nbformat": 4,
 "nbformat_minor": 2
}
