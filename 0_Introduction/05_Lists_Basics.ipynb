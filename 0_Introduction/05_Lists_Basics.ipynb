{
 "cells": [
  {
   "cell_type": "markdown",
   "metadata": {},
   "source": [
    "# Lists: Collecting and Ordering Variables\n",
    "\n",
    "## Learning Goals\n",
    "\n",
    "* How can we group and order multiple values or variables in lists?\n",
    "* What can we do with grouped values?\n",
    "* How to access elements in lists\n",
    "\n",
    "## Introduction\n",
    "\n",
    "Sometimes, we want to group multiple objects or variables together. One way to do this is by putting them into a so-called __list__.  \n",
    "Lists belong to a larger class of objects representing such collections called iterables. Other iterables you might encounter later are _dictionaries_, or _sets_. \n",
    "Lists are collections of various objects. The objects in a list don't have to be all of the same type - a list can contain both numbers, names, and anything else. \n",
    "\n",
    "## Creating Lists\n",
    "It is very easy to create a list in python, like this:\n",
    "```python\n",
    "\n",
    "    my_list = ['element_1', 'element_2', 'element_3']\n",
    "\n",
    "```\n",
    "—  \n",
    "\n",
    "Lists can store variables of different types together.\n",
    "```python\n",
    "\n",
    "    my_list = [1, \"a word\", 2.6, True]\n",
    "\n",
    "```\n",
    "—  \n",
    "\n",
    "Lists can also contain other lists\n",
    "```python\n",
    "\n",
    "    my_list = [[1,2,3], [4,5]]\n",
    "\n",
    "```\n",
    "—  \n",
    "\n",
    "A list contains a certain number of elements. How many they are is indicated by the length (using the ```len()``` function) of a list:\n",
    "\n",
    "```python\n",
    "    my_list = [1, 2, 3, 4, 5]\n",
    "    len(my_list)\n",
    "    >>> 5\n",
    "\n",
    "```\n",
    "\n",
    "## Accecssing Items in a List\n",
    "In a list, the contents are ordered. You can access them by indicating which number on the list you want to access.  \n",
    "\n",
    "__Important:__ The _first element_ has _index 0_. Indices always start at 0 in Python (and many other programming languages; with Matlab as noteable exception).\n",
    "\n",
    "```python\n",
    "    my_list[0]\n",
    "    >>> 1\n",
    "    my_list[1]\n",
    "    >>> 2\n",
    "```\n",
    "\n",
    "Using negative indices, you can access the last (-1), second-to-last (-2), etc elements, e.g.:\n",
    "\n",
    "```python\n",
    "    my_list[-1]\n",
    "```\n",
    "\n",
    "We will now test some list operations!"
   ]
  },
  {
   "cell_type": "code",
   "execution_count": null,
   "metadata": {},
   "outputs": [],
   "source": [
    "# defining our list \n",
    "my_list = [1, 2, 3, 4, 5, 6, 7 , 8, 9]"
   ]
  },
  {
   "cell_type": "code",
   "execution_count": null,
   "metadata": {},
   "outputs": [],
   "source": [
    "# Get the second element of my_list"
   ]
  },
  {
   "cell_type": "code",
   "execution_count": null,
   "metadata": {},
   "outputs": [],
   "source": [
    "# Get the second-to-last element of my_list"
   ]
  },
  {
   "cell_type": "code",
   "execution_count": null,
   "metadata": {},
   "outputs": [],
   "source": [
    "# Get the number of elements in my_list"
   ]
  },
  {
   "cell_type": "code",
   "execution_count": null,
   "metadata": {},
   "outputs": [],
   "source": [
    "# Try to get the element at index 20!"
   ]
  },
  {
   "cell_type": "code",
   "execution_count": null,
   "metadata": {},
   "outputs": [],
   "source": [
    "# Create a list which contains two lists. How long is that overarching list?"
   ]
  },
  {
   "cell_type": "markdown",
   "metadata": {},
   "source": [
    "What if I want to get e.g. the first three elements from a list? We can _slice_ the list, like this:\n",
    "\n",
    "```python\n",
    "    my_list[0:3]\n",
    "```\n",
    "\n",
    "This will give us the elements at index 0, 1, and 2 (so up to, but not including index 3)."
   ]
  },
  {
   "cell_type": "code",
   "execution_count": null,
   "metadata": {},
   "outputs": [],
   "source": [
    "# Get the second to fourth (inclusive) element from my_list\n"
   ]
  },
  {
   "cell_type": "markdown",
   "metadata": {},
   "source": [
    "We can also indicate the step size for our slicing, e.g., if we want every second element from index 0 to index 6, we can do the following. What happens if you change the step size here (e.g., to 5 or even to 7)?"
   ]
  },
  {
   "cell_type": "code",
   "execution_count": null,
   "metadata": {},
   "outputs": [],
   "source": [
    "my_list[0:6:2] # like this: [including start, excluding stop, step size]"
   ]
  },
  {
   "cell_type": "markdown",
   "metadata": {},
   "source": [
    "The following illustrates the difference between inserting and replacing a list element. Insertion basically 'squeezes' the new value in between the old, while the replacement kicks the old value out."
   ]
  },
  {
   "cell_type": "code",
   "execution_count": null,
   "metadata": {},
   "outputs": [],
   "source": [
    "idx = 3\n",
    "\n",
    "my_list = [1,2,3,4,5]\n",
    "my_list.insert(idx, 0)\n",
    "print(\"insert\", my_list)\n",
    "\n",
    "my_list = [1,2,3,4,5]\n",
    "my_list[idx] = 0\n",
    "print(\"replace\", my_list)"
   ]
  },
  {
   "cell_type": "markdown",
   "metadata": {},
   "source": [
    "## Summary and Outlook\n",
    "\n",
    "This notebook introduced lists in Python, explaining how to group and order multiple variables or values together. It covered how to create lists, access elements using indices (including negative indexing), and perform operations like slicing and insertion. The next notebook will explore more advanced list operations such as combining various lists together and removing elements from existing lists."
   ]
  }
 ],
 "metadata": {
  "language_info": {
   "name": "python"
  }
 },
 "nbformat": 4,
 "nbformat_minor": 2
}
