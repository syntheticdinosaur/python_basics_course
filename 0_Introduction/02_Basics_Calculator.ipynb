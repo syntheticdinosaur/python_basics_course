{
 "cells": [
  {
   "cell_type": "markdown",
   "metadata": {},
   "source": [
    "# Python as a Calculator: Numeric Operations  \n",
    "\n",
    "## Learning Goals  \n",
    "- Perform basic mathematical operations: addition `+`, subtraction `-`, multiplication `*`, division `/`  \n",
    "- Test for equality  \n",
    "- Extra: Integer division (`//`) and modulo (`%`)  \n",
    "\n",
    "## Introduction  \n",
    "Python provides built-in mathematical operations for numerical computations. Like chalk-and board math, it follows standard precedence rules, executing multiplication before addition. Parentheses can be used to clarify order explicitly.  \n",
    "\n",
    "The syntax is straight forward for basic operations, as you will see."
   ]
  },
  {
   "cell_type": "markdown",
   "metadata": {},
   "source": [
    "**Addition**\n",
    "\n",
    "```Python\n",
    "    1 + 1\n",
    "```"
   ]
  },
  {
   "cell_type": "code",
   "execution_count": null,
   "metadata": {},
   "outputs": [],
   "source": [
    "# Try it yourself\n"
   ]
  },
  {
   "cell_type": "markdown",
   "metadata": {},
   "source": [
    "**Subtraction**\n",
    "\n",
    "```python\n",
    "    20 - 30\n",
    "```\n"
   ]
  },
  {
   "cell_type": "code",
   "execution_count": null,
   "metadata": {},
   "outputs": [],
   "source": [
    "# Try it yourself\n"
   ]
  },
  {
   "cell_type": "markdown",
   "metadata": {},
   "source": [
    "**Multiplication**\n",
    "\n",
    "```Python\n",
    "    6 * 7\n",
    "```\n"
   ]
  },
  {
   "cell_type": "code",
   "execution_count": null,
   "metadata": {},
   "outputs": [],
   "source": [
    "# Try it yourself\n"
   ]
  },
  {
   "cell_type": "markdown",
   "metadata": {},
   "source": [
    "**Division**\n",
    "\n",
    "```Python\n",
    "    8 / 3\n",
    "```"
   ]
  },
  {
   "cell_type": "code",
   "execution_count": null,
   "metadata": {},
   "outputs": [],
   "source": [
    "# Try it yourself\n"
   ]
  },
  {
   "cell_type": "markdown",
   "metadata": {},
   "source": [
    "**Combining them**\n",
    "\n",
    "Just as an example, this is how you can combine multiple operators and combine them using parenthesis.\n",
    "\n",
    "```python\n",
    "    (8 + 20) * (5 - 2)/3\n",
    "```"
   ]
  },
  {
   "cell_type": "code",
   "execution_count": null,
   "metadata": {},
   "outputs": [],
   "source": [
    "# Test it yourself\n"
   ]
  },
  {
   "cell_type": "markdown",
   "metadata": {},
   "source": [
    "**Testing for Equality**\n",
    "\n",
    "You can also test whether two expressions are equal/equivalent, i.e., whether they result in the same value.\n",
    "This is done using ```==```. This comparison yields either True or False, so-called boolean or logical values."
   ]
  },
  {
   "cell_type": "code",
   "execution_count": null,
   "metadata": {},
   "outputs": [],
   "source": [
    "print('4 == 3', 4 == 3)\n",
    "print('2 == 2', 2 == 2)\n",
    "print('12*4 == 2*24', 12*4 == 2*24) "
   ]
  },
  {
   "cell_type": "code",
   "execution_count": null,
   "metadata": {},
   "outputs": [],
   "source": [
    "# Test it yourself, e.g.: 3 == 5, 5 * 3 == 15, ...\n"
   ]
  },
  {
   "cell_type": "markdown",
   "metadata": {},
   "source": [
    "You can test some math in the following code block."
   ]
  },
  {
   "cell_type": "code",
   "execution_count": null,
   "metadata": {},
   "outputs": [],
   "source": [
    "# Test some math here, for instance (3-18) * 70/6\n"
   ]
  },
  {
   "cell_type": "markdown",
   "metadata": {},
   "source": [
    "**Extra: Integer Division**  \n",
    "Python also has inbuilt methods for handling integer divisions (i.e., division with remainder), indicated by a double slash ```//```.\n",
    "\n",
    "So in regular division, we have:\n",
    "\n",
    "```Python\n",
    "    7/2\n",
    "    >>> 3.5\n",
    "```\n",
    "In integer division, this is:\n",
    "\n",
    "```python\n",
    "    7//2\n",
    "```\n",
    "quotient:  3  \n",
    "remainder: 1\n",
    "\n",
    "To get the corresponding integer of that division, i.e. 3, we can use the following operator.\n",
    "\n",
    "```Python\n",
    "    7//2\n",
    "    >>> 3\n",
    "```\n",
    "\n",
    "To get the remainder, we can use:\n",
    "\n",
    "```Python\n",
    "    7%2\n",
    "    >>> 1\n",
    "```\n",
    "\n"
   ]
  },
  {
   "cell_type": "code",
   "execution_count": null,
   "metadata": {},
   "outputs": [],
   "source": [
    "# You can try this out a bit here."
   ]
  },
  {
   "cell_type": "markdown",
   "metadata": {},
   "source": [
    "## Summary and Outlook\n",
    "\n",
    "In this notebook, we explored Python’s ability to perform basic mathematical operations, including addition, subtraction, multiplication, and division. We also introduced equality testing using `==`, which returns the logical values `True` or `False`, and covered integer division (`//`). In the next notebook, we will build on these concepts by introducing variables to store and manipulate values more effectively."
   ]
  }
 ],
 "metadata": {
  "language_info": {
   "name": "python"
  }
 },
 "nbformat": 4,
 "nbformat_minor": 2
}
