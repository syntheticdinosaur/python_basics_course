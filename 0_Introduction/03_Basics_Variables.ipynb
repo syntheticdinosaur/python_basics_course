{
 "cells": [
  {
   "cell_type": "markdown",
   "metadata": {},
   "source": [
    "# Naming and Assigning Stuff: Using Variables\n",
    "\n",
    "## Learning Goals:\n",
    "* What are variables?\n",
    "* How to create and use variables\n",
    "* Updating variables with new values\n",
    "\n",
    "\n",
    "## Introduction\n",
    "\n",
    "### Storing Values\n",
    "We now got some exercise using Python as a basic calculator. However, after evaulating an expression (e.g., 1 + 2 = 3), the result was lost and vanished into the aether. Nothing useful happened with it and we couldn't access it at a later time.  \n",
    "\n",
    "To do useful things efficiently in larger programs, a program needs a way to store and manipulate values repeatedly. A way to store a certain value for the program for later work is the assignment of that value to a specific name.\n",
    "\n",
    "### Creating Variables\n",
    "> This creates (or _instantiates_) a __variable__. A simplistic mental model for what a variable does is a box with a label (the variable name), that holds some contents (the so-called value of the variable).\n",
    "\n",
    "In Python, creating variable is very simple, like this in abstract form:\n",
    "\n",
    "```python\n",
    "    some_variable_name = a_value\n",
    "```\n",
    "\n",
    ">Technical term: Here, the equal sign ```=``` is what is called an _assignment operator_. In python, the name of the variable (think of it as the label on the box) is to the left of that operator, and the value (the contents of the box) are on the right of that operator.\n",
    "\n",
    "### Naming Variables\n",
    "The name of a variable is arbitrary insofar as the name has in and of itself nothing to do with the content. Think of it like this: Giving your pet cat the name 'dog' is totally fine, as long as you know 'dog' refers now to your pet cat. Also, your cat remains a cat, even when called 'dog'.\n",
    "Here are some other examples for variables:  \n",
    "\n",
    "```python\n",
    "    apple_price_kg = 3\n",
    "```\n",
    "\n",
    "or:\n",
    "\n",
    "```python\n",
    "    my_cat_name = 'dog'\n",
    "```\n",
    "\n",
    "or:\n",
    "\n",
    "```python\n",
    "    i_like_icecream = True\n",
    "```\n",
    "\n",
    "or:\n",
    "\n",
    "```python\n",
    "    close_enough_to_pi = 3.14\n",
    "```\n",
    "\n",
    "We will now look a bit more into doing things with variables.\n"
   ]
  },
  {
   "cell_type": "markdown",
   "metadata": {},
   "source": [
    "### Create your own variable\n",
    "\n",
    "Create your own variable ```my_var``` with any value you like."
   ]
  },
  {
   "cell_type": "code",
   "execution_count": null,
   "metadata": {},
   "outputs": [],
   "source": [
    "# Create your variable here\n"
   ]
  },
  {
   "cell_type": "markdown",
   "metadata": {},
   "source": [
    "Now run the following to display its value! You see that you can now access the value of the variable in other parts of the code."
   ]
  },
  {
   "cell_type": "code",
   "execution_count": null,
   "metadata": {},
   "outputs": [],
   "source": [
    "print(my_var)"
   ]
  },
  {
   "cell_type": "markdown",
   "metadata": {},
   "source": [
    "### Motivating example: Using and updating variables\n",
    "\n",
    "We are at a supermarket. Apples usually cost 3€ per kg   \n",
    "(just run the next line):"
   ]
  },
  {
   "cell_type": "code",
   "execution_count": null,
   "metadata": {},
   "outputs": [],
   "source": [
    "apple_price_kg = 3\n",
    "print(f\"Apples cost {apple_price_kg}€ per kg.\")"
   ]
  },
  {
   "cell_type": "markdown",
   "metadata": {},
   "source": [
    "We have however a special offer: apples are now 1.50€ cheaper. Let's calculate the new price using variables.  "
   ]
  },
  {
   "cell_type": "markdown",
   "metadata": {},
   "source": [
    "**Subtract the price reduction in the following line of code**"
   ]
  },
  {
   "cell_type": "code",
   "execution_count": null,
   "metadata": {},
   "outputs": [],
   "source": [
    "reduction = 1.5\n",
    "cheap_apple_price_kg = apple_price_kg - reduction\n",
    "print(f\"New offer: Apples are now only {cheap_apple_price_kg}€ per kg!\")"
   ]
  },
  {
   "cell_type": "markdown",
   "metadata": {},
   "source": [
    "__Question:__ Describe what the above code does in terms of variables."
   ]
  },
  {
   "cell_type": "markdown",
   "metadata": {},
   "source": [
    "As you can check, the old price of apples has not changed, i.e., the value of ```apple_price_kg``` is still the same as before, because the result of the subtraction is stored in another variable.\n",
    "\n"
   ]
  },
  {
   "cell_type": "code",
   "execution_count": null,
   "metadata": {},
   "outputs": [],
   "source": [
    "print(\"Standard apple price\")\n",
    "print(apple_price_kg)"
   ]
  },
  {
   "cell_type": "markdown",
   "metadata": {},
   "source": [
    "### Now its your turn\n",
    "\n",
    "Thanks to masterful negotiation, we could achieve a permanent reduction of the standard apple price by 0.5€. Update the variable ```apple_price_kg``` accordingly."
   ]
  },
  {
   "cell_type": "code",
   "execution_count": null,
   "metadata": {},
   "outputs": [],
   "source": [
    "apple_price_kg = # Fill this in."
   ]
  },
  {
   "cell_type": "markdown",
   "metadata": {},
   "source": [
    "## Summary and Outlook\n",
    "\n",
    "This notebook introduced the concept of variables in Python, explaining how to create and assign values to them using the assignment operator `=`. We have explored how variables store values for future use and how to update them with new values. The next notebook will explore different data types that can be stored in variables."
   ]
  }
 ],
 "metadata": {
  "language_info": {
   "name": "python"
  }
 },
 "nbformat": 4,
 "nbformat_minor": 2
}
