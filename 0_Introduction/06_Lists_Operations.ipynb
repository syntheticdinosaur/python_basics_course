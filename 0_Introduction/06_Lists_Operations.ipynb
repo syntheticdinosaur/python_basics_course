{
 "cells": [
  {
   "cell_type": "markdown",
   "metadata": {},
   "source": [
    "# Further list operations\n",
    "\n",
    "\n",
    "## Learning Goals\n",
    "- How to combine multiple lists into a single list\n",
    "- Removing and adding elements to existing lists\n",
    "\n",
    "## Introduction\n",
    "\n",
    "Previously, we saw how to access elements in lists. In this notebook, we will explore how to remove and add elements to lists. Lists are mutable, i.e., after they have been instantiated, they can be changed. This can mean that elements (i.e., the contents) of the list can be removed or exchanged for other elements. This also can mean that new elements are added to the list. Different lists can also be put together to create a new list.  \n",
    "\n",
    " We will explore this in a couple of examples.  \n",
    "\n",
    "## Changing Lists\n",
    "Before coding things yourself, here is a quick overview what changes you can make to lists.  \n",
    "First, we create a shopping list in python: \n",
    "```python\n",
    "    shopping_list = [\"apples\", \"bread\", \"milk\", \"cereal\", \"tomatoes\", \"orange juice\"]\n",
    "```\n",
    "\n",
    "We decide that instead of apples, we want to have oranges. Since apples are the first thing on our list, we can do the following:\n",
    "\n",
    "```python\n",
    "    shopping_list[0] = \"oranges\"\n",
    "```\n",
    "> __Note__   In Python, the _first element has index 0_! An index is something like a position in a order. Think about index as meaning how many steps from the start of the list you need to make to reach your item. Since apples are already at the start, we don't need to take a further step.  \n",
    "\n",
    "Here we directly change the first element of the list to \"oranges\" instead of \"apples\".\n",
    "\n",
    "We can check that we have changed the list by printing it:\n",
    "```python\n",
    "    print(shopping_list)\n",
    "    >>> [\"oranges\", \"bread\", \"milk\", \"cereal\", \"tomatoes\", \"orange juice\"]\n",
    "```\n",
    "\n",
    "## Checking for Membership in a List\n",
    "We can also check whether the changed list contains \"apples\" or \"oranges\" using the keyword ```in```.\n",
    "\n",
    "```python\n",
    "    print(\"apples\" in shopping_list)\n",
    "    >>> False\n",
    "    print(\"oranges\" in shopping_list)\n",
    "    >>> True\n",
    "```\n",
    "\n",
    "Intuitively, to check whether a list doesn't contain a value, you can use ```not in```.\n",
    "\n",
    "```python\n",
    "    print(\"apples\" not in shopping_list)\n",
    "    >>> True\n",
    "```\n",
    "\n"
   ]
  },
  {
   "cell_type": "markdown",
   "metadata": {},
   "source": [
    "## Combining Lists and Removing Elements"
   ]
  },
  {
   "cell_type": "markdown",
   "metadata": {},
   "source": [
    "Lists are combined easily, just use the ```+``` operator between two lists¹.\n",
    "\n",
    "¹ This behavior is called 'operator overloading'. For numbers, `+` performed addition, for lists, it merges the lists into a new one. You will encounter operator overloading in other contexts as well."
   ]
  },
  {
   "cell_type": "code",
   "execution_count": null,
   "metadata": {},
   "outputs": [],
   "source": [
    "fruits = [\"apples\", \"pears\", \"melons\"]\n",
    "vegetables = [\"tomatoes\", \"turnips\", \"onions\"]\n",
    "\n",
    "print(fruits + vegetables)"
   ]
  },
  {
   "cell_type": "markdown",
   "metadata": {},
   "source": [
    "For adding individual items to a list, the ```.append()``` method can be used, like this:\n"
   ]
  },
  {
   "cell_type": "code",
   "execution_count": null,
   "metadata": {},
   "outputs": [],
   "source": [
    "fruits.append(\"banana\")\n",
    "print(fruits)"
   ]
  },
  {
   "cell_type": "markdown",
   "metadata": {},
   "source": [
    "To remove a specific element, we can use the ```.remove()``` method. It only removes the first occurence however.\n",
    "\n",
    "\n"
   ]
  },
  {
   "cell_type": "code",
   "execution_count": null,
   "metadata": {},
   "outputs": [],
   "source": [
    "fruits.remove(\"banana\")\n",
    "print(fruits)"
   ]
  },
  {
   "cell_type": "markdown",
   "metadata": {},
   "source": [
    "You can also insert values at a specific index in a list:"
   ]
  },
  {
   "cell_type": "code",
   "execution_count": null,
   "metadata": {},
   "outputs": [],
   "source": [
    "position = 1\n",
    "fruits.insert(position, 'papaya')\n",
    "print(fruits)"
   ]
  },
  {
   "cell_type": "markdown",
   "metadata": {},
   "source": [
    "You can replace elements in a list at a specific index like this:\n"
   ]
  },
  {
   "cell_type": "code",
   "execution_count": null,
   "metadata": {},
   "outputs": [],
   "source": [
    "fruits[1] = 'mango'\n",
    "print(fruits)"
   ]
  },
  {
   "cell_type": "markdown",
   "metadata": {},
   "source": [
    "## Exercise\n",
    "\n",
    "We did the fruits together, now you can do the vegetables.  \n",
    "Here are your tasks!\n",
    "1. Add some potatoes to the end of the vegetable list.\n",
    "2. Remove turnips\n",
    "3. Insert peas after the first element\n",
    "4. Insert beans after the last element\n",
    "5. Replace the second vegetable in the list with a vegetable of your choosing.\n",
    "\n",
    "After each step, print the list of vegetables!"
   ]
  },
  {
   "cell_type": "code",
   "execution_count": null,
   "metadata": {},
   "outputs": [],
   "source": [
    "# Work on the vegetable list here\n",
    "\n",
    "vegetables = [\"tomatoes\", \"turnips\", \"onions\"]\n",
    "\n",
    "# 1. add potatoes\n",
    "# 2. remove turnips\n",
    "# 3. insert peas after first element\n",
    "# 4. insert beans after last element\n",
    "# 5. replace the second vegetable"
   ]
  },
  {
   "cell_type": "code",
   "execution_count": null,
   "metadata": {},
   "outputs": [],
   "source": [
    "# Check whether potatoes are now in our vegetable list."
   ]
  },
  {
   "cell_type": "markdown",
   "metadata": {},
   "source": [
    "## Popping from a list\n",
    "\n",
    "Sometimes, we want to collect things in a list, do something with each element, and then remove that element from that list once we have used it for.  __To access an individual element at a specific index from a list and to remove that element from the list in one go, the ```pop()``` method can be used__. By default, the last element is removed, but you can specify the desired index within the parentheses, e.g. `my_list.pop(1)` pops the element at index 1.\n",
    "\n"
   ]
  },
  {
   "cell_type": "code",
   "execution_count": null,
   "metadata": {},
   "outputs": [],
   "source": [
    "pop_this = [\"First\", \"Second\", \"Third\"]\n",
    "print(\"Popped from list:\", pop_this.pop())\n",
    "print(\"List after pop\", pop_this)\n"
   ]
  },
  {
   "cell_type": "code",
   "execution_count": null,
   "metadata": {},
   "outputs": [],
   "source": [
    "pop_this = [\"First\", \"Second\", \"Third\"]\n",
    "print(\"Popped from list:\", pop_this.pop(0))\n",
    "print(\"List after pop\", pop_this)"
   ]
  },
  {
   "cell_type": "markdown",
   "metadata": {},
   "source": [
    "## Summary and Outlook\n",
    "\n",
    "Lists represent an ordered collection of objects, and objects in a list can be of different types. List items are often just accessed via their index, but you can search for values, too, with appropriate methods.\n",
    "This notebook covered various operations for modifying lists in Python, including combining lists, adding and removing elements, and checking for membership. It also introduced methods like `pop()` for accessing and removing list elements in one step. The next notebook will explore other types of iterables, such as sets and dictionaries.\n",
    "\n"
   ]
  }
 ],
 "metadata": {
  "language_info": {
   "name": "python"
  }
 },
 "nbformat": 4,
 "nbformat_minor": 2
}
