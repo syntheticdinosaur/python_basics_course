{
 "cells": [
  {
   "cell_type": "markdown",
   "metadata": {},
   "source": [
    "# Variable Types\n",
    "\n",
    "## Learning Goals\n",
    "* What different types of values exist in variables\n",
    "* How to get the type of a variable\n",
    "* What different data types mean in practical applications\n",
    "\n",
    "## Introduction\n",
    "In the previous section, we saw that there are different things a variable can store, such as a name or a numerical value.\n",
    "For instance we have:\n",
    "\n",
    "* Numerical values such as ```apple_price_kg``` which is an integer number,   \n",
    "or ```close_enough_pi```, which is a number with decimal places\n",
    "* Words and letters, such as ```my_cat_name```\n",
    "* Logical values, such as ```i_like_icecream```\n",
    "\n",
    "&nbsp;\n",
    "\n",
    "## Getting the type of a variable\n",
    "There are multiple inbuilt data types in Python.  \n",
    "To find out what type your variable is, you can just type:\n",
    "\n",
    "```python\n",
    "    type(your_variable_name)\n",
    "```\n",
    "\n",
    "In the following, you will see some of the data types in Python."
   ]
  },
  {
   "cell_type": "code",
   "execution_count": null,
   "metadata": {},
   "outputs": [],
   "source": [
    "# Let's test some data types\n",
    "a_number = 1\n",
    "type(a_number)"
   ]
  },
  {
   "cell_type": "code",
   "execution_count": null,
   "metadata": {},
   "outputs": [],
   "source": [
    "# And another one\n",
    "words = \"Some words\"\n",
    "type(words)"
   ]
  },
  {
   "cell_type": "code",
   "execution_count": null,
   "metadata": {},
   "outputs": [],
   "source": [
    "# Once more\n",
    "decimal_number = 1.2345\n",
    "type(decimal_number)"
   ]
  },
  {
   "cell_type": "code",
   "execution_count": null,
   "metadata": {},
   "outputs": [],
   "source": [
    "# Enough for now.\n",
    "types_are_cool = True\n",
    "type(types_are_cool)"
   ]
  },
  {
   "cell_type": "markdown",
   "metadata": {},
   "source": [
    "## Inbuilt Types\n",
    "So we got some interesting types,```int, str, float, bool```.\n",
    "- ```int``` (integer) and ```float``` (floating point) refer to numbers\n",
    "- ```str``` (string) to a text\n",
    "- ```bool``` (boolean) to a truth value, which is sometimes also called a logical value (```True``` or ```False```).\n",
    "\n",
    "We will explore these a bit more in the following.\n",
    "\n",
    "## String Variables\n",
    "\n",
    "_A note on strings_: To create a string, you can use either double quotes ```\"``` or single quotes ```'```. Both ways create identical objects of the same type, see the following example:"
   ]
  },
  {
   "cell_type": "code",
   "execution_count": null,
   "metadata": {},
   "outputs": [],
   "source": [
    "first_string  = \"Test\"\n",
    "second_string = 'Test'\n",
    "\n",
    "print(\"All python strings are created equal, no matter their quotation marks.\")\n",
    "first_string == second_string\n"
   ]
  },
  {
   "cell_type": "markdown",
   "metadata": {},
   "source": [
    "You can use the different quotation marks to have quotes within a string, like this."
   ]
  },
  {
   "cell_type": "code",
   "execution_count": null,
   "metadata": {},
   "outputs": [],
   "source": [
    "print(\"I am a 'quote'\")"
   ]
  },
  {
   "cell_type": "markdown",
   "metadata": {},
   "source": [
    "### Exercise\n",
    "\n",
    "* Create a variable ```my_age``` that stores your age in years.\n",
    "* Create a variable ```my_name``` that stores your first name.\n",
    "* Create a variable ```like_blue```that indicates whether you like the colour blue or not.\n",
    "\n",
    "__Question:__ What type of variable do you expect each variable to be?"
   ]
  },
  {
   "cell_type": "code",
   "execution_count": null,
   "metadata": {},
   "outputs": [],
   "source": [
    "# my_age"
   ]
  },
  {
   "cell_type": "code",
   "execution_count": null,
   "metadata": {},
   "outputs": [],
   "source": [
    "# my_name"
   ]
  },
  {
   "cell_type": "code",
   "execution_count": null,
   "metadata": {},
   "outputs": [],
   "source": [
    "# like_blue"
   ]
  },
  {
   "cell_type": "markdown",
   "metadata": {},
   "source": [
    "Great! Now just run the next line for a computer generated introduction of yourself."
   ]
  },
  {
   "cell_type": "code",
   "execution_count": null,
   "metadata": {},
   "outputs": [],
   "source": [
    "print(f'Hello! My name is {my_name} and I am {my_age} years old. I am learning Python now. \\\n",
    "I {\"dislike\" if not like_blue else \"like\"} the colour blue.')"
   ]
  },
  {
   "cell_type": "markdown",
   "metadata": {},
   "source": [
    "### Bonus: Useful stuff to know about types.\n",
    "\n",
    "What are the consequences of different variable types? Why do we even care about variable type?  \n",
    "\n",
    "The Python approach is as follows: a type is less about a formal definition, but more about what a variable of a certain type can and can't do, about which operations make sense with it. Without delving too deep, Python normally only sees what a variable or an object can do - it doesn't care what it fundamentally is, as long as it supports necessary operations.\n",
    "\n",
    "> Such an approach is often referred to as duck typing: If it walks like a duck, quacks like a duck, etc... it is, for our purposes, a duck.\n",
    "\n",
    "Usually, variables of the same type can be combined in consistent ways. We will explore that here in a short example."
   ]
  },
  {
   "cell_type": "markdown",
   "metadata": {},
   "source": [
    "For instance, combining two words (i.e., two Python strings) makes intuitive sense. It is therefore implemented using ```+``` between strings."
   ]
  },
  {
   "cell_type": "code",
   "execution_count": null,
   "metadata": {},
   "outputs": [],
   "source": [
    "\"a string\" + \" and \" + \"another string\""
   ]
  },
  {
   "cell_type": "markdown",
   "metadata": {},
   "source": [
    "But that doesn't work if done with a number and a string. Run the code and check the result. What does it tell you?"
   ]
  },
  {
   "cell_type": "code",
   "execution_count": null,
   "metadata": {},
   "outputs": [],
   "source": [
    "4.16 + \"a word\""
   ]
  },
  {
   "cell_type": "markdown",
   "metadata": {},
   "source": [
    "We get a so-called ```TypeError```. What does it for instance even mean to combine the number 4.16 and a word? For Python, it's just nonsense."
   ]
  },
  {
   "cell_type": "markdown",
   "metadata": {},
   "source": [
    "Similarly, it's not clear what subtracting two words from another should look like (especially if one word contains letters that the other one doesnt, as there are no negative letters so to speak). Hence, the following throws an error:"
   ]
  },
  {
   "cell_type": "code",
   "execution_count": null,
   "metadata": {},
   "outputs": [],
   "source": [
    "\"test\" - \"jest\""
   ]
  },
  {
   "cell_type": "markdown",
   "metadata": {},
   "source": [
    "Similar problems do not arise if we use for instance a floating point number and an integer. There is a consistent way to combine them in different ways (addition, division, etc.), namely. It is just that the result will most likely not be an integer, but again a floating point number.\n",
    "\n"
   ]
  },
  {
   "cell_type": "code",
   "execution_count": null,
   "metadata": {},
   "outputs": [],
   "source": [
    "an_integer = int(4)\n",
    "a_float = 5.6\n",
    "\n",
    "result = an_integer + a_float\n",
    "print(result)\n",
    "print(type(result))"
   ]
  },
  {
   "cell_type": "markdown",
   "metadata": {},
   "source": [
    "This can also happen when you update a variable using some operations. What type will ```my_number```be after the following code has run through?"
   ]
  },
  {
   "cell_type": "code",
   "execution_count": null,
   "metadata": {},
   "outputs": [],
   "source": [
    "my_number = 5\n",
    "print(f\"My number {my_number} is of type\", type(my_number))\n",
    "divisor = 3\n",
    "my_number = my_number / divisor\n",
    "print(f\"After division, my number {my_number} is of type\", type(my_number))"
   ]
  },
  {
   "cell_type": "markdown",
   "metadata": {},
   "source": [
    "# Summary and Outlook\n",
    "\n",
    "This notebook introduced various variable types in Python, such as integers, strings, floats, and booleans, and explained how to determine their types using the `type()` function. It also highlighted how Python operations behaved differently based on variable types, especially when combining variables of different types. The next notebook will explore lists and how to work with collections of values in Python."
   ]
  }
 ],
 "metadata": {
  "language_info": {
   "name": "python"
  }
 },
 "nbformat": 4,
 "nbformat_minor": 2
}
