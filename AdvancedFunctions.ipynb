{
 "cells": [
  {
   "cell_type": "markdown",
   "id": "0c2b20f7-43d5-4f62-ad8f-e6736a400594",
   "metadata": {},
   "source": [
    "# Advanced Functions\n",
    "\n",
    "In this notebook, we will explore some more advanced concepts of functions in Python.\n",
    "We will discuss scope, see that functions can be passed like any other object, construct functions with persistent states, and learn how to use partial functions."
   ]
  },
  {
   "cell_type": "markdown",
   "id": "eef52145-1890-4456-8096-da2bdd299032",
   "metadata": {},
   "source": [
    "# Scope\n",
    "\n",
    "Variables in Python can exist on different levels, known as scopes. A scope defines where a variable is accessible. For example, variables defined inside a function are local to that function, while those defined outside are global.\n",
    "\n",
    "Python determines which variable to use based on the nearest enclosing scope. Changes to a variable inside a function don’t affect the same-named variable outside, unless explicitly told to.\n",
    "\n",
    "To illustrate this, consider the following code:\n",
    "\n",
    "```python\n",
    "\n",
    "msg = \"Message One\"\n",
    "\n",
    "def a_function():\n",
    "\n",
    "    msg = \"Message Two\"\n",
    "    print(msg)\n",
    "\n",
    "a_function()\n",
    "print(msg)\n",
    "```\n",
    "\n",
    "What do you think each print will output, and why?"
   ]
  },
  {
   "cell_type": "markdown",
   "id": "4d05f2bd-5561-4fa7-9d12-688a7bc96036",
   "metadata": {},
   "source": [
    "Absolutely — here’s your updated section with a clear introductory explanation that ties directly into the example:\n",
    "\n",
    "---\n",
    "\n",
    "# Changing Scope\n",
    "\n",
    "By default, variables in Python are confined to the scope in which they are defined, most often the *local* scope of a function. However, in some cases, you may want a variable to persist beyond its local scope or affect an outer one. Python allows you to change a variable’s scope using keywords like `global` and `nonlocal`.\n",
    "\n",
    "In general, modifying scope like this should be done with care. It’s sometimes necessary, though.\n",
    "\n",
    "Take a look at this example. What will happen in the last line?\n",
    "\n",
    "```python\n",
    "def a_function():\n",
    "    msg2 = \"Message Two\"\n",
    "    print(msg2)\n",
    "\n",
    "a_function()\n",
    "print(msg2)  # (!) What happens here?\n",
    "```\n",
    "\n",
    "Why does this cause an error (or not)? What does it say about where `msg2` lives?\n"
   ]
  },
  {
   "cell_type": "markdown",
   "id": "7b41bdd4-bca8-410f-b622-0c021ce36ee6",
   "metadata": {},
   "source": [
    "## Working with Scopes\n",
    "\n",
    "Before assigning a variable, or even after it’s been created,you can declare it as a **global variable** using the `global` keyword. This tells Python to use the variable from the *global scope*, not create a new local one.\n",
    "\n",
    "```python\n",
    "global some_variable\n",
    "some_variable = True\n",
    "```\n",
    "\n",
    "### (1) Try it yourself\n",
    "\n",
    "Use `global` in `a_function()` to make `msg2` a global variable. Then try printing `msg2` outside the function. What happens?\n",
    "\n",
    "```python\n",
    "def a_function():\n",
    "    # Make msg2 global and assign it\n",
    "    pass\n",
    "\n",
    "a_function()\n",
    "print(msg2)\n",
    "```\n",
    "\n",
    "---\n",
    "\n",
    "### (2) What happens here?\n",
    "\n",
    "Make the variable in the following code global. What do you think will happen when the last line is executed?\n",
    "\n",
    "```python\n",
    "def scope_test():\n",
    "    global some_var\n",
    "    some_var = 1\n",
    "\n",
    "print(some_var)\n",
    "```\n",
    "\n",
    "Think about:\n",
    "\n",
    "* Will this print `1`?\n",
    "* Does the function need to be *called* for the assignment to take effect?\n"
   ]
  },
  {
   "cell_type": "markdown",
   "id": "61cd839b-b05f-4d99-99e6-71d355891ef2",
   "metadata": {},
   "source": [
    "# What Does Scope Mean Practically?\n",
    "\n",
    "When a function finishes running, it usually returns a value and **all its local variables disappear**, they become inaccessible and ready for garbage collection. This is often what you want, keeping things clean and memory-efficient.\n",
    "\n",
    "But sometimes, you want a function to **remember some state** between calls. You can do this with classes, but they can be more complex than necessary.\n",
    "\n",
    "Next, we’ll explore a powerful pattern called **closures** that let functions keep state without needing full classes. But first, we have to talk about functions inside functions.\n"
   ]
  },
  {
   "cell_type": "markdown",
   "id": "898bb201-2258-4fe6-8cf9-6a123e5addc1",
   "metadata": {},
   "source": [
    "# A Note on Nested Functions\n",
    "\n",
    "Functions can be defined inside other functions. Inner functions have access to variables in their enclosing (outer) function, even if those variables aren’t passed explicitly.\n",
    "\n",
    "For example look at the following function:\n",
    "\n",
    "```python\n",
    "def outer_func(x):\n",
    "    def inner_func():\n",
    "        print(x)\n",
    "        \n",
    "    inner_func()\n",
    "    print(x)\n",
    "```\n",
    "\n",
    "Try modifying the value of `x` inside `inner_func()`. What do you expect the output to be?\n",
    "Will changing `x` inside the inner function affect the `x` in the outer function? Why or why not?\n"
   ]
  },
  {
   "cell_type": "code",
   "execution_count": 30,
   "id": "d09097dd-3dff-4969-a4a1-184c044893b2",
   "metadata": {},
   "outputs": [],
   "source": [
    "# Try it here\n",
    "def outer_func(x):\n",
    "    def inner_func():\n",
    "        pass # Do something instead\n",
    "    inner_func()\n",
    "    print(x)"
   ]
  },
  {
   "cell_type": "markdown",
   "id": "316c6b23-1115-4c92-b709-f7f79b8c05fa",
   "metadata": {},
   "source": [
    "We could of course declare the variable as `global`, but that would make it accessible everywhere in our workspace, which is usually not what we want. Often, we just want the _inner and outer functions_ to **share and modify** the variable between them.\n",
    "\n",
    "To do this, Python provides the `nonlocal` keyword. It allows the inner function to modify a variable defined in the **nearest enclosing scope** (but not global).\n",
    "\n",
    "Try using `nonlocal` in the example above to make sure changes to `x` inside the inner function update the `x` in the outer function.\n"
   ]
  },
  {
   "cell_type": "code",
   "execution_count": 39,
   "id": "03e04a33-19d8-447b-ae24-93204f114b27",
   "metadata": {},
   "outputs": [],
   "source": [
    "# Try it here\n",
    "def outer_func(x):\n",
    "    def inner_func():\n",
    "        pass # Do something instead     \n",
    "    inner_func()\n",
    "    print(x)"
   ]
  },
  {
   "cell_type": "markdown",
   "id": "ba8c045b-a173-4df6-ad19-e59120fe4aca",
   "metadata": {},
   "source": [
    "# Functions can be passed like everything else\n",
    "\n",
    "In Python, functions are first-class objects. This means you can return them from other functions, assign them to variables, and pass them around just like numbers or strings.\n",
    "This becomes especially powerful when combined with nested functions and closures, which are functions that remember the environment they were created in.\n",
    "Let’s look at a small example to see how this works in practice (the following is valid, legal Python):\n",
    "\n",
    "```python\n",
    "\n",
    "def func():\n",
    "    def _inner():\n",
    "        return True\n",
    "    return _inner # This returns a proper function, not its evaluation!\n",
    "\n",
    "true_function = func()\n",
    "is_it_true = true_function()\n",
    "\n",
    "print(f\"Is it True: {is_it_true}\")\n",
    "\n",
    "```\n",
    "\n",
    "What do we see here? Where could this be useful?"
   ]
  },
  {
   "cell_type": "code",
   "execution_count": 35,
   "id": "36f000de-b7b6-456c-8250-5517f646b9b4",
   "metadata": {},
   "outputs": [],
   "source": [
    "# Try here"
   ]
  },
  {
   "cell_type": "markdown",
   "id": "07fd51f5-4de8-45f6-86c7-971ff8c7fc36",
   "metadata": {},
   "source": [
    "# Implementing functions with persistent states\n",
    "\n",
    "We can use our knowledge about nested functions, the option to return functions themselves, and variable scopes, to now design a closure.\n",
    "Namely, a counter. A counter function ```c``` should have an internal state of the number of previous iterations, and an inner function that increments this state when it is called.\n",
    "\n",
    "In the end, this is what you should get:\n",
    "\n",
    "```python\n",
    "counter = c()\n",
    "print(counter()) \n",
    ">>> 1\n",
    "print(counter())\n",
    ">>> 2\n",
    "print(counter())\n",
    ">>> 3\n",
    "```\n",
    "\n",
    "## Steps\n",
    "\n",
    "1.  __Define the outer function__. Create a function that will hold a counter variable.\n",
    "\n",
    "\n",
    "2. __Define the inner function.__ Inside it, define another function that updates and returns the counter.\n",
    "\n",
    "\n",
    "3. __Use correct scope__. Make sure the inner function modifies the outer variable (not just reads it).\n",
    "\n",
    "\n",
    "4. __Return the inner function__. Return the inner function (!) so it can access the stored state when called.\n",
    "\n",
    "\n",
    "\n"
   ]
  },
  {
   "cell_type": "code",
   "execution_count": 21,
   "id": "b2bb55c0-3a99-48e5-bb98-c9fa5930f3d3",
   "metadata": {},
   "outputs": [],
   "source": [
    "# Implement here"
   ]
  },
  {
   "cell_type": "markdown",
   "id": "6f0a8d1c-27ae-458f-933e-82bc4d32877e",
   "metadata": {},
   "source": [
    "# Partial Functions\n",
    "\n",
    "Functions can have many inputs. In some cases, such as plotting, we would call the same function repeatidly, with most arguments staying the same, except for one or two. One such case is preparing plots with identical plotting settings for different datasets. \n",
    "\n",
    "Let's have a look at the following function:\n",
    "\n",
    "```python\n",
    "\n",
    "def add_and_multiply(x, add, factor):\n",
    "    return (x + add)*factor\n",
    "    \n",
    "```\n",
    "\n",
    "Maybe we want to have a function ```add_and_multiply_by_2(x, add)``` that allows us to add an arbitrary number, but we always multiply by 2. How could we do that __using__ the machinery of ```add_and_multiply``` without a full rewrite?\n",
    "\n"
   ]
  },
  {
   "cell_type": "code",
   "execution_count": 43,
   "id": "57c0f7aa-fa0d-41a7-982b-f66f2d8542cb",
   "metadata": {},
   "outputs": [],
   "source": [
    "# Try it here\n",
    "def add_and_multiply(x, add, factor):\n",
    "    \"\"\" This functions adds 'add' to 'x', and then multiplies the result by 'factor'.\"\"\"\n",
    "    return (x + add)*factor\n",
    "\n",
    "# define add_and_multiply_2 here!"
   ]
  },
  {
   "cell_type": "markdown",
   "id": "6ccbae47-cf20-4465-a8b9-019e19dd7bd8",
   "metadata": {},
   "source": [
    "# Partial Module\n",
    "\n",
    "Python’s `functools` module provides a convenient tool called `partial` that lets you **fix certain arguments** of a function and generate a new function with fewer parameters.\n",
    "\n",
    "This helps when you want to reuse an existing function but with some arguments preset.\n",
    "\n",
    "---\n",
    "\n",
    "### How to use `partial`\n",
    "\n",
    "```python\n",
    "from functools import partial\n",
    "\n",
    "def add_and_multiply(x, add, factor):\n",
    "    return (x + add) * factor\n",
    "\n",
    "add_and_multiply_by_2 = partial(add_and_multiply, factor=2)\n",
    "\n",
    "print(add_and_multiply_by_2(5, add=3))  # (5 + 3) * 2 = 16\n",
    "print(add_and_multiply_by_2(2, add=4))  # (2 + 4) * 2 = 12\n",
    "```\n",
    "\n",
    "---\n",
    "\n",
    "### What just happened?\n",
    "\n",
    "* We used `partial` to fix the `factor` argument to `2`.\n",
    "* The new function `add_and_multiply_by_2` now only requires `x` and `add`.\n",
    "* This avoids rewriting the original function or creating new wrapper functions manually.\n",
    "\n",
    "---\n",
    "\n",
    "### Try it yourself!\n",
    "\n",
    "* Use `partial` to fix different arguments of functions you use often.\n",
    "* Experiment with chaining multiple `partial` calls for more complex use cases.\n",
    "\n",
    "\n"
   ]
  },
  {
   "cell_type": "code",
   "execution_count": 46,
   "id": "a25e9b19-9ff1-4baa-be80-44881ba0abf0",
   "metadata": {},
   "outputs": [],
   "source": [
    "from functools import partial\n",
    "add_and_multiply_by_2 = partial(add_and_multiply, factor=2)\n",
    "\n"
   ]
  },
  {
   "cell_type": "markdown",
   "id": "a5a2b2cb-7ee8-4e63-beaf-38fd50c978c6",
   "metadata": {},
   "source": [
    "# Callback Functions\n",
    "\n",
    "\n",
    "Sometimes we want one function to trigger another, either **after** or **during** its execution. A function passed for this purpose is called a **callback**.\n",
    "\n",
    "```python\n",
    "def callback():\n",
    "    print(\"Execution Done\")\n",
    "\n",
    "def compute_sum(a, b, callback=lambda: None):\n",
    "    result = a + b\n",
    "    callback()\n",
    "    return result\n",
    "```\n",
    "\n",
    "The default `lambda: None` ensures that the callback is optional — it safely does nothing if not provided.\n",
    "\n",
    "This pattern is useful when **other functions or objects need to react** to what just happened, for example, logging results, updating UI elements, or triggering notifications.\n",
    "\n",
    "Try passing different callback functions that, say, log the result or modify a global state.\n",
    "\n"
   ]
  },
  {
   "cell_type": "markdown",
   "id": "85e069ec-018f-489d-aaf7-d621ad838a86",
   "metadata": {},
   "source": [
    "### Callback Exercise\n",
    "\n",
    "Sometimes we want a callback to respond to **what was computed**, not just that something happened. Modify the code so that the callback receives the result and logs it:\n",
    "\n",
    "```python\n",
    "def log_result(result):\n",
    "    pass # Implement here\n",
    "\n",
    "def compute_sum(a, b, callback=lambda result: None):  \n",
    "    result = a + b\n",
    "    callback(result)\n",
    "    return result\n",
    "\n",
    "# Example usage\n",
    "compute_sum(5, 7, log_result)  # Should print: Sum was: 12\n",
    "compute_sum(2, 2)              # Should print nothing\n",
    "```"
   ]
  },
  {
   "cell_type": "code",
   "execution_count": null,
   "id": "4bf7ea82-f261-41ed-be03-363897449a7b",
   "metadata": {},
   "outputs": [],
   "source": [
    "# Try it here"
   ]
  },
  {
   "cell_type": "markdown",
   "id": "6fd64381-15a9-4256-baa2-9f37cddf2af6",
   "metadata": {},
   "source": [
    "\n",
    "### More complicated callback\n",
    "\n",
    "Write a callback that:\n",
    "\n",
    "* Appends results to a list `history`\n",
    "* Then call `compute_sum` multiple times and check what's in `history`\n",
    "* Optionally, log the inputs and outputs in a dicitonary, or another suitable data structure.\n",
    "\n",
    "```python\n",
    "history = []\n",
    "\n",
    "# TODO: Write a callback that appends to history\n",
    "\n",
    "compute_sum(3, 4, ...)  \n",
    "compute_sum(5, 1, ...)  \n",
    "\n",
    "print(history)  # Should contain [7, 6]\n",
    "```\n",
    "\n"
   ]
  },
  {
   "cell_type": "code",
   "execution_count": 62,
   "id": "491fe8c5-fbee-4f5c-be83-8fc697cfd0b0",
   "metadata": {},
   "outputs": [],
   "source": [
    "# Try it here"
   ]
  },
  {
   "cell_type": "markdown",
   "id": "2cc70268-ed9c-4f93-9bbc-ef2c0894e52c",
   "metadata": {},
   "source": [
    "# Function Decorators\n",
    "\n",
    "In Python, **decorators** are a shorthand way to modify or extend the behavior of functions, without changing their actual code. They are built using **higher-order functions** and often make use of **closures**.\n",
    "\n",
    "Think of a decorator as **a wrapper**: something that takes a function, does something *before* or *after* it runs, and then returns a modified function.\n",
    "\n",
    "Here’s the basic structure:\n",
    "\n",
    "```python\n",
    "def my_decorator(func):\n",
    "    def wrapper():\n",
    "        print(\"Before the function runs\")\n",
    "        func()\n",
    "        print(\"After the function runs\")\n",
    "    return wrapper\n",
    "```\n",
    "\n",
    "You can then apply this decorator to a function using the `@` syntax:\n",
    "\n",
    "```python\n",
    "@my_decorator\n",
    "def say_hello():\n",
    "    print(\"Hello!\")\n",
    "\n",
    "say_hello()\n",
    "```\n",
    "\n",
    "This would output:\n",
    "\n",
    "```\n",
    "Before the function runs\n",
    "Hello!\n",
    "After the function runs\n",
    "```\n",
    "\n",
    "Decorators are especially useful for things like:\n",
    "\n",
    "* Logging\n",
    "* Timing functions\n",
    "* Reusing boilerplate logic across many functions\n"
   ]
  },
  {
   "cell_type": "markdown",
   "id": "4cfdaee3-01be-457f-a26d-271b788a0e6b",
   "metadata": {},
   "source": [
    "## Memoization\n",
    "\n",
    "Memoization helps avoid repeated work by caching results of expensive function calls. It’s especially useful for recursive algorithms like the Fibonacci sequence.\n",
    "#### 0. The Fibonacci Sequence\n",
    "\n",
    "```python\n",
    "def fibonacci(n):\n",
    "    if n < 2:\n",
    "        return n\n",
    "    return fibonacci(n - 1) + fibonacci(n - 2)\n",
    "```\n",
    "\n",
    "#### Caching values\n",
    "\n",
    "Create a function `memoize` that takes another function as input, and returns a new version that remembers results it has already computed.\n",
    "\n",
    "Hints:\n",
    "\n",
    "* Use a dictionary called `cache` to store results.\n",
    "* Before computing, check if the result already exists in `cache`.\n",
    "\n",
    "\n",
    "\n",
    "#### 2. Use it.\n",
    "\n",
    "Define a basic recursive `fibonacci(n)` function.\n",
    "\n",
    "Then wrap it like this:\n",
    "\n",
    "```python\n",
    "fibonacci = memoize(fibonacci)\n",
    "```\n",
    "\n",
    "Now `fibonacci(35)` should run **much faster** than a naive implementation.\n",
    "\n",
    "---\n",
    "\n",
    "#### 3. Verify\n",
    "\n",
    "Try printing or counting how many times the original function is actually called.\n",
    "\n",
    "Can you explain why memoization improves performance here?\n",
    "\n"
   ]
  },
  {
   "cell_type": "code",
   "execution_count": 71,
   "id": "6d8a1514-9915-47ee-9049-becd2567c94a",
   "metadata": {},
   "outputs": [],
   "source": [
    "def fibonacci(n):\n",
    "    if n < 2:\n",
    "        return n\n",
    "    return fibonacci(n - 1) + fibonacci(n - 2)\n"
   ]
  },
  {
   "cell_type": "code",
   "execution_count": 82,
   "id": "23a22c1b-5687-448d-944a-87acbe0fd491",
   "metadata": {},
   "outputs": [
    {
     "data": {
      "text/plain": [
       "102334155"
      ]
     },
     "execution_count": 82,
     "metadata": {},
     "output_type": "execute_result"
    }
   ],
   "source": [
    "fibonacci(40)"
   ]
  },
  {
   "cell_type": "code",
   "execution_count": null,
   "id": "b51227a4-9398-4c35-8f83-4fa3800287f1",
   "metadata": {},
   "outputs": [],
   "source": [
    "# EXAMPLE SOLUTION\n",
    "\n",
    "import time\n",
    "\n",
    "\n",
    "\n",
    "\n",
    "\n",
    "\n",
    "\n",
    "\n",
    "def cache(func):\n",
    "    cache = {}\n",
    "    def wrapper(n):\n",
    "        if n not in cache:\n",
    "            cache[n] = func(n)\n",
    "        return cache[n]\n",
    "    return wrapper\n",
    "\n",
    "@cache\n",
    "def fibonacci(n):\n",
    "    if n < 2:\n",
    "        return n\n",
    "    return fibonacci(n - 1) + fibonacci(n - 2)\n",
    "\n",
    "print(fibonacci(50)) \n"
   ]
  },
  {
   "cell_type": "code",
   "execution_count": 113,
   "id": "f3a9c4d1-1e56-48ad-8973-c5be92fc78a0",
   "metadata": {},
   "outputs": [
    {
     "name": "stdout",
     "output_type": "stream",
     "text": [
      "Fibonacci Number 35 is 9227465\n",
      "Function was called 29860703 times\n"
     ]
    }
   ],
   "source": [
    "call_count = 0\n",
    "\n",
    "def fibonacci(n):\n",
    "    global call_count\n",
    "    call_count += 1\n",
    "    if n < 2:\n",
    "        return n\n",
    "    return fibonacci(n - 1) + fibonacci(n - 2)\n",
    "\n",
    "n = 35\n",
    "print(f\"Fibonacci Number {n} is {fibonacci(n)}\")\n",
    "print(f\"Function was called {call_count} times\")"
   ]
  },
  {
   "cell_type": "code",
   "execution_count": 112,
   "id": "89b336c4-2bec-4d05-99a7-1e8ef52055ed",
   "metadata": {},
   "outputs": [
    {
     "name": "stdout",
     "output_type": "stream",
     "text": [
      "Fibonacci Number 35 is 9227465\n",
      "Function was called 69 times\n"
     ]
    }
   ],
   "source": [
    "cache_call_count = 0\n",
    "\n",
    "def cache(func):\n",
    "    cache = {}\n",
    "    def wrapper(n):\n",
    "        global cache_call_count\n",
    "        cache_call_count += 1\n",
    "        if n not in cache:\n",
    "            cache[n] = func(n)\n",
    "        return cache[n]\n",
    "    return wrapper\n",
    "\n",
    "@cache\n",
    "def cached_fibonacci(n):\n",
    "    if n < 2:\n",
    "        return n\n",
    "    return cached_fibonacci(n - 1) + cached_fibonacci(n - 2)\n",
    "    \n",
    "n = 35\n",
    "print(f\"Fibonacci Number {n} is {cached_fibonacci(n)}\")\n",
    "print(f\"Function was called {cache_call_count} times\")\n"
   ]
  },
  {
   "cell_type": "code",
   "execution_count": null,
   "id": "489bb5bc-3abc-4822-acc9-dd7a0f7fb83b",
   "metadata": {},
   "outputs": [],
   "source": []
  }
 ],
 "metadata": {
  "kernelspec": {
   "display_name": "Python 3 (ipykernel)",
   "language": "python",
   "name": "python3"
  },
  "language_info": {
   "codemirror_mode": {
    "name": "ipython",
    "version": 3
   },
   "file_extension": ".py",
   "mimetype": "text/x-python",
   "name": "python",
   "nbconvert_exporter": "python",
   "pygments_lexer": "ipython3",
   "version": "3.12.9"
  }
 },
 "nbformat": 4,
 "nbformat_minor": 5
}
