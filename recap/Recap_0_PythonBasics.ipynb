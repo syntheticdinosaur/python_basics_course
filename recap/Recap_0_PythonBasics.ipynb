{
 "cells": [
  {
   "cell_type": "markdown",
   "id": "0d9a51e8",
   "metadata": {},
   "source": [
    "# Recap: Python Basics\n",
    "\n",
    "In the following, you can find some questions to probe how well you already have learned the basic concepts of Python. You can find the answers to the questions at the end of the notebook to check yourself."
   ]
  },
  {
   "cell_type": "markdown",
   "id": "32be9357-cefe-479f-ba16-9752f21e58e6",
   "metadata": {},
   "source": [
    "__(1)__ What is the output of the following code?\n",
    "   \n",
    "```python\n",
    "\n",
    "x = 5\n",
    "y = \"5\"\n",
    "print(x + y)\n",
    "```\n",
    "\n",
    "a) 10  \n",
    "b) 55  \n",
    "c) TypeError  \n",
    "d) 5  "
   ]
  },
  {
   "cell_type": "markdown",
   "id": "368c6b7d-5134-4b67-b41a-2358b523c76a",
   "metadata": {
    "jupyter": {
     "source_hidden": true
    }
   },
   "source": [
    "Correct Answer:  \n",
    "\n",
    " \n",
    "c)\n",
    "\n",
    "----"
   ]
  },
  {
   "cell_type": "markdown",
   "id": "73807709-b084-479a-803e-dfee36bf5288",
   "metadata": {},
   "source": [
    "__(2)__ What is the value of x after executing the following code?\n",
    "\n",
    "```python\n",
    "\n",
    "x = 10\n",
    "if x > 5:\n",
    "    x = x * 2\n",
    "else:\n",
    "    x = x - 2\n",
    "```\n",
    "\n",
    "a) 5  \n",
    "b) 10  \n",
    "c) 20  \n",
    "d) 8  "
   ]
  },
  {
   "cell_type": "markdown",
   "id": "401c40a9-794e-4963-9738-60574f17084d",
   "metadata": {
    "jupyter": {
     "source_hidden": true
    }
   },
   "source": [
    "Correct Answer:  \n",
    "\n",
    " \n",
    "c)\n",
    "\n",
    "----"
   ]
  },
  {
   "cell_type": "markdown",
   "id": "530350ec-4a88-4207-a71e-5a2d431f1fcf",
   "metadata": {},
   "source": [
    "__(3)__ Which of the following is an example of a correct if statement in Python?\n",
    "\n",
    "a) ```if x == 10 then:```   \n",
    "b) ```if x == 10:```   \n",
    "c) ```if (x = 10):```   \n",
    "d) ```if x => 10:```  \n"
   ]
  },
  {
   "cell_type": "markdown",
   "id": "6be77004-383c-4325-9b8c-3f1e60d9d374",
   "metadata": {
    "jupyter": {
     "source_hidden": true
    }
   },
   "source": [
    "Correct Answer:   \n",
    "\n",
    "\n",
    "b)\n",
    "\n",
    "----"
   ]
  },
  {
   "cell_type": "markdown",
   "id": "95b41031-8b6b-4f24-82b7-1633b40b1ceb",
   "metadata": {},
   "source": [
    "__(4)__ What happens if you try to access an index that is out of range for a list?\n",
    "\n",
    "a) It returns `None`  \n",
    "b) It raises an `IndexError`  \n",
    "c) It returns an empty string  \n",
    "d) It raises a `ValueError`  \n"
   ]
  },
  {
   "cell_type": "markdown",
   "id": "b3cc9346-0c7a-41b7-a94c-24a9f4b71147",
   "metadata": {},
   "source": [
    "Correct Answer:  \n",
    "\n",
    "\n",
    "b)\n",
    "\n",
    "----"
   ]
  },
  {
   "cell_type": "markdown",
   "id": "a15ed0c7-16be-4b12-b9ae-da477856d8bf",
   "metadata": {},
   "source": [
    "__(5)__ What does `my_list[1:5:2]` do if `my_list = [10, 20, 30, 40, 50, 60]`?\n",
    "\n",
    "a) Returns all elements from index 1 to 5  \n",
    "b) Returns elements at every second index from index 1 to 5  \n",
    "c) Returns a single element at index 2  \n",
    "d) Raises an IndexError  \n",
    "\n"
   ]
  },
  {
   "cell_type": "markdown",
   "id": "8443a93c-d650-4465-9d30-f18568789f83",
   "metadata": {
    "jupyter": {
     "source_hidden": true
    }
   },
   "source": [
    "Correct Answer:  \n",
    "\n",
    "b)\n",
    "\n",
    "----"
   ]
  },
  {
   "cell_type": "markdown",
   "id": "aab4e338-1487-45c0-b9c1-b8d794fc5d8b",
   "metadata": {},
   "source": [
    "__(6)__ What will the following code print?\n",
    "\n",
    "```python\n",
    "\n",
    "x = [1, 2, 3]\n",
    "y = x\n",
    "y.append(4)\n",
    "print(x)\n",
    "```\n",
    "\n",
    "a) `[1, 2, 3]`   \n",
    "b) `[1, 2, 3, 4]`   \n",
    "c) `Error`    \n",
    "d) `[4]`    \n"
   ]
  },
  {
   "cell_type": "markdown",
   "id": "89d229fb-f7ee-41ce-b429-bd5039793c4c",
   "metadata": {},
   "source": [
    "Correct Answer:  \n",
    "  \n",
    "b)\n",
    "\n",
    "----"
   ]
  },
  {
   "cell_type": "markdown",
   "id": "ed705412-01e2-41f0-a6a2-f1c4115015e9",
   "metadata": {},
   "source": [
    "__(7)__ What is the purpose of a for-loop in Python?\n",
    "\n",
    "a) To repeatedly execute a block of code until a condition is True   \n",
    "b) To execute a block of code a specific number of times or iterate over a sequence  \n",
    "c) To define a function  \n",
    "d) To check multiple conditions at once  \n",
    "\n"
   ]
  },
  {
   "cell_type": "markdown",
   "id": "05a4c14d-8de6-4a15-b991-d290bfe95226",
   "metadata": {
    "jupyter": {
     "source_hidden": true
    }
   },
   "source": [
    "Correct Answer:  \n",
    "\n",
    " \n",
    "b)\n",
    "\n",
    "----"
   ]
  },
  {
   "cell_type": "markdown",
   "id": "faae75dd-2386-4522-bb30-09b38d181afe",
   "metadata": {},
   "source": [
    "__(8)__ What does the `and` operator do in Python?\n",
    "\n",
    "a) Checks if both conditions are True  \n",
    "b) Assigns a value to two variables at once  \n",
    "c) Compares two strings for equality  \n",
    "d) Ensures that one condition is True  \n"
   ]
  },
  {
   "cell_type": "markdown",
   "id": "05bdd23a-5fd4-4384-9d24-6ef027ddc6e6",
   "metadata": {
    "jupyter": {
     "source_hidden": true
    }
   },
   "source": [
    "Correct Answer:  \n",
    "  \n",
    "a) \n",
    "\n",
    "----\n"
   ]
  },
  {
   "cell_type": "markdown",
   "id": "11c2ea3f-f8fd-4e47-81d1-d0ab60783f13",
   "metadata": {},
   "source": [
    "__(9)__ Why are comments used in Python code?\n",
    "\n",
    "a) To add debugging information that helps the program run  \n",
    "b) To temporarily disable sections of code  \n",
    "c) To explain what the code is doing, making it easier for humans to understand  \n",
    "d) To mark important lines of code for the interpreter  \n"
   ]
  },
  {
   "cell_type": "markdown",
   "id": "ad29f851-65b7-4a4d-ab86-1054ffb2029b",
   "metadata": {
    "jupyter": {
     "source_hidden": true
    }
   },
   "source": [
    "Correct Answer:    \n",
    "\n",
    "c) \n",
    "\n",
    "practically also b), but it's bad practice.\n",
    "\n",
    "----"
   ]
  },
  {
   "cell_type": "markdown",
   "id": "3f749231-eedf-4484-89a3-79e01462c4c1",
   "metadata": {},
   "source": [
    "__(10)__ Which of the following best describes a variable in Python?\n",
    "\n",
    "a) A reserved word used for built-in functions  \n",
    "b) A name that holds data and can be changed during program execution  \n",
    "c) A value that cannot change once assigned  \n",
    "d) A keyword that defines a function  \n",
    "\n"
   ]
  },
  {
   "cell_type": "markdown",
   "id": "6d1562e7-8d11-475f-a7dc-a4e3599ae1b9",
   "metadata": {
    "jupyter": {
     "source_hidden": true
    }
   },
   "source": [
    "Correct Answer:   \n",
    "\n",
    "\n",
    "b)\n",
    "\n",
    "----"
   ]
  },
  {
   "cell_type": "markdown",
   "id": "3d89ced2-dcd4-49fb-ad57-4481cb947742",
   "metadata": {},
   "source": [
    "__(11)__ What is the main difference between `==` and `=` in Python?\n",
    "\n",
    "a) `==` is used to assign values, and `=` is used for comparison  \n",
    "b) Both are used for comparison, but `=` is stricter  \n",
    "c) `==` checks for the same data type, while `=` allows conversion  \n",
    "d) `==` compares two values, and `=` assigns a value to a variable  \n"
   ]
  },
  {
   "cell_type": "markdown",
   "id": "27beba70-10c9-4923-8bea-add463344cf3",
   "metadata": {
    "jupyter": {
     "source_hidden": true
    }
   },
   "source": [
    "Correct Answer:   \n",
    "\n",
    "\n",
    "d) "
   ]
  }
 ],
 "metadata": {
  "kernelspec": {
   "display_name": "Python 3 (ipykernel)",
   "language": "python",
   "name": "python3"
  },
  "language_info": {
   "codemirror_mode": {
    "name": "ipython",
    "version": 3
   },
   "file_extension": ".py",
   "mimetype": "text/x-python",
   "name": "python",
   "nbconvert_exporter": "python",
   "pygments_lexer": "ipython3",
   "version": "3.11.6"
  }
 },
 "nbformat": 4,
 "nbformat_minor": 5
}
