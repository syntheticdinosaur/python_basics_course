{
 "cells": [
  {
   "cell_type": "markdown",
   "metadata": {},
   "source": [
    "# Seeing is Believing: Data Visualization with matplotlib's pyplot\n",
    "\n",
    "## Learning Goals\n",
    "\n",
    "- How to make simple plots\n",
    "- How to add titles to plots\n",
    "\n",
    "## Introduction\n",
    "Data visualization is essential for uncovering patterns, trends, and insights in data, making it easier to communicate findings effectively. Python’s `matplotlib` library, particularly its `pyplot` module¹, offers a powerful and flexible way to create a wide range of visualizations.\n",
    "There is a lot to talk about for plotting, and this tutorial only skims the surface. We will try to do our best though. Especially for plotting, google is your friend. It's normal to look stuff up.\n",
    "\n",
    "To get started with pyplot in matplotlib, we must import it first, since it is an external module!\n",
    "The \"typical\" import looks something like this:\n",
    "```python\n",
    "    import matplotlib.pyplot as plt\n",
    "```\n",
    "\n",
    "\n",
    "\n",
    "\n",
    "¹ _additional info: pyplot is designed to be similar to how you would plot in MATLAB, so that you can just call plotting functions with your data and get started with minimal set up. It maintains a hidden state, keeping track of the current figure and axis (subplot), to which everything is plotted until a new figure or axis is created_\n",
    "\n",
    "---\n",
    "Handouts and Cheatsheets for Matplotlib can be found here: [https://matplotlib.org/cheatsheets](https://matplotlib.org/cheatsheets/)\n",
    "(If the link is dead, just use a search engine)\n",
    "\n",
    "---\n"
   ]
  },
  {
   "cell_type": "code",
   "execution_count": null,
   "metadata": {},
   "outputs": [],
   "source": [
    "import matplotlib.pyplot as plt"
   ]
  },
  {
   "cell_type": "markdown",
   "metadata": {},
   "source": [
    "We will also need numpy, so let's import it, too."
   ]
  },
  {
   "cell_type": "code",
   "execution_count": null,
   "metadata": {},
   "outputs": [],
   "source": [
    "import numpy as np"
   ]
  },
  {
   "cell_type": "markdown",
   "metadata": {},
   "source": [
    "## Basic Plotting\n",
    "\n",
    "Basic plotting is very easy. You have some numbers, and want a line plot? Just 2 lines of code."
   ]
  },
  {
   "cell_type": "code",
   "execution_count": null,
   "metadata": {},
   "outputs": [],
   "source": [
    "numbers = list(range(10)) # This creates a range object, which is then put into a list: [0,1,2,...,9]\n",
    "plt.plot(numbers)\n",
    "plt.show()"
   ]
  },
  {
   "cell_type": "markdown",
   "metadata": {},
   "source": [
    "## Creating some Data to plot\n",
    "\n",
    "But data visualization is not so much fun without interesting data. Let's create some data first!  \n",
    "For now, simulated data will do. In future tutorials, we will delve into real, actual data.  \n",
    "\n",
    "_For the following simulated data, assume the following:_  \n",
    "We have collected some EEG data and assessed the power in the so-called beta fequency band (~14-30Hz)\n",
    "We have it for one patient and an age-matched healthy control measured each day over one week.  \n",
    "\n",
    "We want to visually inspect whether there was a difference between patient and control, and how the yfluctuated over the course of the week."
   ]
  },
  {
   "cell_type": "code",
   "execution_count": null,
   "metadata": {},
   "outputs": [],
   "source": [
    "# Just some numbers\n",
    "beta_power_pat = [10, 14, 30, 20, 31,  17, 11]\n",
    "beta_power_ctr = [5,   8,  9, 14, 18, 12,  7]\n",
    "days = list(range(1, 8)) "
   ]
  },
  {
   "cell_type": "markdown",
   "metadata": {},
   "source": [
    "But before we go into plotting further, we will look a bit into the 'anatomy' of a plot in matplotlib."
   ]
  },
  {
   "cell_type": "markdown",
   "metadata": {},
   "source": [
    "## Gross anatomy of a matplotlib plot\n",
    "\n",
    "You already saw a very basic plot above. \n",
    "Any plot in matplot consists of multiple parts, which we introduce now:\n",
    "\n",
    "\n",
    "1. **Figure**: The main plotting space, created with `plt.figure()`. Each figure can host multiple subplots or just one main plot. A figure has a certain size, which is given as a tuple of values in inches (1 inch = 2.54 cm).\n",
    "2. **Axes**: An Axis object (singular of `Axes`) of a figure in Matplotlib is a part of the figure that contains a single (sub-)plot itself. Each axis can have its own scale, limits, labels, etc. A figure may contain multiple axes. `Axes` can be arranged in a grid in a figure (e.g., 2x4 vs 1x8 grid). The name is confusing: It has nothing directly to do with x- or y-axes.\n",
    "\n",
    "3. **Plotting Data**: Commands like `plt.plot()`, `plt.scatter()` create line or point plots. If there’s no current figure, `plt.plot()` will also automatically generate one with a single axis. \n",
    "\n",
    "4. **Styling**: You can control appearance details, like colour, line style, and markers, directly through arguments in plot functions, e.g. `plt.plot(x,y, color = \"blue\")`. To find for instance all named colours in  matplotlib, you can look at the documentation https://matplotlib.org/stable/gallery/color/named_colors.html\n",
    "\n",
    "5. **Supporting Elements**: You can add elements to explain your data, like `plt.title()` for the plot’s title, `plt.xlabel()` and `plt.ylabel()` for axis labels, and `plt.legend()` to identify different data series.\n",
    "\n",
    "6. **Displaying the Plot**: `plt.show()` renders the figure, displaying all the elements you’ve added. Any changes after `plt.show()` are not displayed.\n",
    " "
   ]
  },
  {
   "cell_type": "markdown",
   "metadata": {},
   "source": [
    "Run the following code that explains this in a more visual way."
   ]
  },
  {
   "cell_type": "code",
   "execution_count": null,
   "metadata": {},
   "outputs": [],
   "source": [
    "fig, (ax1, ax2) = plt.subplots(1, 2, figsize=(10, 5))  # 1x2 grid of subplots\n",
    "\n",
    "x = [1, 2, 3, 4, 5]\n",
    "y1 = [10, 15, 13, 18, 17]\n",
    "y2 = [5, 7, 9, 6, 8]\n",
    "# Plot data on each subplot\n",
    "ax1.plot(x, y1, marker='o', linestyle='-', color='blue', label = \"Legend for subplot 1\")\n",
    "ax1.set_title('Subplot Title 1')\n",
    "ax1.legend()\n",
    "ax2.plot(x, y2, marker='s', linestyle='-', color='red', label = \"Legend for subplot 2\")\n",
    "ax2.set_title('Subplot Title 2')\n",
    "ax2.legend()\n",
    "\n",
    "# Add annotation texts\n",
    "fig.text(0.5, 1.05, '----------------This whole thing is the Figure-----------------',\n",
    "         ha='center', va='center', fontsize=16, color='purple', weight='bold')\n",
    "ax1.text(3, 12, 'This is Subplot/Axis 1', ha='center', va='center', fontsize=12, color='royalblue')\n",
    "ax2.text(3, 6, 'This is Subplot/Axis 2',ha='center', va='center', fontsize=12, color='tomato')\n",
    "\n",
    "plt.suptitle(\"This is the title for the whole figure\", fontsize = 16)\n",
    "\n",
    "# Show plot\n",
    "plt.tight_layout(rect=[0, 0, 1, 0.93]) # adjust layout\n",
    "plt.show()\n"
   ]
  },
  {
   "cell_type": "markdown",
   "metadata": {},
   "source": [
    "If you want to understand the parameters of the `plt.plot()` function better, just use the `help` function or look at the online documentation https://matplotlib.org/stable/api/_as_gen/matplotlib.pyplot.plot.html"
   ]
  },
  {
   "cell_type": "code",
   "execution_count": null,
   "metadata": {},
   "outputs": [],
   "source": [
    "# To get the docstring of the plt.plot function, use\n",
    "help(plt.plot)"
   ]
  },
  {
   "cell_type": "markdown",
   "metadata": {},
   "source": [
    "__Let's explore this with code for our example data!__\n"
   ]
  },
  {
   "cell_type": "code",
   "execution_count": null,
   "metadata": {},
   "outputs": [],
   "source": [
    "# Initialize a figure with 10 x 6 inches size (yes weird units strike again)\n",
    "plt.figure(figsize=(10, 6)) \n",
    "\n",
    "# Draw the data from the patient into the figure\n",
    "# plt.plot creates a line plot\n",
    "\n",
    "# Feel free to play around and change colors, or see in the document\n",
    "plt.plot(days,\n",
    "         beta_power_pat,\n",
    "         color='blue',\n",
    "         label='Patient')\n",
    "\n",
    "# Draw the data from the Control into the figure\n",
    "plt.plot(days,\n",
    "         beta_power_ctr,\n",
    "         color='green',\n",
    "         label='Control')\n",
    "\n",
    "# Adding titles and labels\n",
    "plt.title('Beta Power over Time: Patient vs Control') # give a title to the plot\n",
    "plt.xlabel('Day')                 # label the x axis\n",
    "plt.ylabel('Beta Power')          # label the y axis\n",
    "plt.legend(loc = \"upper right\")   # create a legend in the upper right corner based on the labels in the individual plots of this figure\n",
    "plt.grid(True)                    # activate a grid overlay for the plot\n",
    "\n",
    "# Show the plot\n",
    "plt.show()            "
   ]
  },
  {
   "cell_type": "markdown",
   "metadata": {},
   "source": [
    "## Working directly with figure and axis objects\n",
    "\n",
    "Figure and axis objects have the plotting functions we used earlier also available as object methods. This allows more precise control.\n",
    "An advantage of just using the regular `plt.` functions is that they automatically detect currently active figures and axis, making this a bit less verbose.\n",
    "\n",
    "\n",
    "For subplots, creating distinct figure and axis objects explicitly is often very useful.\n",
    "\n",
    "Look at the following example and __work on the ToDos marked in the comments__."
   ]
  },
  {
   "cell_type": "code",
   "execution_count": null,
   "metadata": {},
   "outputs": [],
   "source": [
    "fig, axs = plt.subplots(1,2, figsize = (10,5)) # plt.subplots creates a figure object, and subplots in an axis array\n",
    "\n",
    "# Axis objects have plotting methods that are identical to the previously shown pyplot functions\n",
    "# [actually, pyplot functions internally reference the current figure and current axis, so it's always an axis method]\n",
    "\n",
    "axs[0].plot(days, beta_power_pat, color = \"blue\")\n",
    "axs[0].set_title(\"Patient\")\n",
    "# TODO: add a label to the x and y axis of this subplot\n",
    "\n",
    "# ---\n",
    "# TODO: Add the control in the other subplot.\n",
    "# add a grid\n",
    "\n",
    "# ---\n",
    "\n",
    "fig.suptitle(\"Comparison of Patient and Control Beta Power\")\n",
    "\n",
    "plt.show()"
   ]
  },
  {
   "cell_type": "markdown",
   "metadata": {},
   "source": [
    "## Gallery of Plot Types\n",
    "\n",
    "The following code generates an overview of common different plot types in matplotlib, to give you an overview of whats possible.\n"
   ]
  },
  {
   "cell_type": "code",
   "execution_count": null,
   "metadata": {},
   "outputs": [],
   "source": [
    "fig, axs = plt.subplots(3, 3, figsize=(9, 9))\n",
    "# Sample data\n",
    "x = np.linspace(0, 10, 100)\n",
    "y_sin = np.sin(x)\n",
    "y_cos = np.cos(x)\n",
    "y_linear = x\n",
    "y_quad = x**2\n",
    "x_bar = np.arange(1, 6)\n",
    "y_bar1 = [5, 7, 9, 6, 8]\n",
    "y_bar2 = [3, 5, 2, 3, 4]  # Second dataset for stacked bars\n",
    "categories = ['A', 'B', 'C', 'D', 'E']\n",
    "values = [20, 35, 30, 35, 27]\n",
    "\n",
    "# Different plot types on each subplot\n",
    "axs[0, 0].plot(x, y_sin, color=\"blue\")\n",
    "axs[0, 0].set_title(\"Line plot\")\n",
    "\n",
    "axs[0, 1].scatter(np.random.randint(10, size = 100), np.random.randint(20, size = 100), color=\"red\")\n",
    "axs[0, 1].set_title(\"Scatter plot\")\n",
    "\n",
    "axs[0, 2].bar(x_bar, y_bar1, color=\"green\")\n",
    "axs[0, 2].set_title(\"Bar plot\")\n",
    "\n",
    "axs[1, 0].hist(np.random.randn(1000), bins=30, color=\"purple\")\n",
    "axs[1, 0].set_title(\"Histogram\")\n",
    "\n",
    "axs[1, 1].pie(values, labels=categories, autopct='%1.1f%%', startangle=140)\n",
    "axs[1, 1].set_title(\"Pie chart\")\n",
    "\n",
    "axs[1, 2].fill_between(x, y_linear, y_quad, color=\"orange\", alpha=0.5)\n",
    "axs[1, 2].set_title(\"Fill Between\")\n",
    "\n",
    "# Updated last three plots\n",
    "# Stacked bar plot\n",
    "axs[2, 0].bar(x_bar, y_bar1, color=\"cyan\", label=\"Series 1\")\n",
    "axs[2, 0].bar(x_bar, y_bar2, bottom=y_bar1, color=\"skyblue\", label=\"Series 2\")\n",
    "axs[2, 0].set_title(\"Stacked bar plot\")\n",
    "axs[2, 0].legend()\n",
    "\n",
    "# Error bar plot\n",
    "y_error = np.random.normal(1, 0.1, size=len(x_bar))\n",
    "axs[2, 1].errorbar(x_bar, y_bar1, yerr=y_error, fmt='o', color=\"magenta\", ecolor='gray', capsize=5)\n",
    "axs[2, 1].set_title(\"Error bar plot\")\n",
    "\n",
    "# Heatmap\n",
    "data = np.random.rand(10, 10)\n",
    "heatmap = axs[2, 2].imshow(data, cmap='viridis')\n",
    "fig.colorbar(heatmap, ax=axs[2, 2], orientation='vertical')\n",
    "axs[2, 2].set_title(\"Heatmap\")\n",
    "\n",
    "# Adjust layout to prevent overlap and show the plot gallery\n",
    "for ax in axs.ravel():\n",
    "    ax.set_facecolor('whitesmoke')\n",
    "\n",
    "plt.tight_layout()\n",
    "plt.show()\n"
   ]
  },
  {
   "cell_type": "markdown",
   "metadata": {},
   "source": [
    "## Summary and Outlook\n",
    "\n",
    "This notebook provided a short introduction to plots using matplotlib. The most improtant things is that plots can be customized in many different ways, and almost everything about a plot can be adjusted - make sure to search the documentation and online forums for specific questions. Another useful library that provides more high-level plotting functions, but has matplotlib as its foundation, is `seaborn`.\n",
    "\n",
    "The next notebook will talk a bit more about the customization of plots, as well as how to export plots into external file formats to save them for later use in papers or presentations."
   ]
  }
 ],
 "metadata": {
  "kernelspec": {
   "display_name": "base",
   "language": "python",
   "name": "python3"
  },
  "language_info": {
   "codemirror_mode": {
    "name": "ipython",
    "version": 3
   },
   "file_extension": ".py",
   "mimetype": "text/x-python",
   "name": "python",
   "nbconvert_exporter": "python",
   "pygments_lexer": "ipython3",
   "version": "3.12.8"
  }
 },
 "nbformat": 4,
 "nbformat_minor": 2
}
