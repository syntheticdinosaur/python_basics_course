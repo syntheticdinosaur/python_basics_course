{
 "cells": [
  {
   "cell_type": "markdown",
   "metadata": {},
   "source": [
    "# Styling of Plots and Exporting Figures\n",
    "\n",
    "## Learning Goals\n",
    "\n",
    "- how to change minimum and maximum values of an axis\n",
    "- how to add additional information such as axes labels to plots\n",
    "- how to use different markers for data points in plots\n",
    "- how to change background colors and add background grids\n",
    "- how to export plots to a file format of your choosing\n",
    "\n",
    "## Introduction\n",
    "\n",
    "We will now explore how to 'style' plots, so that they look how we want to, e.g. by changing colors, marker shapes, etc.\n",
    "\n",
    "\n",
    "For this, we will generate some data. Imagine that individuals have taken a life satisfaction questionnaire before and after a therapeutic interventions. We want to see how these scores have changed within individuals and generate a telling visualisation for this."
   ]
  },
  {
   "cell_type": "code",
   "execution_count": null,
   "metadata": {},
   "outputs": [],
   "source": [
    "# imports\n",
    "import numpy as np\n",
    "import matplotlib.pyplot as plt"
   ]
  },
  {
   "cell_type": "code",
   "execution_count": null,
   "metadata": {},
   "outputs": [],
   "source": [
    "# Let us generate some synthetic data for our life satisfaction questionnaire\n",
    "np.random.seed(42) # Providing a seed for a random number generator makes sure that values will look the same with each repitition.\n",
    "num_samples = 100 \n",
    "pre_scores = np.random.normal(loc=40, scale=10, size=num_samples)  # Pre-intervention scores\n",
    "post_scores = pre_scores + np.random.normal(loc=10, scale=10, size=num_samples)  # Post-intervention scores"
   ]
  },
  {
   "cell_type": "markdown",
   "metadata": {},
   "source": [
    "So far, we have plotted only lines. Sometimes, we only want to plot individual, unconnected data points in the x-y plane as a so-called scatter plot. We can still use `plt.plot()`, but we need to change some parameters we pass to the function.\n",
    "\n",
    "You can pass a format string to the `plt.plot()` function after giving it x and y values. A format sring may indicate the marker used for values, as well as their color. Here are some examples.\n",
    "\n",
    "`plt.plot(x,y, fmt)`\n",
    "\n",
    "* `plt.plot(x, y, 'r+')`  will plot x and y with red crosses.\n",
    "* `plt.plot(x, y, 'go')`  will plot x and y with green filled circles.\n",
    "* `plt.plot(x, y, 'bs')`  will plot x and y with blue squares\n",
    "* `plt.plot(x, y, 'k--')` will plot x and y with a dashed black line."
   ]
  },
  {
   "cell_type": "markdown",
   "metadata": {},
   "source": [
    "For instance, we can do this for plotting our data with white circles on grey background:"
   ]
  },
  {
   "cell_type": "code",
   "execution_count": null,
   "metadata": {},
   "outputs": [],
   "source": [
    "# you can add an additional alpha parameter [0-1] (.e.g, alpha = 0.8) to make the plotted elements partially transparent\n",
    "\n",
    "plt.plot(pre_scores, post_scores, \"wo\")\n",
    "plt.xlabel(\"pre\")\n",
    "plt.ylabel(\"post\")\n",
    "\n",
    "# You can change the background colour of an axis/subplot like this\n",
    "# using ax.set_facecolor()\n",
    "plt.gca().set_facecolor(\"darkgray\")  #plt.gca() returns the current axis object we are working on; useful if we have not explicitly initialized it.\n",
    "plt.gcf().set_facecolor(\"lightgray\") #plt.gcf() returns the current figure object\n",
    "plt.show()"
   ]
  },
  {
   "cell_type": "markdown",
   "metadata": {},
   "source": [
    "### X and Y Axes Customization\n",
    "\n",
    "#### 1. **Setting Custom Tick Locations**:\n",
    "* You can use `ax.set_xticks()` and `ax.set_yticks()` to specify custom tick positions.\n"
   ]
  },
  {
   "cell_type": "code",
   "execution_count": null,
   "metadata": {},
   "outputs": [],
   "source": [
    "x = np.linspace(0, 10, 100)\n",
    "y = np.sin(x)\n",
    "\n",
    "fig, (ax1, ax2) = plt.subplots(2,1, figsize = (8, 4))\n",
    "ax2.plot(x, y)\n",
    "ax2.set_title(\"Original ticks\")          \n",
    "ax1.plot(x, y)\n",
    "ax1.set_xticks([0, 2.5, 5, 7.5, 10])\n",
    "ax1.set_yticks([-1, -0.5, 0, 0.5, 1])\n",
    "ax1.set_title(\"Modified ticks\")\n",
    "plt.tight_layout()\n",
    "plt.show()"
   ]
  },
  {
   "cell_type": "markdown",
   "metadata": {},
   "source": [
    "# Deleting ticks\n",
    "\n",
    "By passing an empty list as ticks, you can display no ticks at all at that axis, e.g. using `.set_xticks([])`."
   ]
  },
  {
   "cell_type": "code",
   "execution_count": null,
   "metadata": {},
   "outputs": [],
   "source": [
    "# Let us generate some synthetic data for our life satisfaction questionnaire\n",
    "np.random.seed(42) # Providing a seed for a random number generator makes sure that values will look the same with each repitition.\n",
    "num_samples = 100 \n",
    "\n",
    "# First Group\n",
    "pre_scores = np.random.normal(loc=40, scale=10, size=num_samples)  # Pre-intervention scores\n",
    "post_scores = pre_scores + np.random.normal(loc=10, scale=10, size=num_samples)  # Post-intervention scores\n",
    "\n",
    "# We store this in a dict for easier retrieval\n",
    "group_1 = {\"pre\": pre_scores.copy(),\n",
    "           \"post\": post_scores.copy()}\n",
    "\n",
    "# Second Group\n",
    "np.random.seed(52)\n",
    "pre_scores = np.random.normal(loc=40, scale=10, size=num_samples)  # Pre-intervention scores\n",
    "post_scores = pre_scores - np.random.normal(loc=10, scale=14, size=num_samples)  # Post-intervention scores\n",
    "\n",
    "# We store this in a dict for easier retrieval\n",
    "group_2 = {\"pre\": pre_scores.copy(),\n",
    "           \"post\": post_scores.copy()}\n"
   ]
  },
  {
   "cell_type": "markdown",
   "metadata": {},
   "source": [
    "## Exercise\n",
    "Create a scatter plot using `plt.scatter()` of the pre-intervention scores on the x-axis and the post-intervention scores on the y-axis for each group\n",
    "\n",
    "* Make sure that the figure has a fitting title\n",
    "* Label the x and y axes correctly\n",
    "* Display a grid\n",
    "* _Optional_: Style the plot with colours "
   ]
  },
  {
   "cell_type": "code",
   "execution_count": null,
   "metadata": {},
   "outputs": [],
   "source": [
    "# Your Code here"
   ]
  },
  {
   "cell_type": "code",
   "execution_count": null,
   "metadata": {},
   "outputs": [],
   "source": [
    "# Example Solution\n",
    "fig, ax = plt.subplots(1, figsize = (8,8))\n",
    "\n",
    "ax.scatter(group_1[\"pre\"], group_1[\"post\"],\n",
    "           color = \"darkgreen\",\n",
    "           alpha = 0.8,\n",
    "           label = \"Group 1\")\n",
    "ax.scatter(group_2[\"pre\"], group_2[\"post\"],\n",
    "           color = \"darkred\",\n",
    "           alpha = 0.8,\n",
    "           label = \"Group 2\")\n",
    "ax.plot([0, 100], [0, 100],color = \"k\", alpha = 0.6, label = \"line of no change\")\n",
    "ax.set_xlabel(\"pre\")\n",
    "ax.set_ylabel(\"post\")\n",
    "ax.set_facecolor(\"whitesmoke\")\n",
    "ax.legend()\n",
    "\n",
    "plt.title(\"Group Comparison of Intervention\")\n",
    "\n",
    "plt.xlim(0,100)\n",
    "plt.ylim(0,100)\n",
    "plt.grid()\n",
    "plt.show()"
   ]
  },
  {
   "cell_type": "markdown",
   "metadata": {},
   "source": [
    "# Exporting Plots\n",
    "\n",
    "Of course, we want to save plots to integrate them, e.g. into an article. We can do this using `plt.savefig()` to save the current figure or use directly a `Figure` object to save it, e.g. using `fig.savefig()`.\n",
    "\n",
    "For exporting a figure, we can already think of some relevant aspects:\n",
    "\n",
    "* Name of the file\n",
    "* file format (jpg, png, svg, pdf, ...)\n",
    "* resolution\n",
    "* background transparency\n",
    "\n",
    "We can pass multiple parameters relating to these properties to `.savefig()`.\n",
    "\n",
    "An example:\n",
    "\n",
    "`fig.savefig('Test.png', transparent = True, dpi = 300, format = 'png')`   \n",
    "as matplotlib normally infers the filetype from the filename ending, the above is equivalent to:  \n",
    "`fig.savefig('Test.png', transparent = True, dpi = 300)` \n",
    "\n",
    "DPI (dots per inch) is the resolution of the figure. The size in inches was already given upon figure creation, so we don't need to give it here. In general, for publications it is best to have support vector graphics, 'svg'. PNG or JPG exports should have sufficient resolution, which is normally 300dpi for print as a recommendation. PNG supports transparency, while JPG does not.  \n",
    "\n",
    "__Note__  \n",
    "If you use pyplot, i.e. `plt.savefig()` instead of the figure object `fig.savefig()` make sure to save the figure _before_ using `plt.show()`. Otherwise, it won't work as `plt.show()` clears the internal cache of 'current figures'."
   ]
  },
  {
   "cell_type": "markdown",
   "metadata": {},
   "source": [
    "## Advanced Subplots\n",
    "\n",
    "Sometimes, not all axis or subplots in a figure should be of the same size. This can be achieved using gridspecs.\n",
    "Another case that occurs is an inset axis, that could for instance be a zoom in of a specific feature of a larger plot.\n",
    "The following sections will show examples of these two features."
   ]
  },
  {
   "cell_type": "markdown",
   "metadata": {},
   "source": [
    "### GridSpec\n",
    "`GridSpec` in Matplotlib allows to create more elaborate subplot layouts by arranging individual plots in a grid format. You can define a grid with a specified number of rows and columns, with custom height and width ratios for each. Subplots may then span multiple rows or columns, and thus have an aspect different form other subplots.\n",
    "\n",
    "The `add_subplot()` method, combined with `GridSpec`, allows to position a plot on that grid, by specifing the rows and columns it will span as indices in that grid, e.g. `ax = grid[0,:2]` for a plot spanning the first two columns in the first row."
   ]
  },
  {
   "cell_type": "code",
   "execution_count": null,
   "metadata": {},
   "outputs": [],
   "source": [
    "import matplotlib.gridspec as gridspec\n",
    "\n",
    "x = np.linspace(0, 10, 100)\n",
    "y1, y2, y3 = np.sin(x), np.cos(x), np.tan(x)\n",
    "\n",
    "fig = plt.figure(figsize=(8, 6))\n",
    "gs = gridspec.GridSpec(2, 2, height_ratios=[1.5, 1], width_ratios=[1, 2])\n",
    "\n",
    "ax1 = fig.add_subplot(gs[0, :])  \n",
    "ax2 = fig.add_subplot(gs[1, 0])  \n",
    "ax3 = fig.add_subplot(gs[1, 1])  \n",
    "\n",
    "ax1.plot(x, y1, label='Sine', color='blue')\n",
    "ax1.set_title('Sine Wave')\n",
    "ax1.grid()\n",
    "\n",
    "ax2.plot(x, y2, label='Cosine', color='orange')\n",
    "ax2.set_title('Cosine Wave')\n",
    "ax2.grid()\n",
    "\n",
    "ax3.plot(x, y3, label='Tangent', color='green')\n",
    "ax3.set_ylim(-10, 10) \n",
    "ax3.set_title('Tangent Wave')\n",
    "ax3.grid()\n",
    "\n",
    "fig.suptitle(\"GridSpec Plot with Three Subplots\")\n",
    "\n",
    "plt.tight_layout(rect=[0, 0, 1, 0.95])\n",
    "plt.show()"
   ]
  },
  {
   "cell_type": "markdown",
   "metadata": {},
   "source": [
    "### Inset Axes"
   ]
  },
  {
   "cell_type": "code",
   "execution_count": null,
   "metadata": {},
   "outputs": [],
   "source": [
    "# We need to import some special sauce from the m_at p_lot l_ib toolkits. \n",
    "from mpl_toolkits.axes_grid1.inset_locator import inset_axes\n",
    "from matplotlib.patches import Rectangle\n",
    "\n",
    "# Create an example sine wave\n",
    "x = np.linspace(0, 10, 100)\n",
    "y = np.sin(x)\n",
    "\n",
    "fig, ax = plt.subplots(figsize=(10, 6))\n",
    "\n",
    "ax.plot(x, y, label='Sine Wave', color='blue')\n",
    "ax.set_title('Sine Wave with Inset')\n",
    "ax.set_xlabel('X-axis')\n",
    "ax.set_ylabel('Y-axis')\n",
    "ax.grid()\n",
    "\n",
    "inset_ax = inset_axes(ax, width='30%', height='30%', loc='lower right')\n",
    "\n",
    "inset_ax.plot(x, y, color='blue') # Plot the original wave\n",
    "\n",
    "# Then provide a 'zoom' for the inset axis\n",
    "inset_ax.set_xlim(2, 4) \n",
    "inset_ax.set_ylim(-1, 1)\n",
    "inset_ax.set_title('Inset View', fontsize=10)\n",
    "inset_ax.set_xticks([])\n",
    "inset_ax.set_yticks([])\n",
    "\n",
    "# Rectangle showing location of data range for inset\n",
    "rect = Rectangle((2, -1), 2, 2, linewidth=1, edgecolor=None, facecolor='lightgrey', linestyle='--', label = \"Inset location\")\n",
    "ax.add_patch(rect)\n",
    "ax.legend(loc = \"upper right\")\n",
    "\n",
    "plt.show()\n"
   ]
  },
  {
   "cell_type": "markdown",
   "metadata": {},
   "source": [
    "## Summary and Outlook\n",
    "\n",
    "In this notebook you learned how to give your plots some advanced styling, and how to export them for use in other files, such as when preparing papers or presentation."
   ]
  },
  {
   "cell_type": "markdown",
   "metadata": {},
   "source": []
  }
 ],
 "metadata": {
  "language_info": {
   "name": "python"
  }
 },
 "nbformat": 4,
 "nbformat_minor": 2
}
