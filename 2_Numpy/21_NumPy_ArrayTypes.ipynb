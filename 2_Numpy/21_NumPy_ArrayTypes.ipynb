{
 "cells": [
  {
   "cell_type": "markdown",
   "metadata": {},
   "source": [
    "# Array types\n",
    "\n",
    "## Learning Goals\n",
    "\n",
    "- What data types an array can contain, and what this means for storage efficiency\n",
    "- How to create special arrays, such as arrays filled with all 1s or 0s\n",
    "\n",
    "## Introduction\n",
    "__In NumPy arrays, all entries must be of the same data type.__\n",
    "\n",
    "When creating a NumPy array, every element in the array is converted to a single, consistent data type, called the **array’s dtype**. This dtype can be any of several types, including:\n",
    "\n",
    "- **Integer** (`int`): Whole numbers, with variations such as `int32` or `int64`, which specify the bit depth.\n",
    "- **Floating point** (`float`): Decimal numbers, like `float32` or `float64`, for various precision levels.\n",
    "- **Boolean** (`bool`): Representing `True` or `False` values.\n",
    "- **String** (`str`): Fixed-length strings, stored as `unicode` by default in NumPy.\n",
    "- **Object** (`object`): Allows arrays to contain arbitrary Python objects (such as lists or other arrays).\n",
    "\n",
    "NumPy automatically infers the dtype based on the array contents, but you can also explicitly specify the dtype when creating an array. Mixing data types within an array is not supported; however, using an `object` dtype allows you to store different types if needed.\n",
    "\n",
    "We will usually use numpy arrays with a single numerical type. However, just for the sake of it, let's explore arrays and their dtypes a bit."
   ]
  },
  {
   "cell_type": "code",
   "execution_count": null,
   "metadata": {},
   "outputs": [],
   "source": [
    "# Import NumPy\n",
    "import numpy as np"
   ]
  },
  {
   "cell_type": "markdown",
   "metadata": {},
   "source": [
    "Here we will create a NumPy array that contains objects of a custom class."
   ]
  },
  {
   "cell_type": "code",
   "execution_count": null,
   "metadata": {},
   "outputs": [],
   "source": [
    "# We can even put dromedars in an Numpy array!\n",
    "class Dromedar:\n",
    "    \"\"\"Classy dromedars.\"\"\"\n",
    "    def __init__(self, name, fur_color):\n",
    "        self.name = name\n",
    "        self.color = fur_color\n",
    "    def __repr__(self):\n",
    "        # __repr__ gives you a string representation of an object\n",
    "        return f\"'{self.name} the {self.color} dromedar'\"\n",
    "        \n",
    "# Create dromedars\n",
    "Dromedar_1 = Dromedar(\"Dagmar\", \"brown\")\n",
    "Dromedar_2 = Dromedar(\"Dieter\", \"black\")\n",
    "# create an array of dromedars\n",
    "dromedar_array = np.asarray([Dromedar_1, Dromedar_2])\n",
    "\n",
    "print(\"The contents of the dromedar array is:\")\n",
    "print(dromedar_array)\n",
    "print(f\"the data type of the dromedar array is 'object', {dromedar_array.dtype=}\")"
   ]
  },
  {
   "cell_type": "markdown",
   "metadata": {},
   "source": [
    "Arrays can also hold logical values."
   ]
  },
  {
   "cell_type": "code",
   "execution_count": null,
   "metadata": {},
   "outputs": [],
   "source": [
    "# We see that there is also an array that specifically holds booleans\n",
    "bool_array = np.array([True, False, True])\n",
    "print(f\"the data type of the booNonelean array is 'bool', {bool_array.dtype=}\")"
   ]
  },
  {
   "cell_type": "markdown",
   "metadata": {},
   "source": [
    "As you see, NumPy infers the type automatically. Test this also for an array of integers, floats, and strings!"
   ]
  },
  {
   "cell_type": "code",
   "execution_count": null,
   "metadata": {},
   "outputs": [],
   "source": [
    "# Implement this here"
   ]
  },
  {
   "cell_type": "markdown",
   "metadata": {},
   "source": [
    "If need be, you can convert arrays between types (if possible!), using the `.astype()` method."
   ]
  },
  {
   "cell_type": "code",
   "execution_count": null,
   "metadata": {},
   "outputs": [],
   "source": [
    "bool_array.astype(float) # Numpy also brings its own int and float types, such as np.int32 or np.float64; but no need for that now"
   ]
  },
  {
   "cell_type": "code",
   "execution_count": null,
   "metadata": {},
   "outputs": [],
   "source": [
    "# Create an array of strings and convert it to int. What do you expect to happen."
   ]
  },
  {
   "cell_type": "markdown",
   "metadata": {},
   "source": [
    "## Creating Special Arrays\n",
    "\n",
    "NumPy supports easy creation of some often used array types. These include arrays of all 0s or all 1s, random numbers,  linearly spaced numbers, and integers within a certain range."
   ]
  },
  {
   "cell_type": "code",
   "execution_count": null,
   "metadata": {},
   "outputs": [],
   "source": [
    "# Zeros\n",
    "array_shape = (3,2) # n_rows, n_cols\n",
    "zeros = np.zeros(array_shape)\n",
    "print(zeros)"
   ]
  },
  {
   "cell_type": "code",
   "execution_count": null,
   "metadata": {},
   "outputs": [],
   "source": [
    "# Ones\n",
    "# Implement an array of your chosen shape full of ones."
   ]
  },
  {
   "cell_type": "code",
   "execution_count": null,
   "metadata": {},
   "outputs": [],
   "source": [
    "# 10 evenly spaced numbers from 0 to 2\n",
    "linear_space = np.linspace(0,2,10) # 0=start,  2=stop, 10=number of steps;\n",
    "print(linear_space)\n",
    "linear_space_excl = np.linspace(0,2,10, endpoint = False) # you can use the endpoint argument whether to include the stop or not \n",
    "print(linear_space_excl)\n",
    "# linspace is often useful to create time stamps, if your signal has been regularly sampled"
   ]
  },
  {
   "cell_type": "code",
   "execution_count": null,
   "metadata": {},
   "outputs": [],
   "source": [
    "# Numbers from 5 to 10 (excl.)\n",
    "int_range = np.arange(5,10)\n",
    "print(int_range)"
   ]
  },
  {
   "cell_type": "markdown",
   "metadata": {},
   "source": [
    "## Summary and Outlook\n",
    "\n",
    "This notebook has shown that NumPy arrays can in theory contain data of any type, but that all entries in an array are cast to a single type. The 'object' type is the most general of such datatypes. We have also seen how to create special arrays, such as those filled with zeros or ones, and linearly increasing sequences of numbers. These are useful in a variety of cases. In the next notebook, we will discuss array shapes in a bit more detail."
   ]
  }
 ],
 "metadata": {
  "language_info": {
   "name": "python"
  }
 },
 "nbformat": 4,
 "nbformat_minor": 2
}
