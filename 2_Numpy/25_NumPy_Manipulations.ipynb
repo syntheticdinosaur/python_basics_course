{
 "cells": [
  {
   "cell_type": "markdown",
   "metadata": {},
   "source": [
    "# Masking and Combining Arrays\n",
    "\n",
    "## Learning Goals\n",
    "- Using logical statements to filter arrays\n",
    "- combining and extending existing arrays\n",
    "\n",
    "## Introduction\n",
    "\n",
    "Sometimes, we want to only get elements from an array that fulfill a certain condition. We can do that by creating a mask. A mask is a boolean array that identifies which elements satisfy the given condition, allowing us to filter data efficiently. Additionally, we can combine multiple arrays or add new elements to existing ones using various techniques."
   ]
  },
  {
   "cell_type": "code",
   "execution_count": null,
   "metadata": {},
   "outputs": [],
   "source": [
    "import numpy as np"
   ]
  },
  {
   "cell_type": "code",
   "execution_count": null,
   "metadata": {},
   "outputs": [],
   "source": [
    "ascending_numbers = np.arange(20)\n",
    "mask = ascending_numbers > 10 # This returns a boolean array\n",
    "print(f\"{mask=}\")\n",
    "\n",
    "print(ascending_numbers[mask]) # We can use this boolean array for indexing, returning only the elements where the mask is True"
   ]
  },
  {
   "cell_type": "code",
   "execution_count": null,
   "metadata": {},
   "outputs": [],
   "source": [
    "# Get all the other elements which aren't in the masked array\n",
    "ascending_numbers[np.invert(mask)]"
   ]
  },
  {
   "cell_type": "markdown",
   "metadata": {},
   "source": [
    "Sometimes, we want to combine two or more arrays into one, or append another value to an existing array.\n",
    "You can concatenate arrays using the `np.concatenate()` function. This function takes a tuple of arrays and concatenates them along a specified axis."
   ]
  },
  {
   "cell_type": "code",
   "execution_count": null,
   "metadata": {},
   "outputs": [],
   "source": [
    "array1 = np.array([1, 2, 3])\n",
    "array2 = np.array([4, 5, 6])\n",
    "\n",
    "concatenated_array = np.concatenate((array1, array2))\n",
    "print(\"Concatenated Array:\", concatenated_array)"
   ]
  },
  {
   "cell_type": "markdown",
   "metadata": {},
   "source": [
    "You can also concatenate multi-dimensional arrays. Here’s an example of concatenating along a specific axis:"
   ]
  },
  {
   "cell_type": "code",
   "execution_count": null,
   "metadata": {},
   "outputs": [],
   "source": [
    "array3 = np.array([[1, 2], [3, 4]])\n",
    "array4 = np.array([[5, 6]])\n",
    "\n",
    "vertical_concat = np.concatenate((array3, array4), axis=0)\n",
    "print(\"Vertical Concatenation:\\n\", vertical_concat)\n",
    "\n",
    "horizontal_concat = np.concatenate((array3, array4.T), axis=1)\n",
    "print(\"Horizontal Concatenation:\\n\", horizontal_concat)"
   ]
  },
  {
   "cell_type": "markdown",
   "metadata": {},
   "source": [
    "You can append elements to an array using the `np.append()` function. This function adds values to the end of an array.\n"
   ]
  },
  {
   "cell_type": "code",
   "execution_count": null,
   "metadata": {},
   "outputs": [],
   "source": [
    "array5 = np.array([1, 2, 3])\n",
    "\n",
    "# Append a single value\n",
    "appended_array = np.append(array5, 4)\n",
    "print(\"Appended Array (single value):\", appended_array)\n",
    "\n",
    "# Append multiple values from a list or array-like structure\n",
    "appended_array_multiple = np.append(array5, [4, 5, 6])\n",
    "print(\"Appended Array (multiple values):\", appended_array_multiple)\n"
   ]
  },
  {
   "cell_type": "markdown",
   "metadata": {},
   "source": [
    "## Summary and Outlook\n",
    "\n",
    "In this notebook, we have seen a couple of ways to combine or append to arrays.\n",
    "The next notebook will be a short demonstration of the memory advantages and efficiencies NumPy arrays can have compared to basic python types such as lsits."
   ]
  }
 ],
 "metadata": {
  "language_info": {
   "name": "python"
  }
 },
 "nbformat": 4,
 "nbformat_minor": 2
}
