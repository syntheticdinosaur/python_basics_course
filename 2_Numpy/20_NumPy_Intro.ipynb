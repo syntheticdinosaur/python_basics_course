{
 "cells": [
  {
   "cell_type": "markdown",
   "metadata": {},
   "source": [
    "# Numpy\n",
    "\n",
    "\n",
    "## Learning Goals\n",
    "- What is NumPy?\n",
    "- What are NumPy arrays and how do they differ from basic python lists?\n",
    "- How do I access elements in a NumPy array?\n",
    "- What are basic operations on arrays that I can perform?\n",
    "\n",
    "\n",
    "## Introduction\n",
    "NumPy (Numerical Python) is a core library in Python designed for numerical and scientific computing. It provides support for large, multi-dimensional arrays and matrices, along with a collection of mathematical functions to manipulate them. NumPy arrays are more efficient and flexible than Python lists, especially for numerical operations. They allow for faster calculations and support vectorized operations, reducing the need for explicit loops. This makes NumPy essential for handling complex numerical data in scientific computing. For this, it brings a variety of functions and classes to the table."
   ]
  },
  {
   "cell_type": "markdown",
   "metadata": {},
   "source": [
    "## First steps\n",
    "NumPy is an external module, so it must be imported before use. By convention, it is imported with the alias np to make the code shorter and more readable. Here's how you can import NumPy:"
   ]
  },
  {
   "cell_type": "code",
   "execution_count": null,
   "metadata": {},
   "outputs": [],
   "source": [
    "import numpy as np # This is the standard way to import numpy"
   ]
  },
  {
   "cell_type": "markdown",
   "metadata": {},
   "source": [
    "Once imported, you can access all of NumPy's functions and classes using the `np` prefix. NumPy is a package best suited to dealing with arrays of numerical data. It's basic object is the so-called _array_.\n",
    "You can create an array from an existing collection (like a list, or list of lists) using the `np.asarray` function."
   ]
  },
  {
   "cell_type": "code",
   "execution_count": null,
   "metadata": {},
   "outputs": [],
   "source": [
    "numbers  = [1,2,3,4,5] # A list of numbers\n",
    "np_array = np.asarray(numbers)\n",
    "print(np_array)"
   ]
  },
  {
   "cell_type": "markdown",
   "metadata": {},
   "source": [
    "We will check what the type of this new variable is."
   ]
  },
  {
   "cell_type": "code",
   "execution_count": null,
   "metadata": {},
   "outputs": [],
   "source": [
    "print(type(np_array))"
   ]
  },
  {
   "cell_type": "markdown",
   "metadata": {},
   "source": [
    "You can index such a `nd.array` similar to a list."
   ]
  },
  {
   "cell_type": "code",
   "execution_count": null,
   "metadata": {},
   "outputs": [],
   "source": [
    "print(np_array[1])"
   ]
  },
  {
   "cell_type": "markdown",
   "metadata": {},
   "source": [
    "## Dimensions of NumPy Arrays\n",
    "\n",
    "NumPy arrays support multiple dimensions, allowing them to represent vectors, matrices, and tensors. These arrays can for instance be created from nested lists, with each list representing a dimension.\n",
    "\n",
    "A typical example of a multidimensional array is tabular data, where each element is identified by its row and column. To access an element in a 2D array, you use two indices: one for the row and one for the column."
   ]
  },
  {
   "cell_type": "code",
   "execution_count": null,
   "metadata": {},
   "outputs": [],
   "source": [
    "matrix_list = [[11, 12, 13, 14],\n",
    "               [21, 22, 23, 24],\n",
    "               [22, 32, 33, 34]]\n",
    "matrix_np   = np.asarray(matrix_list)\n",
    "print(matrix_np)"
   ]
  },
  {
   "cell_type": "markdown",
   "metadata": {},
   "source": [
    "Let's describe the shape, size and dimensionality of this object.  \n",
    "The `np.ndarray` object has multiple useful attributes that tell you these important features."
   ]
  },
  {
   "cell_type": "code",
   "execution_count": null,
   "metadata": {},
   "outputs": [],
   "source": [
    "n_row, n_col = matrix_np.shape # Shape gives the number of elements along each dimension\n",
    "n_dimensions = matrix_np.ndim  # Number of dimensions\n",
    "n_elements = matrix_np.size    # Overall number of elements across all dimensions\n",
    "print(f\"The array has {n_row} rows and {n_col} columns, overall {n_elements=}. The dimensionality is {n_dimensions}.\") "
   ]
  },
  {
   "cell_type": "markdown",
   "metadata": {},
   "source": [
    "Numpy arrays also support the `len` function. What does it return for our array?"
   ]
  },
  {
   "cell_type": "code",
   "execution_count": null,
   "metadata": {},
   "outputs": [],
   "source": [
    "# Test here"
   ]
  },
  {
   "cell_type": "markdown",
   "metadata": {},
   "source": [
    "## Indexing Numpy Arrays\n",
    "So, a numpy array has values sorted along multiple dimensions. You can index it like this:"
   ]
  },
  {
   "cell_type": "code",
   "execution_count": null,
   "metadata": {},
   "outputs": [],
   "source": [
    "# Get the first element of the first row [0], in the fourth [3] column \n",
    "indexed_array = matrix_np[0,3]\n",
    "print(\"`matrix_np[0,3]` First element in fourth column:\", indexed_array)\n",
    "print(\"---\")\n",
    "print(\"`matrix_np[0,:]` Get all elements in the first row : \", matrix_np[0,:])\n",
    "print(\"---\")\n",
    "print(\"`matrix_np[:,1]` Get all elements in the second column:\", matrix_np[:, 1])"
   ]
  },
  {
   "cell_type": "code",
   "execution_count": null,
   "metadata": {},
   "outputs": [],
   "source": [
    "# Comparing list-of-list indexing to Numpy array indexing, we see the following\n",
    "\n",
    "# Individual Elements\n",
    "matrix_list[0][3] == matrix_np[0,3] == matrix_np[0,:][3]\n",
    "\n",
    "print(matrix_np)\n",
    "\n",
    "print(\"Get the first row\")\n",
    "print(matrix_list[0])\n",
    "print(matrix_np[0,:])\n",
    "\n",
    "print(\"Get the first column\")\n",
    "print([n[0] for n in matrix_list])\n",
    "print(matrix_np[:,0])"
   ]
  },
  {
   "cell_type": "markdown",
   "metadata": {},
   "source": [
    "## Summary and Outlook\n",
    "\n",
    "In this notebook, we introduced NumPy arrays, which are often used to represent numerical data. We have seen how to create them, how to convert existing lists into NumPy arrays, and how to access individual elements. The next notebook will discuss about the different data types a NumPy array can hold."
   ]
  }
 ],
 "metadata": {
  "language_info": {
   "name": "python"
  }
 },
 "nbformat": 4,
 "nbformat_minor": 2
}
