{
 "cells": [
  {
   "cell_type": "markdown",
   "metadata": {},
   "source": [
    "# Mutability\n",
    "\n",
    "## Learning Goals\n",
    "- How mutability matters for NumPy arrays\n",
    "- What views are\n",
    "- How and when to use copies for NumPy arrays\n",
    "- \"__In doubt, copy!__\"\n",
    "\n",
    "## Introduction\n",
    "We discussed mutability in the context of tuples and lists already in quite some detail. Mutability relates to the property whether an object can be changed 'in place'. This topic is also highly relevant to NumPy, as some of the memory efficiency advantages it has are due to mutability.\n",
    "\n",
    "We will first start with some behavior we know, namely mutability for the inbuilt python lists. In lists, we know the following:\n",
    "\n",
    "> Slicing (i.e., `my_list[1:3]`) returns a __copy__.\n",
    "\n",
    "This behavior is highlighted in the following code examples."
   ]
  },
  {
   "cell_type": "code",
   "execution_count": null,
   "metadata": {},
   "outputs": [],
   "source": [
    "import numpy as np"
   ]
  },
  {
   "cell_type": "code",
   "execution_count": null,
   "metadata": {},
   "outputs": [],
   "source": [
    "my_list = [1,2,3]\n",
    "your_list = my_list[:] # [:] the colon takes a slice with all indices\n",
    "print(f\"{(my_list is your_list)=}\") # Test whether the lists point to the same object in memory"
   ]
  },
  {
   "cell_type": "code",
   "execution_count": null,
   "metadata": {},
   "outputs": [],
   "source": [
    "test_list  =  [[11, 12, 13, 14],\n",
    "               [21, 22, 23, 24],\n",
    "               [22, 32, 33, 34]]\n",
    "\n",
    "a = test_list[0][1:3] #Get the middle elements of the first row\n",
    "print(a)\n",
    "test_list[0][1:3] = [-5, -6]\n",
    "print(a)\n",
    "print(test_list)"
   ]
  },
  {
   "cell_type": "markdown",
   "metadata": {},
   "source": [
    "> __Slicing like this doesn't return a copy for Numpy arrays__. Instead, it returns a so-called view. This means that there is only a single shared object in memory, now living under different variable names."
   ]
  },
  {
   "cell_type": "code",
   "execution_count": null,
   "metadata": {},
   "outputs": [],
   "source": [
    "# We generate a list of lists that we turn into a NumPy array\n",
    "matrix_list = [[11, 12, 13, 14],\n",
    "               [21, 22, 23, 24],\n",
    "               [22, 32, 33, 34]]\n",
    "matrix_np = np.asarray(matrix_list)"
   ]
  },
  {
   "cell_type": "code",
   "execution_count": null,
   "metadata": {},
   "outputs": [],
   "source": [
    "# We get some elements in the first row\n",
    "a = matrix_np[0,1:3]\n",
    "print(a)\n",
    "# We change the first row of the original array to all 0s\n",
    "matrix_np[0,1:3] = 0\n",
    "# The values of `a` are changed\n",
    "print(a)"
   ]
  },
  {
   "cell_type": "code",
   "execution_count": null,
   "metadata": {},
   "outputs": [],
   "source": [
    "matrix_np   = np.asarray(matrix_list)\n",
    "print(matrix_np)\n",
    "# We get some elements in the first row and assign to `a`\n",
    "a = matrix_np[0,1:3]\n",
    "# We increment by 100 in `a`\n",
    "a += 100 \n",
    "# The values of `matrix_np` are changed\n",
    "print(matrix_np)"
   ]
  },
  {
   "cell_type": "markdown",
   "metadata": {},
   "source": [
    "## How to know whether you are on a view or a copy\n",
    "You can check whether something is a view or a copy, using the `.base` attribute of an array.  \n",
    "It returns `None` if something is a copy, i.e. it is not directly linked to another array.\n",
    "It returns the linked array if it is a view."
   ]
  },
  {
   "cell_type": "code",
   "execution_count": null,
   "metadata": {},
   "outputs": [],
   "source": [
    "a = matrix_np[0,:] # get a slice of the array\n",
    "print(a.base)\n",
    "\n",
    "b = matrix_np[2,2] # get a single element of the array\n",
    "print(b.base)"
   ]
  },
  {
   "cell_type": "markdown",
   "metadata": {},
   "source": [
    "> __Note__ we also see that accessing a single element using indexing returns a copy, not a view.  \n"
   ]
  },
  {
   "cell_type": "markdown",
   "metadata": {},
   "source": [
    "## Summary and Outlook\n",
    "\n",
    "Everything we said about the need to be careful with mutable objects is doubly important for numpy arrays.\n",
    "It can sometimes be confusing when to get back a view (i.e., something refering you to a part of the same object in the same memory) or a copy. \n",
    "\n",
    "> A wise one once said: \"__In doubt, copy.__\"\n",
    "\n",
    "In the next notebook, we will have a look at a variety of numerical operations you can efficiently perform on NumPy arrays."
   ]
  },
  {
   "cell_type": "markdown",
   "metadata": {},
   "source": [
    "You can learn more about views and copies here: https://numpy.org/devdocs/user/basics.copies.html"
   ]
  }
 ],
 "metadata": {
  "language_info": {
   "name": "python"
  }
 },
 "nbformat": 4,
 "nbformat_minor": 2
}
