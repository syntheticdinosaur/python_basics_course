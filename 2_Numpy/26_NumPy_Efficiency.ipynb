{
 "cells": [
  {
   "cell_type": "markdown",
   "metadata": {},
   "source": [
    "## Background: Efficiency of NumPy Arrays\n",
    "\n",
    "At its core, NumPy relies on fixed-type, contiguous memory storage, which reduces the overhead of type-checking and memory management found in native Python lists. This low-level efficiency allows NumPy arrays to store data in a compact format, minimizing memory usage and enhancing access speed. This is also the reason why, if you want to iteratively populate a NumPy array, it is recommended to initialize an empty array of the encessary size first, and then change its elements.\n",
    "\n",
    "Furthermore, NumPy operations are typically implemented in optimized C and Fortran code, enabling computations to run much faster than pure Python code. Many array operations are vectorized, meaning they leverage low-level parallelism to perform element-wise calculations across entire arrays without explicit loops in Python. "
   ]
  },
  {
   "cell_type": "markdown",
   "metadata": {},
   "source": [
    "__Demo: Growing arrays one-by one__  \n",
    "\n",
    "Sometimes, we want to populate an array with one element after the other. While you can just append values to an empty array, this is memory inefficient. Often, it is better to preallocate an array of the expected size, give it the variable type (e.g., `np.float64` for a 64-bit float number) and then just assign new values to the individual indices of that already existing array.  \n",
    "\n",
    "  \n",
    "Run the following lines of code and compare their run time, i.e. the time until the code completes."
   ]
  },
  {
   "cell_type": "code",
   "execution_count": null,
   "metadata": {},
   "outputs": [],
   "source": [
    "import numpy as np"
   ]
  },
  {
   "cell_type": "code",
   "execution_count": null,
   "metadata": {},
   "outputs": [],
   "source": [
    "n = 100000 # Array size"
   ]
  },
  {
   "cell_type": "code",
   "execution_count": null,
   "metadata": {},
   "outputs": [],
   "source": [
    "%%timeit\n",
    "# Preallocation of array in memory\n",
    "\n",
    "dtype = np.int32  # Specify 32-bit integer \n",
    "array = np.empty(n, dtype=dtype) \n",
    "for i in range(n):\n",
    "    array[i] = i  "
   ]
  },
  {
   "cell_type": "code",
   "execution_count": null,
   "metadata": {},
   "outputs": [],
   "source": [
    "%%timeit\n",
    "# Expanding array with each iteration\n",
    "dtype = np.int32 \n",
    "array = np.array([])  # Start with empty array, specified dtype\n",
    "for i in range(n):\n",
    "    array = np.append(array, i) "
   ]
  },
  {
   "cell_type": "markdown",
   "metadata": {},
   "source": [
    "## Summary and Outlook\n",
    "\n",
    "This demo concludes our NumPy part for now. If you want to learn more about NumPy, check the website of the project -  there are many ressources, since it is a core library for scientific python computing. \n",
    "The next section will deal with the visualization of data using matplotlib - Python's most popular plotting module."
   ]
  }
 ],
 "metadata": {
  "language_info": {
   "name": "python"
  }
 },
 "nbformat": 4,
 "nbformat_minor": 2
}
