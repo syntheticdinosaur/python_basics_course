{
 "cells": [
  {
   "cell_type": "markdown",
   "metadata": {},
   "source": [
    "# Numerical Operations\n",
    "\n",
    "## Learning Goals\n",
    "\n",
    "- What makes NumPy arrays useful for numerical operations\n",
    "- How arrays compare against lists for math\n",
    "- an overview of array operations one can perform\n",
    "- how to find the mean of a NumPy array\n",
    "- how to sort a NumPy array\n",
    "- What it means to apply an operation along an axis\n",
    "\n",
    "## Introduction\n",
    "Numpy arrays are at their most powerful when containing numerical data. Many things that are cumbersome with lists come naturally for Numpy arrays. They have math at the core of their being.\n",
    "\n",
    "For starters, we will create both a list as well as a NumPy array containing the same numbers. We will see that the difference in container type (list vs array) changes how easily we can do mathematical operations on the contained elements.  "
   ]
  },
  {
   "cell_type": "code",
   "execution_count": null,
   "metadata": {},
   "outputs": [],
   "source": [
    "import numpy as np"
   ]
  },
  {
   "cell_type": "code",
   "execution_count": null,
   "metadata": {},
   "outputs": [],
   "source": [
    "# Initialize our list and our array\n",
    "number_list = list(range(10))\n",
    "number_arr  = np.arange(10)\n",
    "\n",
    "# print them so we see they contain the same numbers\n",
    "print(f\"{number_list=}\")\n",
    "print(f\"{number_arr=}\")"
   ]
  },
  {
   "cell_type": "markdown",
   "metadata": {},
   "source": [
    "### Math with Lists\n",
    "\n",
    "For a list of numbers, we want to multiply each element by factor 2."
   ]
  },
  {
   "cell_type": "code",
   "execution_count": null,
   "metadata": {},
   "outputs": [],
   "source": [
    "# a naive approach\n",
    "number_list * 2"
   ]
  },
  {
   "cell_type": "markdown",
   "metadata": {},
   "source": [
    "Multiplying a list by a number just repeats the list a number of times. That is not what we want.  \n",
    "To do this properly, we might need to use a for-loop or a so-called list comprehension (don't worry about this now), like this:"
   ]
  },
  {
   "cell_type": "code",
   "execution_count": null,
   "metadata": {},
   "outputs": [],
   "source": [
    "# for-loop\n",
    "double_numbers = []\n",
    "for n in number_list:\n",
    "    double_numbers.append(n*2)\n",
    "print(\"for-loop\", double_numbers)\n",
    "\n",
    "# List comprehension\n",
    "print(\"list comprehension\", [n*2 for n in number_list])  "
   ]
  },
  {
   "cell_type": "markdown",
   "metadata": {},
   "source": [
    "That was not funny nor intuitive.  \n",
    "\n",
    "### Math with NumPy Arrays\n",
    "Multiplying a numpy array with a number does what we want straight away, namely multiplying each element in the array by that number."
   ]
  },
  {
   "cell_type": "code",
   "execution_count": null,
   "metadata": {},
   "outputs": [],
   "source": [
    "print(number_arr*2)"
   ]
  },
  {
   "cell_type": "markdown",
   "metadata": {},
   "source": [
    "The same logic also works for other mathematical operations, which you are welcome to try out."
   ]
  },
  {
   "cell_type": "code",
   "execution_count": null,
   "metadata": {},
   "outputs": [],
   "source": [
    "# Test this for other operations (+, -, /, **)"
   ]
  },
  {
   "cell_type": "markdown",
   "metadata": {},
   "source": [
    "### Element-wise addition of subtraction\n",
    "\n",
    "__Element-wise addition for lists__  \n",
    "Imagine we have two lists of numbers which we want to add elementwise. Just adding two lists like this:\n",
    "\n",
    "```python\n",
    "    list_1 = [1,2,3]\n",
    "    list_2 = [3,2,1]\n",
    "    list_1 + list_2\n",
    "```\n",
    "\n",
    "will just combine both lists into a single new list like this:\n",
    "\n",
    "```python\n",
    "   >>> [1,2,3,3,2,1]\n",
    "```\n",
    "\n",
    " For basic python lists, implementing element-wise addition is relatively cumbersome:"
   ]
  },
  {
   "cell_type": "code",
   "execution_count": null,
   "metadata": {},
   "outputs": [],
   "source": [
    "list_1 = [1,2,3,4,5]\n",
    "list_2 = [-1,-2,-3,-4,-5]\n",
    "\n",
    "# list_1 + list_2 won't do what we want!\n",
    "\n",
    "# The long route would be:\n",
    "new_list = []\n",
    "for idx in range(len(list_1)):\n",
    "    new_list.append(list_1[idx] + list_2[idx])\n",
    "print(new_list)"
   ]
  },
  {
   "cell_type": "markdown",
   "metadata": {},
   "source": [
    "__Element-wise addition for NumPy arrays__  \n",
    "We will see that NumPy arrays make such manipulations much easier, as they natively support element-wise operations if the shapes of the arrays are compatible (or can be made compatible)."
   ]
  },
  {
   "cell_type": "code",
   "execution_count": null,
   "metadata": {},
   "outputs": [],
   "source": [
    "one_array = np.ones(10)\n",
    "rnd_array = np.random.randint(10,size = 10) # Array of random integers from 0 up to incl. 9"
   ]
  },
  {
   "cell_type": "markdown",
   "metadata": {},
   "source": [
    "Arrays of compatible dimensions can be combined with mathematical operations elementwise using their normal operators, e.g. `+`, `-`, `*`,...."
   ]
  },
  {
   "cell_type": "code",
   "execution_count": null,
   "metadata": {},
   "outputs": [],
   "source": [
    "one_array + rnd_array"
   ]
  },
  {
   "cell_type": "markdown",
   "metadata": {},
   "source": [
    "## There are many NumPy operations!\n",
    "\n",
    "Beyond combining two different arrays, we can also perform operations on a single array. We might care for the average value of an array, the maximum or minimum value, and so on. \n",
    "\n",
    "Sometimes, we want to extract some information from an array, e.g. its mean, standard deviation, percentiles etc. Numpy provides various functions for that, and the class of Numpy arrays further implement some of them as methods.\n",
    "\n",
    "The following overview is not meant to be memorized by heart. Again, it's main purpose is to illustrate that there are a lot of inbuilt functions that make working with numerical data easy.\n",
    "\n",
    "\n",
    "| **Category**                  | **Operation**                     | **Function/Method**                                  | **Description**                                   |\n",
    "|-------------------------------|-----------------------------------|-----------------------------------------------------|---------------------------------------------------|\n",
    "| **Statistical Operations**    | Mean                              | `np.mean(array)`, `array.mean()`                    | Computes the average of all elements.             |\n",
    "|                               | Median                            | `np.median(array)`                                  | Computes the middle value of the array.           |\n",
    "|                               | Standard Deviation                | `np.std(array)`, `array.std()`                      | Measures the spread of data.                      |\n",
    "|                               | Variance                          | `np.var(array)`, `array.var()`                      | Computes average squared differences from mean.   |\n",
    "|                               | Minimum/Maximum                   | `np.min(array)`, `np.max(array)`                    | Finds the smallest or largest element.            |\n",
    "|                               | Percentile                        | `np.percentile(array, q)`                           | Finds the `q`th percentile of the array data.     |\n",
    "| **Aggregation Functions**     | Sum                               | `np.sum(array)`, `array.sum()`                      | Computes the sum of all elements.                 |\n",
    "|                               | Product                           | `np.prod(array)`, `array.prod()`                    | Computes the product of all elements.             |\n",
    "|                               | Cumulative Sum                    | `np.cumsum(array)`                                  | Calculates cumulative sum across the array.       |\n",
    "|                               | Cumulative Product                | `np.cumprod(array)`                                 | Calculates cumulative product across the array.   |\n",
    "| **Mathematical Functions**    | Square Root                       | `np.sqrt(array)`                                    | Computes square root of each element.             |\n",
    "|                               | Exponentials                      | `np.exp(array)`                                     | Computes exponential (e^x) of each element.       |\n",
    "|                               | Logarithms                        | `np.log(array)`                                     | Computes natural log of each element.             |\n",
    "|                               | Absolute Value                    | `np.abs(array)`, `array.abs()`                      | Finds absolute value of each element.             |\n",
    "|                               | Rounding                          | `np.round(array)`, `np.floor(array)`, `np.ceil()`   | Rounds to nearest, lowest, or highest integers.   |\n",
    "| **Boolean Operations**        | Any                               | `np.any(array)`, `array.any()`                      | Checks if any elements are `True`.                |\n",
    "|                               | All                               | `np.all(array)`, `array.all()`                      | Checks if all elements are `True`.                |\n",
    "|                               | Count Non-Zero                    | `np.count_nonzero(array)`                           | Counts non-zero elements in the array.            |\n",
    "|**Sorting array values**                               | Sorting                           | `np.sort(array)`, `array.sort()`                    | Sorts elements along a specified axis.            |\n",
    "|                               | Unique Values                     | `np.unique(array)`                                  | Finds unique values in the array.                 |\n",
    "  \n",
    "\n"
   ]
  },
  {
   "cell_type": "markdown",
   "metadata": {},
   "source": [
    "## Testing some NumPy Operations"
   ]
  },
  {
   "cell_type": "code",
   "execution_count": null,
   "metadata": {},
   "outputs": [],
   "source": [
    "# We initialize our test array\n",
    "array = np.random.randint(100, size = (4,5))\n",
    "print(array)"
   ]
  },
  {
   "cell_type": "code",
   "execution_count": null,
   "metadata": {},
   "outputs": [],
   "source": [
    "# Mean\n",
    "mean_value = np.mean(array) # == array.mean()\n",
    "print(\"Mean:\", mean_value)\n",
    "# Median\n",
    "median_value = np.median(array)\n",
    "print(\"Median:\", median_value)\n",
    "# Minimum\n",
    "min_value = np.min(array)   # == array.min()\n",
    "print(\"Minimum:\", min_value)"
   ]
  },
  {
   "cell_type": "markdown",
   "metadata": {},
   "source": [
    "__Applying Operations along dimensions__\n",
    "\n",
    "For multidimensional arrays, we may apply operations also along an array. Imagine a 2d-array (like a table of numbers), in which each row represents a different patient and each column a different day, with the entries storing some variable of interest such as a pain score.  \n",
    "We could take the overall mean, i.e. the average across all patients and all days, but we might also be in a more fine-grained view.  \n",
    "\n",
    "- A mean along the columns would give the overall mean of each patient, across all days\n",
    "- A mean across rows the average pain value of each day, across all patients."
   ]
  },
  {
   "cell_type": "code",
   "execution_count": null,
   "metadata": {},
   "outputs": [],
   "source": [
    "# Mean of columns, i.e., collapse the row dimension\n",
    "array.mean(axis = 0) "
   ]
  },
  {
   "cell_type": "code",
   "execution_count": null,
   "metadata": {},
   "outputs": [],
   "source": [
    " # Mean of rows, collapsing across column dimension\n",
    "array.mean(axis = 1)"
   ]
  },
  {
   "cell_type": "code",
   "execution_count": null,
   "metadata": {},
   "outputs": [],
   "source": [
    "# The axes may also be a tuple, so that you can average across multiple dimensions at once\n",
    "array.mean(axis = (0,1))"
   ]
  },
  {
   "cell_type": "markdown",
   "metadata": {},
   "source": [
    "#### Logical Operations on Arrays\n",
    "\n",
    "We can also use logical statements on NumPy array, e.g., checking whether elements in an array are larger than a certain value or not. \n",
    "Such logical (Boolean) operations on arrays must be performed with a bit of care, as a list of boolean values itself is not a valid boolean that can be used in comparisons. To yield a single boolean value to compare against, you can test whether `any()` element satisfies a criterion, and likewise you may test whether a criterion is True for `all()` elements of an array."
   ]
  },
  {
   "cell_type": "code",
   "execution_count": null,
   "metadata": {},
   "outputs": [],
   "source": [
    "boolean_array = array > 40\n",
    "print(f\"{boolean_array=}\")\n",
    "any_greater_than_8 = np.all(boolean_array)\n",
    "print(\"Any elements greater than 8:\", any_greater_than_8)\n",
    "\n",
    "boolean_array = array < 20\n",
    "print(f\"{boolean_array=}\")\n",
    "any_smaller_than_0 = np.any(boolean_array)\n",
    "print(\"All elements greater than 0:\", any_smaller_than_0)"
   ]
  },
  {
   "cell_type": "markdown",
   "metadata": {},
   "source": [
    "#### Sorting Arrays\n",
    "\n",
    "Sometimes, we want to sort an array by the value of the elements. This can be done using the sort function `np.sort()`."
   ]
  },
  {
   "cell_type": "code",
   "execution_count": null,
   "metadata": {},
   "outputs": [],
   "source": [
    "# Sorting\n",
    "print(\"Original array:\")\n",
    "print(array)\n",
    "sorted_array = np.sort(array, axis = 0)\n",
    "print(\"Sorted array:\", sorted_array)"
   ]
  },
  {
   "cell_type": "markdown",
   "metadata": {},
   "source": [
    "#### Unique Values\n",
    "\n",
    "Sometimes, it is useful to check for all unique values in an array. `np.unique()` does just that."
   ]
  },
  {
   "cell_type": "code",
   "execution_count": null,
   "metadata": {},
   "outputs": [],
   "source": [
    "# Unique values\n",
    "unique_values = np.unique(array)\n",
    "print(\"Unique values:\", unique_values)"
   ]
  },
  {
   "cell_type": "markdown",
   "metadata": {},
   "source": [
    "#### Summation\n",
    "\n",
    "We can also sum all elements of an array. As we have shown for taking the mean, this operation can also be applied along an axis.\n",
    "Likewise, we can also perform a cumulative sum."
   ]
  },
  {
   "cell_type": "code",
   "execution_count": null,
   "metadata": {},
   "outputs": [],
   "source": [
    "\n",
    "total_sum = np.sum(array)\n",
    "print(\"Sum of all elements:\", total_sum)\n",
    "\n",
    "row_sum = array.sum(axis = 1)\n",
    "print(\"Row sum:\", row_sum)\n",
    "\n",
    "# Cumulative sum of elements\n",
    "cumulative_sum = np.cumsum(array)\n",
    "print(\"Cumulative sum of elements:\", cumulative_sum)\n",
    "\n"
   ]
  },
  {
   "cell_type": "markdown",
   "metadata": {},
   "source": [
    "## Bonus: Linear Algebra\n",
    "\n",
    "All of the above operations are already pretty useful. In a lot of scientific computing and data analysis, linear algebra occurs every now and then.\n",
    "So, NumPy of course also supports linear algebra operations, some of which need to be accessed via its `linalg` submodule¹. This encompasses for instance matrix multiplication, eigendecomposition, singular value decomposition, and many more. Principal components analysis a dimensionality reduction method some of you might have already encountered, is for instance based on either singular value decomposition or eigendecomposition.\n",
    "\n",
    "Linear algebra is the work horse of statistics and dynamical systems, so you might encounter it sooner or later in the wild.\n",
    "\n",
    "\n",
    "| **Category**                        | **Operation**                     | **Function/Method**                                  | **Description**                                   |\n",
    "|-------------------------------------|-----------------------------------|-----------------------------------------------------|---------------------------------------------------|\n",
    "| **Linear Algebra Operations**       | Dot Product                       | `np.dot(array, other)`, `array.dot(other)`          | Computes the dot product for 1D, 2D, and higher-dimensional arrays. |\n",
    "|                                     | Matrix Inverse                    | `np.linalg.inv(array)`                              | Finds the inverse of a square matrix.             |\n",
    "|                                     | Eigenvalues and Eigenvectors      | `np.linalg.eig(array)`                              | Computes eigenvalues and eigenvectors.            |\n",
    "|                                     | Singular Value Decomposition (SVD)| `np.linalg.svd(array)`                              | Computes the singular value decomposition of a matrix. |\n",
    "|                                     | Determinant                       | `np.linalg.det(array)`                              | Computes the determinant of a matrix.             |\n",
    "|                                     | Matrix Rank                       | `np.linalg.matrix_rank(array)`                      | Finds the rank of a matrix.                       |\n",
    "| **Matrix Products** | Matrix Multiplication          | `array @ other`, `np.matmul(array, other)`          | Performs matrix multiplication (like linear algebra). |\n",
    "|                                     | Element-wise Multiplication       | `array * other`                                     | Multiplies corresponding elements of arrays.      |\n",
    "\n",
    "\n",
    "\n",
    "We won't delve into details here, but just mention it. I'd also like to mention that there is a convenient short-hand for matrix multiplication in NumPy, namely using the `@` symbol, so that `matrix_a @ matrix_b` is the matrix product of those two matrices. The usual asterisk `*` implements the element-wise or Hadamard product, `matrix_c = matrix_a * matrix_b`, where `matrix_c[i,j] = matrix_a[i,j] * matrix_b[i,j]`).\n",
    "\n",
    "Old code might use the specialised `matrix` object of NumPy. Don't. It's obsolete. Use normal arrays.\n",
    "\n",
    "¹ _on a personal note, I prefer scipy's linalg for some applications, though. By and large, they are very similar, though._"
   ]
  },
  {
   "cell_type": "markdown",
   "metadata": {},
   "source": [
    "## Summary and Outlook\n",
    "\n",
    "In this notebook, we discussed a variety of mathematical operations for NumPy arrays. We have seen that NumPy arrays support the regular arithemtic operations element-wise for compatible arrays, and that likewise multiplication by a scalar (i.e., just a single number) multiplies each element of the array by that scalar. We have also seen that there are multiple mathematical operations that can be performed on single arrays, e.g. to get the mean, find the maximum, or to sort values.\n",
    "In the next notebook, we will have another look at masking arrays, and combining different arrays into a new array. We will also learn how to append elements to existing arrays."
   ]
  }
 ],
 "metadata": {
  "language_info": {
   "name": "python"
  }
 },
 "nbformat": 4,
 "nbformat_minor": 2
}
