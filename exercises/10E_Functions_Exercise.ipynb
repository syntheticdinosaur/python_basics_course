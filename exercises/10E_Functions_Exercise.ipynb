{
 "cells": [
  {
   "cell_type": "markdown",
   "metadata": {},
   "source": [
    "# Exercise: Write your own functions\n",
    "Now it is your time to try out to write some functions that will offer different functionalities. If some examples are too easy you can as well skip them. If you are stuck, you are of course free to look up things or ask GenAI to help you. GenAI will of course be able to solve all problems for you but for learning it might be good to work on it by yourself before ;)\n",
    "\n",
    "You will briefly be told what the function should be able to do. Below the coding cell for the function, there will be a example call of your function and an example of the input the function should return. You are free to name any variables however you wish, just try to get the function to match the ooutput statements.\n",
    "\n",
    "Have fun! :)\n",
    "\n",
    "\n",
    "\n"
   ]
  },
  {
   "cell_type": "markdown",
   "metadata": {},
   "source": [
    "## Task 1: Odd or Even Function\n",
    "Write a function `odd_or_even(n)` that takes a number `n` as input and prints whether the number is odd or even.\n",
    "\n",
    "* **Bonus:** Check if the input is a valid integer. If it's not, print an error message.\n",
    "\n"
   ]
  },
  {
   "cell_type": "code",
   "execution_count": null,
   "metadata": {},
   "outputs": [],
   "source": [
    "def odd_or_even(number):\n",
    "    \"\"\" Evaluate whether a number is odd or even. Returns boolean, 0 if even, 1 if odd\"\"\"\n",
    "    pass"
   ]
  },
  {
   "cell_type": "markdown",
   "metadata": {},
   "source": [
    "Example function calls:"
   ]
  },
  {
   "cell_type": "code",
   "execution_count": null,
   "metadata": {},
   "outputs": [],
   "source": [
    "odd_or_even(7)\n",
    "# Expected output: \"7 is odd.\"\n",
    "\n",
    "odd_or_even(10)\n",
    "# Expected output: \"10 is even.\""
   ]
  },
  {
   "cell_type": "markdown",
   "metadata": {},
   "source": [
    "## Task 2: Sum of Two Numbers\n",
    "Write a function `sum_two_numbers(a, b)` that takes two numbers as parameters and returns their sum."
   ]
  },
  {
   "cell_type": "code",
   "execution_count": null,
   "metadata": {},
   "outputs": [],
   "source": [
    "def sum_two_numbers(number_1, number_2):\n",
    "    pass"
   ]
  },
  {
   "cell_type": "markdown",
   "metadata": {},
   "source": [
    "Example function calls:"
   ]
  },
  {
   "cell_type": "code",
   "execution_count": null,
   "metadata": {},
   "outputs": [],
   "source": [
    "result = sum_two_numbers(3, 5)\n",
    "print(result)\n",
    "# Expected output: 8"
   ]
  },
  {
   "cell_type": "markdown",
   "metadata": {},
   "source": [
    "## Task 3: Reusable Printing Function\n",
    "Write a function `print_message(message, times)` that takes a string message and an integer times as input. The function should print the message the specified number of times.\n",
    "\n",
    "Bonus: If the times parameter is not provided, make the default value 3."
   ]
  },
  {
   "cell_type": "code",
   "execution_count": null,
   "metadata": {},
   "outputs": [],
   "source": [
    "def print_message(message, times):\n",
    "    \"\"\" Prints a message (str) a number of times (int).\"\"\"\n",
    "    pass"
   ]
  },
  {
   "cell_type": "markdown",
   "metadata": {},
   "source": [
    "Example function calls:"
   ]
  },
  {
   "cell_type": "code",
   "execution_count": null,
   "metadata": {},
   "outputs": [],
   "source": [
    "print_message(\"Hello!\", 5)\n",
    "# Expected output:\n",
    "# Hello!\n",
    "# Hello!\n",
    "# Hello!\n",
    "# Hello!\n",
    "# Hello!\n",
    "\n",
    "print_message(\"Hi!\", 3)\n",
    "# Expected output:\n",
    "# Hi!\n",
    "# Hi!\n",
    "# Hi!"
   ]
  },
  {
   "cell_type": "markdown",
   "metadata": {},
   "source": [
    "## Task 4: Check if Number is in Range\n",
    "Write a function `is_in_range(n, low, high)` that takes a number `n` and checks if it falls within the range specified by `low` and `high` (inclusive). The function should return `True` if `n` is in the range, and `False` otherwise."
   ]
  },
  {
   "cell_type": "code",
   "execution_count": null,
   "metadata": {},
   "outputs": [],
   "source": [
    "def is_in_range(number, lower, upper):\n",
    "    \"\"\" Checks if number is in open interval (lower, upper). Returns boolean.\"\"\"\n",
    "    pass"
   ]
  },
  {
   "cell_type": "markdown",
   "metadata": {},
   "source": [
    "Example function calls:"
   ]
  },
  {
   "cell_type": "code",
   "execution_count": null,
   "metadata": {},
   "outputs": [],
   "source": [
    "result = is_in_range(5, 1, 10)\n",
    "print(result)\n",
    "# Expected output: True\n",
    "\n",
    "result = is_in_range(15, 1, 10)\n",
    "print(result)\n",
    "# Expected output: False"
   ]
  },
  {
   "cell_type": "markdown",
   "metadata": {},
   "source": [
    "## Task 5: Simple Calculator\n",
    "Write a function `simple_calculator(a, b, operation)` that takes two numbers `a` and `b` and a string `operation` which can be one of `'add'`, `'subtract'`, `'multiply'`, or `'divide'`. The function should return the result of the specified operation.\n",
    "\n",
    "* **Bonus:** Handle division by zero by printing an error message.\n",
    "* **Bonus 2:** You are of course free to add more functionalities to your calculator"
   ]
  },
  {
   "cell_type": "code",
   "execution_count": null,
   "metadata": {},
   "outputs": [],
   "source": [
    "def simple_calculator(a,b, operation):\n",
    "    \"\"\" A simple calculator. \"\"\"\n",
    "    pass"
   ]
  },
  {
   "cell_type": "code",
   "execution_count": null,
   "metadata": {},
   "outputs": [],
   "source": [
    "a = 1\n",
    "a.__add__(2)"
   ]
  },
  {
   "cell_type": "markdown",
   "metadata": {},
   "source": [
    "Example function calls:"
   ]
  },
  {
   "cell_type": "code",
   "execution_count": null,
   "metadata": {},
   "outputs": [],
   "source": [
    "# Example function call:\n",
    "result = simple_calculator(10, 5, 'add')\n",
    "print(result)\n",
    "# Expected output: 15\n",
    "\n",
    "result = simple_calculator(10, 5, 'multiply')\n",
    "print(result)\n",
    "# Expected output: 2.0isinstance(x, (int, float, complex))\n",
    "\n",
    "result = simple_calculator(10, 0, 'divide')\n",
    "# Expected output: \"Error: Cannot divide by zero.\""
   ]
  },
  {
   "cell_type": "markdown",
   "metadata": {},
   "source": [
    "## Task 6: Days in a Month\n",
    "Write a function `days_in_month(month, year=None)` that takes the name of a month as input (e.g., `'January'`, `'February'`) and returns the number of days in that month. You can assume the month name will always be given in the format of `\"January\"`, `\"February\"`, etc.\n",
    "\n",
    "* Bonus: Add an optional `year` parameter. If the month is `'February'`, return 29 days for leap years, and 28 days otherwise. A leap year is divisible by 4, but not divisible by 100, unless it is also divisible by 400."
   ]
  },
  {
   "cell_type": "code",
   "execution_count": null,
   "metadata": {},
   "outputs": [],
   "source": [
    "def days_in_month(month_name, year = -1):\n",
    "    \"\"\" Cound days in a month, given a year. \"\"\"\n",
    "    pass\n"
   ]
  },
  {
   "cell_type": "markdown",
   "metadata": {},
   "source": [
    "Example function calls:"
   ]
  },
  {
   "cell_type": "code",
   "execution_count": null,
   "metadata": {},
   "outputs": [],
   "source": [
    "days = days_in_month(\"February\")\n",
    "print(days)\n",
    "# Expected output: 28 (or 29 if current year is a leap year)\n",
    "\n",
    "days = days_in_month(\"February\", 2024)\n",
    "print(days)\n",
    "# Expected output: 29 (since 2024 is a leap year)\n",
    "\n",
    "days = days_in_month(\"December\")\n",
    "print(days)\n",
    "# Expected output: 30"
   ]
  },
  {
   "cell_type": "markdown",
   "metadata": {},
   "source": [
    "## Task 7: Count Vowels in a String\n",
    "Write a function `count_vowels(s)` that takes a string `s` as input and returns the number of vowels (a, e, i, o, u, both lowercase and uppercase) in the string.\n",
    "\n",
    "* Hint: You can convert the string to lowercase using the `.lower()` method to simplify the comparison."
   ]
  },
  {
   "cell_type": "code",
   "execution_count": null,
   "metadata": {},
   "outputs": [],
   "source": [
    "def count_vowels(string):\n",
    "    pass"
   ]
  },
  {
   "cell_type": "markdown",
   "metadata": {},
   "source": [
    "Example function calls:"
   ]
  },
  {
   "cell_type": "code",
   "execution_count": null,
   "metadata": {},
   "outputs": [],
   "source": [
    "vowel_count = count_vowels(\"Hello World\")\n",
    "print(f\"{vowel_count=}, expected 3\")\n",
    "\n",
    "vowel_count = count_vowels(\"Python\")\n",
    "print(f\"{vowel_count=}, expected 1\")\n"
   ]
  },
  {
   "cell_type": "markdown",
   "metadata": {},
   "source": [
    "## Code Documentation: Docstring\n",
    "Use a LLM (e.g. ChatGPT) to generate a docstring for at least one function by pasting your code. Run the cell again to update the version of the function in memory and print the docstring of the function by using the `help()` function."
   ]
  },
  {
   "cell_type": "code",
   "execution_count": null,
   "metadata": {},
   "outputs": [],
   "source": [
    "help(function_name)"
   ]
  }
 ],
 "metadata": {
  "kernelspec": {
   "display_name": "Python 3 (ipykernel)",
   "language": "python",
   "name": "python3"
  },
  "language_info": {
   "codemirror_mode": {
    "name": "ipython",
    "version": 3
   },
   "file_extension": ".py",
   "mimetype": "text/x-python",
   "name": "python",
   "nbconvert_exporter": "python",
   "pygments_lexer": "ipython3",
   "version": "3.12.10"
  }
 },
 "nbformat": 4,
 "nbformat_minor": 4
}
