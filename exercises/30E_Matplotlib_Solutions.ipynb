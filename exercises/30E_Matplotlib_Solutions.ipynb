{
 "cells": [
  {
   "cell_type": "markdown",
   "metadata": {},
   "source": [
    "## Example Solution"
   ]
  },
  {
   "cell_type": "code",
   "execution_count": null,
   "metadata": {},
   "outputs": [],
   "source": [
    "# Example Solution\n",
    "#\n",
    "#\n",
    "# The following is not the prettiest or most elegant solution for this, but it works\n",
    "# It is quite verbose and relies on a lot of copy paster lines of code\n",
    "#\n",
    "\n",
    "t_end = 1\n",
    "srate = 1000\n",
    "t = np.linspace(0,t_end, srate)\n",
    "\n",
    "kernel = np.ones(20)/20\n",
    "cond1_mean = condition_1.mean(axis = 0)\n",
    "cond2_mean = condition_2.mean(axis = 0)\n",
    "\n",
    "cond1_mean = np.convolve(cond1_mean, kernel, \"same\")\n",
    "cond2_mean = np.convolve(cond2_mean, kernel, \"same\")\n",
    "peak_1 = t[np.argmax(cond1_mean)]\n",
    "peak_2 = t[np.argmax(cond2_mean)]\n",
    "\n",
    "\n",
    "fig = plt.figure(figsize=(8,8))\n",
    "gs = gridspec.GridSpec(2, 2, height_ratios=[1., 1], width_ratios=[1, 1])\n",
    "\n",
    "ax1 = fig.add_subplot(gs[0, :])  \n",
    "ax2 = fig.add_subplot(gs[1, 0]) \n",
    "ax3 = fig.add_subplot(gs[1, 1])  \n",
    "\n",
    "ax1.plot(t, cond1_mean, c = \"r\", alpha = 0.3, label = \"Condition 1\")\n",
    "ax1.plot(t, cond2_mean, c = \"b\", alpha = 0.3, label = \"Condition 2\")\n",
    "ax1.plot(t, cond1_mean -cond2_mean, c = \"k\", label = \"Condition Difference \\nCondition 1 - Condition 2\")\n",
    "\n",
    "ax2.plot(t, condition_1.T, color = \"darkgray\", alpha = 0.05)\n",
    "ax2.plot(t, cond1_mean, color = \"k\", label = \"Smoothed Average Waveform\")\n",
    "ax2.axvline(t[np.argmax(cond1_mean)], color = \"r\", alpha = 0.5, label = f\"Peak Latency {peak_1:.2f}s\")\n",
    "\n",
    "ax3.plot(t, condition_2.T, color = \"darkgray\", alpha = 0.05)\n",
    "ax3.plot(t, cond2_mean, color = \"k\", label = \"Smoothed Average Waveform\")\n",
    "ax3.axvline(t[np.argmax(cond2_mean)], color = \"r\", alpha = 0.5, label = f\"Peak Latency {peak_2:.2f}s\")\n",
    "\n",
    "for ax in (ax1, ax2, ax3):\n",
    "    ax.set_ylabel(\"$\\mu \\mathrm{V}$\")\n",
    "    ax.set_xlabel(\"seconds\")\n",
    "    ax.set_ylim(-15,15)\n",
    "    ax.set_yticks([-10, -5, 0, 5, 10])\n",
    "    ax.set_xlim(0,1)\n",
    "    ax.legend(loc = \"lower right\")\n",
    "    ax.grid()\n",
    "\n",
    "ax1.set_ylim(-7.5,7.5)\n",
    "ax1.set_title(\"Average Waveforms\")\n",
    "ax2.set_title(\"Condition 1\")\n",
    "ax3.set_title(\"Condition 2\")\n",
    "fig.suptitle(\"ERPs for Condition 1 and Condition 2\", fontsize = 16)\n",
    "plt.tight_layout()\n",
    "plt.show()"
   ]
  }
 ],
 "metadata": {
  "language_info": {
   "name": "python"
  }
 },
 "nbformat": 4,
 "nbformat_minor": 2
}
