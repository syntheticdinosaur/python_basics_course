{
 "cells": [
  {
   "cell_type": "markdown",
   "id": "3ac6083b-127f-4f67-88de-d9d94d432a74",
   "metadata": {},
   "source": [
    "# Function Exercises: Solutions\n",
    "\n",
    "The following contains some solutions for our function coding exercises. \n",
    "The first solution given is \"standard\", while following solutions are a bit more involved and at times arcane solutions.  \n",
    "The latter are more food for thought: How and why do they work? Do they share the same edge cases?"
   ]
  },
  {
   "cell_type": "markdown",
   "id": "e3081ca2-6f13-4f94-b575-d21073e9ab9b",
   "metadata": {},
   "source": [
    "## Task 1: Odd or Even Function\n",
    "Write a function `odd_or_even(n)` that takes a number `n` as input and prints whether the number is odd or even.\n",
    "\n",
    "* **Bonus:** Check if the input is a valid integer. If it's not, print an error message.\n"
   ]
  },
  {
   "cell_type": "code",
   "execution_count": null,
   "id": "fc03636c-f795-4b7c-be61-5332c5b91977",
   "metadata": {},
   "outputs": [],
   "source": [
    "def odd_or_even(n):\n",
    "    if isinstance(n, int): # isinstance is a robust way to check whether a variable is of a certain type\n",
    "        if n % 2 == 0:\n",
    "            print(\"Even\")\n",
    "        else:\n",
    "            print(\"Odd\")\n",
    "    else:\n",
    "        print(\"Error: Input is not a valid integer\")"
   ]
  },
  {
   "cell_type": "code",
   "execution_count": null,
   "id": "f408d443-aa13-4868-9668-7a0ff412861b",
   "metadata": {},
   "outputs": [],
   "source": [
    "odd_or_even(4)  # Expected output: \"Even\"\n",
    "odd_or_even(101)  # Expected output: \"Odd\"\n",
    "odd_or_even(100.0)"
   ]
  },
  {
   "cell_type": "code",
   "execution_count": null,
   "id": "7538a324-eca8-4147-a438-9c5ca22750b1",
   "metadata": {},
   "outputs": [],
   "source": [
    "def odd_or_even(n):\n",
    "    if not isinstance(n, int):\n",
    "        return print(\"Error: Input is not a valid integer\")\n",
    "    print(f'{n} is odd' if (n % 2) else f'{n} is even')"
   ]
  },
  {
   "cell_type": "code",
   "execution_count": null,
   "id": "683adc0f-8250-41f0-b380-8278a9ddacca",
   "metadata": {},
   "outputs": [],
   "source": [
    "# Test\n",
    "odd_or_even(4)  # Expected output: \"Even\"\n",
    "odd_or_even(101)  # Expected output: \"Odd\"\n",
    "odd_or_even(100.0)"
   ]
  },
  {
   "cell_type": "markdown",
   "id": "de990021-cb84-4058-9c72-29fe015d16cd",
   "metadata": {},
   "source": [
    "## Task 2: Sum of Two Numbers\n",
    "Write a function `sum_two_numbers(a, b)` that takes two numbers as parameters and returns their sum."
   ]
  },
  {
   "cell_type": "code",
   "execution_count": null,
   "id": "ce9494ae-cf3c-49e0-a833-6997b12b4f91",
   "metadata": {},
   "outputs": [],
   "source": [
    "def sum_two_numbers(a, b):\n",
    "    if isinstance(a, (int, float, complex)) and isinstance(b, (int, float, complex)):\n",
    "        return a + b\n",
    "    else:\n",
    "        return \"Error: Both inputs must be numbers\""
   ]
  },
  {
   "cell_type": "code",
   "execution_count": null,
   "id": "fd2a1530-2579-4567-b2e0-e5c3961dff74",
   "metadata": {},
   "outputs": [],
   "source": [
    "result = sum_two_numbers(1, 4)\n",
    "print(f\"{result=}, expected {1+4}\")\n",
    "\n",
    "result = sum_two_numbers(1, -4)\n",
    "print(f\"{result=}, expected {1+-4}\")\n",
    "\n",
    "result = sum_two_numbers(1, '4')\n",
    "print(f\"{result=}, expected  'Error: Both inputs must be numbers'\")"
   ]
  },
  {
   "cell_type": "markdown",
   "id": "df541b78-72c4-4501-a9d0-ae56d9550f64",
   "metadata": {},
   "source": [
    "## Task 3: Reusable Printing Function\n",
    "Write a function `print_message(message, times)` that takes a string message and an integer times as input. The function should print the message the specified number of times.\n",
    "\n",
    "Bonus: If the times parameter is not provided, make the default value 3."
   ]
  },
  {
   "cell_type": "code",
   "execution_count": null,
   "id": "0a33dd77-2b0d-4e6a-9031-566405ff42a7",
   "metadata": {},
   "outputs": [],
   "source": [
    "# Classical Solution with a for-loop\n",
    "def print_message(message, times = 3):\n",
    "    if not isinstance(times, int) or times < 1:\n",
    "        return print(f\"{times} must be positive integer, but was {type(times)}.\")\n",
    "    for _ in range(times):\n",
    "        print(message)"
   ]
  },
  {
   "cell_type": "code",
   "execution_count": null,
   "id": "c898d8c1-0076-4a0a-9e1a-5b27784f7358",
   "metadata": {},
   "outputs": [],
   "source": [
    "# Test\n",
    "print_message(\"I coded someting\", 2)\n",
    "print_message(\"only message default times\")\n",
    "print_message(\"I coded something\", -3)"
   ]
  },
  {
   "cell_type": "code",
   "execution_count": null,
   "id": "3213732f-7c49-454d-b3f1-ec892e99db84",
   "metadata": {},
   "outputs": [],
   "source": [
    "def print_message(message, times = 3):\n",
    "    if not isinstance(times, int) or times < 1:\n",
    "        return print(f\"{times} must be positive integer, but was {type(times)}.\")\n",
    "    while times:\n",
    "        # This takes advantage of the fact that 0 is equivalent to False and any (!) other number is True.\n",
    "        # you can test this by printing bool(number) for any number you like.\n",
    "        # For this to work, it's important to assert that the passed number is a positive integer; Why?\n",
    "        print(message)\n",
    "        times -= 1"
   ]
  },
  {
   "cell_type": "code",
   "execution_count": null,
   "id": "f7b1e315-9d6c-4a85-9926-d92c316ea535",
   "metadata": {},
   "outputs": [],
   "source": [
    "# Test\n",
    "print_message(\"I coded someting\", 2)\n",
    "print_message(\"only message default times\")\n",
    "print_message(\"I coded something\", -3)"
   ]
  },
  {
   "cell_type": "markdown",
   "id": "fbc92f26-7f9d-4fe1-b07a-2cf26c6f84f2",
   "metadata": {},
   "source": [
    "## Task 4: Check if Number is in Range\n",
    "Write a function `is_in_range(n, low, high)` that takes a number `n` and checks if it falls within the range specified by `low` and `high` (inclusive). The function should return `True` if `n` is in the range, and `False` otherwise."
   ]
  },
  {
   "cell_type": "code",
   "execution_count": null,
   "id": "6d912e27-b92d-47f3-9245-10f85d249d3f",
   "metadata": {},
   "outputs": [],
   "source": [
    "def is_in_range(n, low, high):\n",
    "    \"\"\" Checks if number is in open interval (lower, upper). Returns boolean.\"\"\"\n",
    "    if n >= low and n <= high:\n",
    "        return True\n",
    "    else:\n",
    "        return False"
   ]
  },
  {
   "cell_type": "code",
   "execution_count": null,
   "id": "96ca4c25-a5a2-4f88-83aa-36032248ce2a",
   "metadata": {},
   "outputs": [],
   "source": [
    "result = is_in_range(5, 1, 10)\n",
    "print(f\"{result=}, expected True\")\n",
    "\n",
    "result = is_in_range(15, -1, 10)\n",
    "print(f\"{result=}, expected False\")\n",
    "\n",
    "result = is_in_range(15, 1, -10)\n",
    "print(f\"{result=}, expected False\")"
   ]
  },
  {
   "cell_type": "code",
   "execution_count": null,
   "id": "51485242-f6b5-4acd-b29f-fa094a65f192",
   "metadata": {},
   "outputs": [],
   "source": [
    "def is_in_range(n, low, high):\n",
    "    \"\"\" Checks if number is in open interval (lower, upper). Returns boolean.\"\"\"\n",
    "    return low <= n <= high"
   ]
  },
  {
   "cell_type": "code",
   "execution_count": null,
   "id": "813789b7-93cf-4c84-beb9-03591c87b4e6",
   "metadata": {},
   "outputs": [],
   "source": [
    "result = is_in_range(5, 1, 10)\n",
    "print(f\"{result=}, expected True\")\n",
    "\n",
    "result = is_in_range(15, -1, 10)\n",
    "print(f\"{result=}, expected False\")\n",
    "\n",
    "result = is_in_range(15, 1, -10)\n",
    "print(f\"{result=}, expected False\")"
   ]
  },
  {
   "cell_type": "markdown",
   "id": "c095604b-db9d-4cd4-8860-86022572c6cc",
   "metadata": {},
   "source": [
    "## Task 5: Simple Calculator\n",
    "Write a function `simple_calculator(a, b, operation)` that takes two numbers `a` and `b` and a string `operation` which can be one of `'add'`, `'subtract'`, `'multiply'`, or `'divide'`. The function should return the result of the specified operation.\n",
    "\n",
    "* **Bonus:** Handle division by zero by printing an error message.\n",
    "* **Bonus 2:** You are of course free to add more functionalities to your calculator"
   ]
  },
  {
   "cell_type": "code",
   "execution_count": null,
   "id": "5cacc99b-4446-4226-85b5-15392baacff2",
   "metadata": {},
   "outputs": [],
   "source": [
    "def simple_calculator(a, b, operation):\n",
    "    \"\"\"\n",
    "    Perform a basic mathematical operation (addition, subtraction, multiplication, division) on two numbers.\n",
    "\n",
    "    Inputs:\n",
    "        a (int or float): The first number.\n",
    "        b (int or float): The second number.\n",
    "        operation (str): The operation to perform. \n",
    "                         Must be one of 'add', 'subtract', 'multiply', or 'divide'.\n",
    "\n",
    "    Returns:\n",
    "        int, float, or str: The result of the operation if valid, or an error message.\n",
    "    \n",
    "    Notes:\n",
    "        - Division by zero is handled and will return an error message.\n",
    "        - If an invalid operation is provided, an error message will be returned.\n",
    "    \"\"\"\n",
    "    if isinstance(a, (int, float, complex)) and isinstance(b, (int, float, complex)):\n",
    "        if operation == 'add':\n",
    "            return a + b\n",
    "        elif operation == 'subtract':\n",
    "            return a - b\n",
    "        elif operation == 'multiply':\n",
    "            return a * b\n",
    "        elif operation == 'divide':\n",
    "            if b == 0:\n",
    "                return \"Error: Division by zero\"\n",
    "            return a / b\n",
    "        else:\n",
    "            return \"Error: Invalid operation\"\n",
    "    else:\n",
    "        return \"Error: Inputs must be numbers\"\n"
   ]
  },
  {
   "cell_type": "code",
   "execution_count": null,
   "id": "b1de809b-206a-4671-8449-c303b15d0e60",
   "metadata": {},
   "outputs": [],
   "source": [
    "result = simple_calculator(10, 5, 'add')\n",
    "print(f\"{result=}, expected {10+5}\")\n",
    "\n",
    "result = simple_calculator(10, 5, 'multiply')\n",
    "print(f\"{result=}, expected {10*5}\")\n",
    "\n",
    "result = simple_calculator(10, 0, 'divide')\n",
    "print(f\"{result=}, expected 'Error: Division by zero.'\")\n",
    "\n",
    "result = simple_calculator(10, \"0\", 'divide')\n",
    "print(f\"{result=}, expected 'Error: Inputs must be numbers'\")\n"
   ]
  },
  {
   "cell_type": "code",
   "execution_count": null,
   "id": "bb198ac7-f496-4ff5-b904-334faaed6e7e",
   "metadata": {},
   "outputs": [],
   "source": [
    "def not_so_simple_calculator(a,b, operation):\n",
    "    \"\"\"\n",
    "    A weird calculator using rather arcane ways. More a demonstration of what you can than what you should do.\n",
    "    It basically exploits the fact that everything in python is an object. So even the number 1 is an object,\n",
    "    with an __add__ method etc.\n",
    "\n",
    "    This also shows what '+' actually does in Python: It calls the __add__ method of an object.\n",
    "    \"\"\"\n",
    "    operation_dict = {\"add\": \"__add__\",\n",
    "                      \"multiply\": \"__mul__\",\n",
    "                      \"divide\": \"__truediv__\",\n",
    "                      \"subtract\": \"__sub__\"}\n",
    "    # We cast to float; could also cast to complex.\n",
    "    # You can check what happens when we don't cast ints to floats and try to combine them later in the testing!\n",
    "    a, b = float(a), float(b) \n",
    "    return eval(f\"a.{operation_dict[operation]}(b)\")\n",
    "    # eval allows the execution of dynamically defined code defined in the passed string; With great power comes great responsibility.\n",
    "    # In production code, this ideally should never occur. Iff you use it, robust input checks against arbitrary code injection are necessary.\n",
    "    "
   ]
  },
  {
   "cell_type": "code",
   "execution_count": null,
   "id": "1f90b5c7-5e76-494e-b65d-84bf136d92aa",
   "metadata": {},
   "outputs": [],
   "source": [
    "result = not_so_simple_calculator(10, 201, \"add\")\n",
    "print(f\"{result=}, expected {10+201}\")\n",
    "\n",
    "result = not_so_simple_calculator(10, 201, \"subtract\")\n",
    "print(f\"{result=}, expected {10-201}\")\n",
    "\n",
    "result = not_so_simple_calculator(10, 5.5, \"multiply\")\n",
    "print(f\"{result=}, expected {10*5.5}\")"
   ]
  },
  {
   "cell_type": "markdown",
   "id": "e69065f5-e949-4d0f-a024-0f945763aa36",
   "metadata": {},
   "source": [
    "## Task 6: Days in a Month\n",
    "Write a function `days_in_month(month, year=None)` that takes the name of a month as input (e.g., `'January'`, `'February'`) and returns the number of days in that month. You can assume the month name will always be given in the format of `\"January\"`, `\"February\"`, etc.\n",
    "\n",
    "* Bonus: Add an optional `year` parameter. If the month is `'February'`, return 29 days for leap years, and 28 days otherwise. A leap year is divisible by 4, but not divisible by 100, unless it is also divisible by 400."
   ]
  },
  {
   "cell_type": "code",
   "execution_count": null,
   "id": "487de61f-d1d2-4f7e-9b3f-4597757da525",
   "metadata": {},
   "outputs": [],
   "source": [
    "def days_in_month(month, year=None):\n",
    "    \"\"\"\n",
    "    Returns the number of days in the given month using a look-up table and leap-year logic.\n",
    "    \n",
    "    Args:\n",
    "        month (str): The name of the month (e.g., 'January', 'February').\n",
    "        year (int, optional): The year to check for leap years (only affects February).\n",
    "    \n",
    "    Returns:\n",
    "        int: The number of days in the specified month.\n",
    "    \"\"\"\n",
    "    month = month.capitalize()\n",
    "    month_days = {\n",
    "        'January': 31, 'February': 28, 'March': 31, 'April': 30,\n",
    "        'May': 31, 'June': 30, 'July': 31, 'August': 31,\n",
    "        'September': 30, 'October': 31, 'November': 30, 'December': 31\n",
    "    }\n",
    "    \n",
    "    if month == 'February' and year is not None:\n",
    "        if (year % 4 == 0 and year % 100 != 0) or (year % 400 == 0):\n",
    "            return 29\n",
    "    \n",
    "    return month_days[month] # alternatively, one could youse month_days.get(month, \"Error: Invalid month name\") for a 'nicer' way of accessing dict values, with access error handling\n"
   ]
  },
  {
   "cell_type": "code",
   "execution_count": null,
   "id": "dc7151ea-7215-4a5d-8b91-8ec292105058",
   "metadata": {},
   "outputs": [],
   "source": [
    "days = days_in_month(\"February\")\n",
    "print(f\"{days=}, expected {28 if days == 28 else '28 or 29 depending on leap year handling'}\")\n",
    "\n",
    "days = days_in_month(\"February\", 2024)\n",
    "print(f\"{days=}, expected 29\")\n",
    "\n",
    "days = days_in_month(\"December\")\n",
    "print(f\"{days=}, expected 31\")"
   ]
  },
  {
   "cell_type": "code",
   "execution_count": null,
   "id": "ee99ed7d-fab9-4cfd-8366-4cad5b8b6fe8",
   "metadata": {},
   "outputs": [],
   "source": [
    "def days_in_month(month_name, year = -1):\n",
    "    months = [\n",
    "        \"January\", \"February\", \"March\", \"April\", \"May\", \"June\", \n",
    "        \"July\", \"August\", \"September\", \"October\", \"November\", \"December\"\n",
    "    ]\n",
    "    if not month.capitalize() in months:\n",
    "        return \"Invalid month name\"\n",
    "    month_number = months.index(month.capitalize()) + 1\n",
    "\n",
    "    if month_number == 2:\n",
    "        return 29 if (year % 4 == 0 and year % 100 != 0) or (year % 400 == 0) else 28\n",
    "    elif month_number < 8:\n",
    "        return 31 if month % 2 != 0 else 30\n",
    "    else:\n",
    "        return 31 if month % 2 == 0 else 30\n"
   ]
  },
  {
   "cell_type": "code",
   "execution_count": null,
   "id": "0a6768fd-72cf-47b4-9e3c-623ff14b81f7",
   "metadata": {},
   "outputs": [],
   "source": [
    "days = days_in_month(\"February\")\n",
    "print(f\"{days=}, expected {28 if days == 28 else '28 or 29 depending on leap year handling'}\")\n",
    "\n",
    "days = days_in_month(\"February\", 2024)\n",
    "print(f\"{days=}, expected 29\")\n",
    "\n",
    "days = days_in_month(\"December\")\n",
    "print(f\"{days=}, expected 31\")"
   ]
  },
  {
   "cell_type": "markdown",
   "id": "b3f7f591-06de-4237-b4a2-75dfed1c5ee7",
   "metadata": {},
   "source": [
    "## Task 7: Count Vowels in a String\n",
    "Write a function `count_vowels(s)` that takes a string `s` as input and returns the number of vowels (a, e, i, o, u, both lowercase and uppercase) in the string.\n",
    "\n",
    "* Hint: You can convert the string to lowercase using the `.lower()` method to simplify the comparison."
   ]
  },
  {
   "cell_type": "code",
   "execution_count": null,
   "id": "19976708-e390-45bc-b0fa-fcc55b2c200e",
   "metadata": {},
   "outputs": [],
   "source": [
    "def count_vowels(s):\n",
    "    \"\"\"\n",
    "    Counts the number of vowels in the given string using an incrementing counter.\n",
    "    \n",
    "    Args:\n",
    "        s (str): Input string to count vowels from.\n",
    "    \n",
    "    Returns:\n",
    "        int: Number of vowels in the string.\n",
    "    \"\"\"\n",
    "    vowels = \"aeiou\"  \n",
    "    count = 0     \n",
    "    for char in s.lower(): \n",
    "        if char in vowels: \n",
    "            count += 1\n",
    "    \n",
    "    return count"
   ]
  },
  {
   "cell_type": "code",
   "execution_count": null,
   "id": "255dfdb1-0e1e-4695-b00b-d0bca2c4fd7f",
   "metadata": {},
   "outputs": [],
   "source": [
    "vowel_count = count_vowels(\"Hello World\")\n",
    "print(f\"{vowel_count=}, expected 3\")\n",
    "\n",
    "vowel_count = count_vowels(\"Python\")\n",
    "print(f\"{vowel_count=}, expected 1\")\n"
   ]
  },
  {
   "cell_type": "code",
   "execution_count": null,
   "id": "f2f5bb99-598a-44a5-ad41-6d8162a5f24c",
   "metadata": {},
   "outputs": [],
   "source": [
    "def count_vowels(s):\n",
    "    \"\"\" Counts vowels using list comprehension \"\"\"\n",
    "    vowels = \"aeiou\"\n",
    "    return len([_ for _ in s.lower() if _ in vowels]) # List all vowels in the string, check the length of the string"
   ]
  },
  {
   "cell_type": "code",
   "execution_count": null,
   "id": "89203d97-f7af-4ad0-b5c4-07d1ee5de7fb",
   "metadata": {},
   "outputs": [],
   "source": [
    "vowel_count = count_vowels(\"Hello World\")\n",
    "print(f\"{vowel_count=}, expected 3\")\n",
    "\n",
    "vowel_count = count_vowels(\"Python\")\n",
    "print(f\"{vowel_count=}, expected 1\")\n"
   ]
  },
  {
   "cell_type": "code",
   "execution_count": null,
   "id": "e74676f9-8e78-42c6-aab7-ea7abd5479ba",
   "metadata": {},
   "outputs": [],
   "source": [
    "def count_vowels(s):\n",
    "    \"\"\"\n",
    "    Counts the vowels in a string using summation and a generator expression\n",
    "    \"\"\"\n",
    "    return sum(1 for char in s.lower() if char in \"aeiou\") # Use a generator expression"
   ]
  },
  {
   "cell_type": "code",
   "execution_count": null,
   "id": "b48dad79-0607-4348-ad6f-cb1e9c72d1ea",
   "metadata": {},
   "outputs": [],
   "source": [
    "vowel_count = count_vowels(\"Hello World\")\n",
    "print(f\"{vowel_count=}, expected 3\")\n",
    "\n",
    "vowel_count = count_vowels(\"Python\")\n",
    "print(f\"{vowel_count=}, expected 1\")\n"
   ]
  },
  {
   "cell_type": "markdown",
   "id": "818ffcdf-bcd7-4230-b37e-85b458a432ae",
   "metadata": {},
   "source": [
    "## Bonus: Time Efficiency of List Operations\n",
    "\n",
    "A fellow student of yours asked us about quantifying the time efficiency of different ways of adding elements to lists.\n",
    "Remember that when we discussed mutable and immutable types, we saw that something like\n",
    "\n",
    "`new_list = new_list + other_list` effectively creates a new object at a different memory location, while:   \n",
    "`new_list += other_list` kept the same memory location.\n",
    "\n",
    "We will now use the `%%timeit` 'cell magic' to see how fast these options are.\n",
    "\n",
    "Jupyter cell and line magic commands are special commands prefixed with `%` (line magic) or `%%` (cell magic) that provide additional functionality for working within a Jupyter notebook. Line magics apply to a single line (e.g., `%time`), while cell magics apply to the entire cell content (e.g., `%%time`), offering tools for tasks like profiling, debugging, or interacting with external systems."
   ]
  },
  {
   "cell_type": "code",
   "execution_count": null,
   "id": "ae79ce96-3dac-49af-8b82-4698ba61c1db",
   "metadata": {},
   "outputs": [],
   "source": [
    "%%timeit\n",
    "newlist = []\n",
    "reps = 1000\n",
    "\n",
    "for _ in range(reps):\n",
    "    newlist = newlist + [1]    "
   ]
  },
  {
   "cell_type": "code",
   "execution_count": null,
   "id": "f4c61613-bb83-4796-8a32-a45820131a5a",
   "metadata": {},
   "outputs": [],
   "source": [
    "%%timeit\n",
    "newlist = []\n",
    "reps = 1000\n",
    "\n",
    "for _ in range(reps):\n",
    "    newlist += [1]"
   ]
  },
  {
   "cell_type": "markdown",
   "id": "a519b688-a9f4-4b0c-8b2b-219a8f1ceda5",
   "metadata": {},
   "source": [
    "__A condisderable time saving can be thus be had when smartly using mutable objects!__"
   ]
  }
 ],
 "metadata": {
  "kernelspec": {
   "display_name": "Python 3 (ipykernel)",
   "language": "python",
   "name": "python3"
  },
  "language_info": {
   "codemirror_mode": {
    "name": "ipython",
    "version": 3
   },
   "file_extension": ".py",
   "mimetype": "text/x-python",
   "name": "python",
   "nbconvert_exporter": "python",
   "pygments_lexer": "ipython3",
   "version": "3.11.6"
  }
 },
 "nbformat": 4,
 "nbformat_minor": 5
}
