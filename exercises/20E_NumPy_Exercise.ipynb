{
 "cells": [
  {
   "cell_type": "markdown",
   "id": "37272ee0-f6af-4013-a4d9-78c4a84f5cca",
   "metadata": {},
   "source": [
    "# Numpy Exercises\n"
   ]
  },
  {
   "cell_type": "code",
   "execution_count": null,
   "id": "e1179d13-9882-4327-85aa-aa20156175d5",
   "metadata": {},
   "outputs": [],
   "source": [
    "import numpy as np # of course!"
   ]
  },
  {
   "cell_type": "markdown",
   "id": "9d2e8027-212a-40a0-8cf2-beca56d8de2a",
   "metadata": {},
   "source": [
    "## Exercise 1\n",
    "\n",
    "In the following, write a function that normalizes an array, so that it's values are within the closed interval [0,1] (so including 0 and 1).\n",
    "\n",
    "The function should:\n",
    "* Calculate the minimum and maximum values of the array.\n",
    "* Normalize the array such that the minimum value becomes 0 and the maximum value becomes 1.\n",
    "* Return the normalized array.\n",
    "* _Optional:_ Check if the input is a valid NumPy array. Try to cast lists and tuples into a valid NumPy array.\n"
   ]
  },
  {
   "cell_type": "code",
   "execution_count": null,
   "id": "6f37a320-e5ed-42fa-a822-e985ad9a0478",
   "metadata": {},
   "outputs": [],
   "source": [
    "# Implement the array normalization here :)\n",
    "def normalize_array():\n",
    "    pass # delete 'pass' and replace with your implementation!\n"
   ]
  },
  {
   "cell_type": "code",
   "execution_count": null,
   "id": "457f8dc7-3959-4134-ae40-4ac1f5001226",
   "metadata": {},
   "outputs": [],
   "source": [
    "# Test\n",
    "arr = np.array([2, 4, 6, 8, 10])\n",
    "normalized_arr = normalize_array(arr)\n",
    "expected_output  = np.array([0., 0.25,  0.5, 0.75, 1])\n",
    "\n",
    "print(normalized_arr) \n",
    "print(expected_output)\n",
    "print(\"Test passed?\", np.all(normalized_arr == expected_output))"
   ]
  },
  {
   "cell_type": "markdown",
   "id": "c06bbd2a-dfd5-4b34-9269-90893ce0b1be",
   "metadata": {
    "jp-MarkdownHeadingCollapsed": true
   },
   "source": [
    "### Example Solution Exercise 1"
   ]
  },
  {
   "cell_type": "code",
   "execution_count": null,
   "id": "c7f407ca-be0c-4506-b4ac-b96a66f1b181",
   "metadata": {
    "jupyter": {
     "source_hidden": true
    }
   },
   "outputs": [],
   "source": [
    "# Example Solution: Avert thyne eyes should ye not have attempted it yerself!\n",
    "#\n",
    "#\n",
    "#\n",
    "#\n",
    "#\n",
    "# NO PEEKING!\n",
    "\n",
    "def normalize_array(arr):\n",
    "    if isinstance(arr, (list, tuple)):\n",
    "        try:\n",
    "            arr = np.asarray(arr, dtype = np.float64)\n",
    "        except ValueError as e:\n",
    "            return ValueError(f\"Type casting failed: Input was: {arr}. \\n{e}\")\n",
    "    \n",
    "    arr_min = np.min(arr)\n",
    "    arr_max = np.max(arr)\n",
    "    \n",
    "    if arr_min == arr_max:\n",
    "        return np.zeros_like(arr)  # Return an array of zeros with the same shape\n",
    "       \n",
    "    return  (arr - arr_min) / (arr_max - arr_min)"
   ]
  },
  {
   "cell_type": "code",
   "execution_count": null,
   "id": "7751ed8c-8bc5-4021-8e7a-7b6bd46a8fc7",
   "metadata": {
    "jupyter": {
     "source_hidden": true
    }
   },
   "outputs": [],
   "source": [
    "# Test\n",
    "arr = np.array([2, 4, 6, 8, 10])\n",
    "normalized_arr = normalize_array(arr)\n",
    "expected_output  = np.array([0., 0.25,  0.5, 0.75, 1])\n",
    "\n",
    "print(normalized_arr) \n",
    "print(expected_output)\n",
    "print(\"Test passed?\", np.all(normalized_arr == expected_output))"
   ]
  },
  {
   "cell_type": "markdown",
   "id": "dcd1e10f-325a-4427-9046-0212b82e486e",
   "metadata": {},
   "source": [
    "## Exercise 2 [advanced]\n",
    "\n",
    "In this exercise, you will review and correct a broken Python function designed to perform median filtering (also known as Hampel filtering). This is a nonlinear filtering technique that replaces each element in the data with the median value of the neighboring elements, computed over a specific window length.\n",
    "\n",
    ">__Background on Median Filtering__ This technique involves sliding a window (of specified length) over the data and replacing the center element with the median of the values within the window. The median is less sensitive to outliers compared to the mean, hence making it useful for the correction of artifactual extreme values in data. However, the median is not a linear function of its arguments, which has some drawbacks as well.\n"
   ]
  },
  {
   "cell_type": "code",
   "execution_count": null,
   "id": "e9227906-ebb9-4232-890c-d7036508d69c",
   "metadata": {},
   "outputs": [],
   "source": [
    "# ----\n",
    "# BROKEN Implementation of the median filter.\n",
    "# ----\n",
    "\n",
    "# Try to first review the code, find the errors, and then to fix them.\n",
    "# You can use comments to first write down errors you find, and then later get to work on them.\n",
    "def median_filter(vector, window_len):\n",
    "    if not isinstance(vector, np.ndarray):\n",
    "        vector = np.array(vector)\n",
    "\n",
    "    # Check whether window length is even, as it should be odd for further processing.\n",
    "    if window_len % 2 == 1:\n",
    "        window_len += 1\n",
    "    \n",
    "    # Preallocate output array\n",
    "    filtered_vector = np.zeros(len(vector))  \n",
    "    \n",
    "    half_window = window_len // 2\n",
    "    for i in range(len(vector)):\n",
    "        start = i - half_window\n",
    "        end   = i + half_window \n",
    "        window = vector[start:end]  \n",
    "\n",
    "        vector[i] = np.median(window)\n",
    "    \n",
    "    return filtered_vector"
   ]
  },
  {
   "cell_type": "code",
   "execution_count": null,
   "id": "737ad149-b0b2-43e7-9158-fdd6e8916966",
   "metadata": {},
   "outputs": [],
   "source": [
    "# Test for the Median Filter\n",
    "test_vector = np.array([1, 2, 5, 3, 500, 17, 14, 10, 16, 20], dtype = np.float64)\n",
    "window_length = 4\n",
    "filtered = median_filter(test_vector, window_length)\n",
    "expected_out = np.array([ 2.,   2.5,  3.,   5.,  14.,  14.,  16.,  16.,  15.,  16. ])\n",
    "\n",
    "print(\"Expected Result:\", expected_out)\n",
    "print(\"Filtered Vector:\", filtered)\n",
    "print(\"Original Vector:\", test_vector)"
   ]
  },
  {
   "cell_type": "markdown",
   "id": "b03d12a6-79e1-4431-ac0d-810896b1c96a",
   "metadata": {},
   "source": [
    "### Example Solution Exercise 2"
   ]
  },
  {
   "cell_type": "code",
   "execution_count": null,
   "id": "ae6a5caa-7645-42b0-86ac-81add44a7cd2",
   "metadata": {},
   "outputs": [],
   "source": []
  },
  {
   "cell_type": "code",
   "execution_count": null,
   "id": "412292fc-3087-47d2-bcc6-3a43577a7242",
   "metadata": {
    "jupyter": {
     "source_hidden": true
    }
   },
   "outputs": [],
   "source": [
    "# Example Solution: Avert thyne eyes should ye not have attempted it yerself!\n",
    "#\n",
    "#\n",
    "#\n",
    "#\n",
    "#\n",
    "# NO PEEKING!\n",
    "\n",
    "def median_filter(vector, window_len = 5):\n",
    "    if not isinstance(vector, np.ndarray):\n",
    "        vector = np.array(vector, dtype = float) # Casting to float so we are sure its numerical\n",
    "    \n",
    "    # Validate Window Length: Positive and Odd\n",
    "    if window_len <= 0:\n",
    "        raise ValueError(\"Window length must be a positive integer.\")\n",
    "    if window_len % 2 == 0:\n",
    "        window_len += 1 \n",
    "        print(f\"Window length incremented by 1: from {window_len-1} to {window_len}\")\n",
    "    \n",
    "    # Prepare an output array of the same length as the input vector\n",
    "    filtered_vector = np.zeros(len(vector), dtype=float)  # Ensure it's a float array\n",
    "    half_window = window_len // 2\n",
    "    for i in range(len(vector)):\n",
    "        start = max(0, i - half_window)\n",
    "        end = min(len(vector), i + half_window + 1)        \n",
    "        window = vector[start:end]          \n",
    "        filtered_vector[i] = np.median(window)  \n",
    "    \n",
    "    return filtered_vector "
   ]
  },
  {
   "cell_type": "code",
   "execution_count": null,
   "id": "eec237d7-83b9-4807-b399-c8d96faa3c51",
   "metadata": {
    "jupyter": {
     "source_hidden": true
    }
   },
   "outputs": [],
   "source": [
    "# Test for the Median Filter\n",
    "test_vector = np.array([1, 2, 5, 3, 500, 17, 14, 10, 16, 20], dtype = np.float64)\n",
    "window_length = 4\n",
    "filtered = median_filter(test_vector, window_length)\n",
    "expected_out = np.array([ 2.,   2.5,  3.,   5.,  14.,  14.,  16.,  16.,  15.,  16. ])\n",
    "\n",
    "print(\"Expected Result:\", expected_out)\n",
    "print(\"Filtered Vector:\", filtered)\n",
    "print(\"Original Vector:\", test_vector)"
   ]
  },
  {
   "cell_type": "markdown",
   "id": "acbd6ef7-b7be-475a-8657-74fdce13d239",
   "metadata": {},
   "source": [
    "## Extra\n",
    "\n",
    "Which principle of coding did we violate by copy-and-pasting our test code for the functions both under your implementations and again under our example solutions? How could we solve this?"
   ]
  },
  {
   "cell_type": "code",
   "execution_count": null,
   "id": "83b62cba-32aa-4c3b-bbcb-f561fa2df62e",
   "metadata": {},
   "outputs": [],
   "source": []
  }
 ],
 "metadata": {
  "kernelspec": {
   "display_name": "Python 3 (ipykernel)",
   "language": "python",
   "name": "python3"
  },
  "language_info": {
   "codemirror_mode": {
    "name": "ipython",
    "version": 3
   },
   "file_extension": ".py",
   "mimetype": "text/x-python",
   "name": "python",
   "nbconvert_exporter": "python",
   "pygments_lexer": "ipython3",
   "version": "3.11.10"
  }
 },
 "nbformat": 4,
 "nbformat_minor": 5
}
