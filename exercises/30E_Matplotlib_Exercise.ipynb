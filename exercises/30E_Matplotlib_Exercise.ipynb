{
 "cells": [
  {
   "cell_type": "markdown",
   "id": "5fd71b62-9ebb-4aff-9787-a34d27f1494b",
   "metadata": {},
   "source": [
    "# Exercises: matplotlib and pyplot"
   ]
  },
  {
   "cell_type": "code",
   "execution_count": null,
   "id": "fbe42462-2bdc-4396-83ae-f7effd4f8969",
   "metadata": {},
   "outputs": [],
   "source": [
    "import matplotlib.pyplot as plt\n",
    "import numpy as np\n",
    "import matplotlib.gridspec as gridspec\n",
    "\n",
    "# This is a custom function that generates simulated ERP data for you; needs to be in the same folder as this notebook\n",
    "from utilities.ERPgenerator import get_data "
   ]
  },
  {
   "cell_type": "markdown",
   "id": "53eca23b-f175-42f3-b631-eab0a948c84d",
   "metadata": {},
   "source": [
    "# Evoked Potentials\n",
    "\n",
    "**Event-Related Potentials (ERPs)** are a widely used method in cognitive neuroscience. They are measured by recording electrical or magnetic brain activity through sensors, typically using electroencephalography (EEG) on the scalp. When a participant encounters a stimulus—like a visual, auditory, or tactile cue—the brain produces a rapid sequence of electrical responses as neurons engage in processing the information. However, these stimulus-specific responses are small in amplitude, often making them difficult to distinguish from the background activity, unrelated to the stimulus\n",
    "\n",
    "To better isolate ERPs, the stimulus is presented multiple times while EEG data is recorded for each instance. By averaging the responses across multiple trials, uncorrelated brain activity is cancelled out, revealing a consistent, stimulus-locked pattern of brain activity.\n",
    "\n",
    "### Instructions\n",
    "\n",
    "Below is a function that generates simulated ERP data across two conditions.\n",
    "\n",
    "__For that data, your task is to:__\n",
    "\n",
    "1. Plot the individual traces for each condition.\n",
    "2. Plot the average waveform for each condition.\n",
    "3. Plot the difference between the two average waveforms.\n",
    "\n",
    "#### Optional Analysis\n",
    "4. For each condition’s average waveform, identify the latency (in seconds) up to the maximum value.\n",
    "5. Add a marker at the latency point in the plot.\n",
    "6. Assess whether the measurement variability is similar across both conditions.\n",
    "\n",
    "*Ensure that all plots are well-formatted with descriptive titles, legends, and correctly labeled axes. The x-axis should represent time in seconds.*\n",
    "\n",
    "**Simulation Specifications:**\n",
    "* There were 100 trials per condition\n",
    "* Each trial lasts a total of 1 second.\n",
    "* The signal was sampled at 1000 samples per second.\n",
    "* the unit of the voltage is microvolt (muV, or more fancy &micro;V)\n",
    "\n",
    "#### Approach\n",
    "\n",
    "In general, try do this as best as you can, by taking smaller steps. You may start with plotting only a single condition, and then work up to the rest of the task. The point of this exercise is just to train our NumPy and Matplotlib basic knowledge we acquired. If you want to do multiple figures instead of subplots, that's fine too (and a bit easier perhaps!)"
   ]
  },
  {
   "cell_type": "code",
   "execution_count": null,
   "id": "ce261a65-4a64-4f2a-b3a2-e6c2140dbdfd",
   "metadata": {},
   "outputs": [],
   "source": [
    "# We get the data\n",
    "condition_1, condition_2 = get_data()"
   ]
  },
  {
   "cell_type": "code",
   "execution_count": null,
   "id": "38176153-f356-4354-82ba-b679e9ebd5a7",
   "metadata": {},
   "outputs": [],
   "source": [
    "# First of all, inspect the data (e.g., check the shape and some contents).\n",
    "# Which dimension are the trials, which dimension is time?\n"
   ]
  },
  {
   "cell_type": "code",
   "execution_count": null,
   "id": "53a5899b-00ee-4c20-9f84-68bdc60069da",
   "metadata": {},
   "outputs": [],
   "source": [
    "# Here you need to define the values for the x-axis; We will call that vector t.\n",
    "t = np.linspace()"
   ]
  },
  {
   "cell_type": "markdown",
   "id": "363fd858-d242-4139-a185-72d066ca1ece",
   "metadata": {},
   "source": [
    "Write down your plan here:\n",
    "What do you need to do in the script for the conditions?\n",
    "\n",
    "your   \n",
    "space  \n",
    "here  \n",
    "[double click this cell]  \n"
   ]
  },
  {
   "cell_type": "code",
   "execution_count": null,
   "id": "621b7222-411f-4fa1-b7e8-876e65ff43cb",
   "metadata": {},
   "outputs": [],
   "source": [
    "# Hint: Sometimes you might need to transpose an array for plotting. First dimensions of x and y must match."
   ]
  }
 ],
 "metadata": {
  "kernelspec": {
   "display_name": "Python 3 (ipykernel)",
   "language": "python",
   "name": "python3"
  },
  "language_info": {
   "codemirror_mode": {
    "name": "ipython",
    "version": 3
   },
   "file_extension": ".py",
   "mimetype": "text/x-python",
   "name": "python",
   "nbconvert_exporter": "python",
   "pygments_lexer": "ipython3",
   "version": "3.11.6"
  }
 },
 "nbformat": 4,
 "nbformat_minor": 5
}
