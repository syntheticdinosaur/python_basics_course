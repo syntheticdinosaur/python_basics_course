{
 "cells": [
  {
   "cell_type": "markdown",
   "id": "32c7fb61-7a30-4d52-97eb-33dc64fbed35",
   "metadata": {},
   "source": [
    "# Introduction to Mutable and Immutable Types in Python\n",
    "\n",
    "## Learning Goals\n",
    "\n",
    "* What actually happens to values when we 'pass' them to functions?\n",
    "* How can we test that functions don't change the original variables outside their scope?\n",
    "* What are mutable and immutable data types?\n",
    "\n",
    "## Introduction\n",
    "We already talked a bit about data types, but one thing we did not delve into at the beginning was an important classification of variable types. Namely, a variable in Python can be either __mutable (changeable)__ or __immutable (unchangeable)__. Mutability is one of the things that you can ignore for quite some time, but at some point, it will come back to haunt you, especially in data analyses.\n",
    "\n",
    "Somewhere in the computer memory, there exists an entry that is bound to a variable name. This memory has an address and a size, and the name of the variable refers to that memory address.\n",
    "\n",
    "* __Mutable types__: These are objects whose values can be changed 'in place' after the object is created. You can modify parts of the object, add or remove elements, without needing to recreate the entire object. A mutable type that you learned about are lists.\n",
    "\n",
    "* __Immutable types__: These are objects whose values cannot be changed in place. Once the object is created, you cannot modify its content. Any \"change\" results in the creation of a completely new object, while the original remains intact.\n",
    "\n"
   ]
  },
  {
   "cell_type": "markdown",
   "id": "3c629361-7b6d-422a-bc73-e9d631b4a9a5",
   "metadata": {},
   "source": [
    "----\n",
    "## Table of Mutable and Immutable Types\n",
    "As you see, there are some important differences in behaviour between mutable and immutable types. The table below provides some examples of each type. Similar types are in the same row.\n",
    "\n",
    "| **Immutable Types**       | **Mutable Types**          |\n",
    "|---------------------------|----------------------------|\n",
    "| `int` (Integer)            |                            |\n",
    "| `float` (Floating-point)   |                            |\n",
    "| `complex` (Complex number) |                            |\n",
    "| `bool` (Boolean)           |                            |\n",
    "| `str` (String)             |                            |\n",
    "| `tuple` (Tuple)            | `list` (List)              |\n",
    "| `frozenset` (Frozen set)   | `set` (Set)                |\n",
    "|                            |`dict` (Dictionary)        |"
   ]
  },
  {
   "cell_type": "markdown",
   "id": "a155ee1b-11c0-4c29-8c4f-dcea68fe4c14",
   "metadata": {},
   "source": [
    "## Lists and Tuples\n",
    "\n",
    "As an example, we will focus on two similar types, namely a mutable and an immutable ordered collection: ```list``` and ```tuple```.\n",
    "You will see that for many purposes, lists and tuples behave relatively similar."
   ]
  },
  {
   "cell_type": "code",
   "execution_count": null,
   "id": "824173a2-8360-4179-9e32-b26121f9a0f8",
   "metadata": {},
   "outputs": [],
   "source": [
    "# Instantiation\n",
    "a_tuple = (1,2,3) # Tuples are an immutable collection\n",
    "a_list  = [4,5,6] # Lists are mutable collections"
   ]
  },
  {
   "cell_type": "code",
   "execution_count": null,
   "id": "1edddb0c-762c-4b55-a7ac-38da8e6aba0f",
   "metadata": {},
   "outputs": [],
   "source": [
    "# Indexing is identical\n",
    "print('first tuple value', a_tuple[0])\n",
    "print('first list value', a_list[0])"
   ]
  },
  {
   "cell_type": "markdown",
   "id": "b5f56dfe-ae10-4337-8189-3aae33b7ebf8",
   "metadata": {},
   "source": [
    "We will now try to assign values to those indices after the collection has already been instantiated. We try this first in a list (we have already tested this in a previous exercise), and then we try the same trick for a tuple object."
   ]
  },
  {
   "cell_type": "code",
   "execution_count": null,
   "id": "82fdc589-5189-4ad0-8075-fa2fad77e252",
   "metadata": {},
   "outputs": [],
   "source": [
    "# Reassignement of elements in a list\n",
    "print('original list', a_list)\n",
    "a_list[0] = 0\n",
    "print('modified list', a_list)\n",
    "a_list[0] = 4 # reverting our change so we can run this multiple times"
   ]
  },
  {
   "cell_type": "code",
   "execution_count": null,
   "id": "414df3bf-e0f8-4d80-9015-62c176a959f5",
   "metadata": {
    "scrolled": true
   },
   "outputs": [],
   "source": [
    "# Reassignment in a tuple throws a 'TypeError'\n",
    "a_tuple[0] = 0"
   ]
  },
  {
   "cell_type": "markdown",
   "id": "fa8fade7",
   "metadata": {},
   "source": [
    "We see that tuples don't support putting new values into an existing tuple. If we want to do this, we must create a new tuple."
   ]
  },
  {
   "cell_type": "code",
   "execution_count": null,
   "id": "b54a3a35-53dd-4a57-becd-3974f9ca221d",
   "metadata": {},
   "outputs": [],
   "source": [
    "# To create a changed tuple from the original one, we need to create a completely new tuple\n",
    "a_new_tuple = (0, a_tuple[1], a_tuple[2])\n",
    "print(a_new_tuple)\n",
    "# Of course, you could also directly assign to a_tuple like this (using some Python magic)\n",
    "# a_tuple = (0, *a_tuple[1:3])"
   ]
  },
  {
   "cell_type": "code",
   "execution_count": null,
   "id": "7c42a690-2bf1-4987-b0aa-b9bba6d38851",
   "metadata": {},
   "outputs": [],
   "source": [
    "# You can expand tuples by adding another tuple to them, but in the computer memory, this creates a new variable basically\n",
    "new_tuple = a_tuple\n",
    "new_tuple = new_tuple + (4,) # (4,) creates a one element tuple\n",
    "print(new_tuple)"
   ]
  },
  {
   "cell_type": "markdown",
   "id": "1415b2c7-b4be-4335-879e-d45835b927aa",
   "metadata": {},
   "source": [
    "## Identity of Variables\n",
    "\n",
    "The identity of a variable refers to a unique identifier (basically its address) for the value it points to, which is consistent during the object's lifetime (e.g., while the program runs). You can check this identity in Python using the built-in `id()` function. Here’s how to use it:\n",
    "\n",
    "```python\n",
    "   variable = 42\n",
    "   print(id(variable))\n",
    "```\n",
    "\n",
    "This will return a unique integer that serves as the object's unique identifier.\n",
    "\n",
    "> __Note__ Different variable names can point to the same value or object in memory.\n",
    "\n",
    "In the following, we will see what happens to the identity of a tuple and to the identity of a list for some manipulations."
   ]
  },
  {
   "cell_type": "code",
   "execution_count": null,
   "id": "5d88593c",
   "metadata": {},
   "outputs": [],
   "source": [
    "# Defining the tuple and the list\n",
    "a_tuple = (1,2,3)\n",
    "a_list  = [4,5,6]"
   ]
  },
  {
   "cell_type": "code",
   "execution_count": null,
   "id": "2ecfeea2-f072-4f31-9abf-f806467b5c3b",
   "metadata": {},
   "outputs": [],
   "source": [
    "# Testing identity of a tuple after merging it with another tuple\n",
    "print(id(a_tuple))\n",
    "a_tuple = a_tuple + (5,) # (5,) means a tuple with a single element, the number 5. We are basically combining two tuples here.\n",
    "print(id(a_tuple))"
   ]
  },
  {
   "cell_type": "code",
   "execution_count": null,
   "id": "a62e72c8-210c-4bc3-aee0-01eb36d25bfb",
   "metadata": {},
   "outputs": [],
   "source": [
    "# Testing the identity of a list for some list operations\n",
    "print(id(a_list))\n",
    "a_list.append(5)\n",
    "print(id(a_list))\n",
    "a_list += [5]\n",
    "print(id(a_list))\n",
    "a_list[-1] = 2\n",
    "print(id(a_list))"
   ]
  },
  {
   "cell_type": "code",
   "execution_count": null,
   "id": "9357b59b-45e2-41f6-a1fc-859fc70d386b",
   "metadata": {},
   "outputs": [],
   "source": [
    "# Testing identity of a list after merging it with another list\n",
    "print(id(a_list))\n",
    "a_list = a_list + [5]\n",
    "print(id(a_list))"
   ]
  },
  {
   "cell_type": "markdown",
   "id": "29413237-a069-4ef7-991a-93827fcab679",
   "metadata": {},
   "source": [
    "## Updating variables\n",
    "\n",
    "From this you also see a subtle difference between two methods of updating a variable:\n",
    "\n",
    "```Python\n",
    "    1. variable += something\n",
    "```\n",
    "\n",
    "```python\n",
    "    2. variable = variable + something\n",
    "```\n",
    "\n",
    "For __mutable types__ (like lists, dictionaries, and sets), ```+=``` modifies the object in place (the identity of the object remains the same), whereas ```variable = variable + something``` creates a new object (at a new memory location), and then just gives that new object a previously used name. Thus, with mutable types, ```+=``` can be more efficient since it avoids creating a new object."
   ]
  },
  {
   "cell_type": "code",
   "execution_count": null,
   "id": "695e6548-e179-4185-a81f-502d6b1001ff",
   "metadata": {},
   "outputs": [],
   "source": [
    "# In tuples (immutable)\n",
    "old_id = id(a_tuple)\n",
    "a_tuple += (4,)\n",
    "new_id = id(a_tuple)\n",
    "print(\"Appending to Tuple\")\n",
    "print('Old ID', old_id)\n",
    "print('New ID', new_id)"
   ]
  },
  {
   "cell_type": "code",
   "execution_count": null,
   "id": "789cd0c8-3d92-4894-8433-88ebda6b3291",
   "metadata": {},
   "outputs": [],
   "source": [
    "# In lists (mutable)\n",
    "old_id = id(a_list)\n",
    "a_list += [4,]\n",
    "new_id = id(a_list)\n",
    "print(\"Appending to List\")\n",
    "print('Old ID', old_id)\n",
    "print('New ID', new_id)"
   ]
  },
  {
   "cell_type": "markdown",
   "id": "ae501471-31a1-42b5-8706-5aa0a37825c5",
   "metadata": {},
   "source": [
    "## Operating on mutable or immutable variables\n",
    "\n",
    "__For now, this just looks like immutable data types make everything much more complicated. They have real value however!__  \n",
    "\n",
    "Mutability of data types influences how they behave when operated on and becomes very often a topic when variables are passed into functions or piped through a series of operations in a script.\n",
    "\n",
    "\n",
    "> __Assume the following problem__:  \n",
    "- We have a list, and want change some of its values.\n",
    "- We don't want to change the original list!\n",
    "- so we assign the previous list to a new variable.\n",
    "\n",
    "Let's call it the naive approach."
   ]
  },
  {
   "cell_type": "code",
   "execution_count": null,
   "id": "28366337",
   "metadata": {},
   "outputs": [],
   "source": [
    "# The naive approach\n",
    "a_list = [4,5,6]\n",
    "another_list = a_list \n",
    "another_list[0] = -100\n",
    "print(another_list)"
   ]
  },
  {
   "cell_type": "markdown",
   "id": "b1bb5684-6506-4c5e-9931-f5e898373db7",
   "metadata": {},
   "source": [
    "Great! It worked. Our new list is a modified version of the original list. Let's go back to the original to see what we actually changed."
   ]
  },
  {
   "cell_type": "code",
   "execution_count": null,
   "id": "a7a4595a-350c-49ca-95aa-03948aa7b604",
   "metadata": {},
   "outputs": [],
   "source": [
    "print(a_list)"
   ]
  },
  {
   "cell_type": "markdown",
   "id": "6049548b-2ea7-4787-bea3-f9e861aa1121",
   "metadata": {
    "jupyter": {
     "source_hidden": true
    }
   },
   "source": [
    " What happened?\n",
    "  Not what we expected :(   \n",
    "    ... Ummm... so, what is going on here? Why was the original list changed? \n",
    "\n",
    "Perhaps `a_list` and `another_list` are just two different names for the same thing in memory?"
   ]
  },
  {
   "cell_type": "markdown",
   "id": "90cdd2b5-0026-4780-a21e-9f10348f04e0",
   "metadata": {},
   "source": [
    "We can test this!  \n",
    "To assess whether two variables in fact relate to the _very same object in memory_, using the keyword ```is```:"
   ]
  },
  {
   "cell_type": "code",
   "execution_count": null,
   "id": "39b53893-cf70-4992-b8a1-7d2a3f414ed4",
   "metadata": {},
   "outputs": [],
   "source": [
    "a_list is another_list"
   ]
  },
  {
   "cell_type": "markdown",
   "id": "28bbd7c9-0262-4aa7-a333-e91061194a67",
   "metadata": {},
   "source": [
    "We learn: __Assignment (`=`) does not copy data. It relates a name to an object (or value).__\n",
    "\n",
    "> __Note__ the keyword `is` test for identity in terms of memory mapping, while `==` tests for the equality of values contained in variables."
   ]
  },
  {
   "cell_type": "markdown",
   "id": "5aa9daca-ffb5-4034-b8c1-677446cc9a9e",
   "metadata": {},
   "source": [
    "So we check the identity of the lists. And we see that both lists point to the same object in memory, as indicated by its identifier."
   ]
  },
  {
   "cell_type": "code",
   "execution_count": null,
   "id": "0576dca8-b444-43d7-98bd-c628f164de53",
   "metadata": {},
   "outputs": [],
   "source": [
    "print(id(a_list))\n",
    "print(id(another_list))"
   ]
  },
  {
   "cell_type": "markdown",
   "id": "a8337219-f773-4962-812e-830db5339f8e",
   "metadata": {},
   "source": [
    "This is not what we wanted for our example!  \n",
    "So we actually need to try a different approach. We can tell Python to create a true copy of a mutable object, i.e. put the same content into a new memory location, which is distinct from the original (i.e., points to a different memory location).\n"
   ]
  },
  {
   "cell_type": "code",
   "execution_count": null,
   "id": "eb3ef140-7868-4d5f-b6ec-c5bc99abe8ba",
   "metadata": {},
   "outputs": [],
   "source": [
    "a_list = [4,5,6]\n",
    "another_list = a_list.copy()"
   ]
  },
  {
   "cell_type": "markdown",
   "id": "dda629ff-3a6f-42f8-9b62-7ae4a3e6851f",
   "metadata": {},
   "source": [
    "Now we can test for their identity. They shouldn't be the same anymore."
   ]
  },
  {
   "cell_type": "code",
   "execution_count": null,
   "id": "823e9a31-0315-4793-8a41-f108bf948665",
   "metadata": {},
   "outputs": [],
   "source": [
    "a_list is another_list"
   ]
  },
  {
   "cell_type": "code",
   "execution_count": null,
   "id": "697f809f-8477-4540-bf69-c73c3d1bea79",
   "metadata": {},
   "outputs": [],
   "source": [
    "print(id(a_list))\n",
    "print(id(another_list))"
   ]
  },
  {
   "cell_type": "markdown",
   "id": "7ab38849-5694-42c2-996d-a492a49c8e3b",
   "metadata": {},
   "source": [
    "They are indeed two seperate objects. We can now modify one list without affecting the other."
   ]
  },
  {
   "cell_type": "code",
   "execution_count": null,
   "id": "a08d2dcf-068c-453f-96f5-b57bc2683056",
   "metadata": {},
   "outputs": [],
   "source": [
    "another_list[0] = -100\n",
    "print('another list', another_list)\n",
    "print('original list', a_list)"
   ]
  },
  {
   "cell_type": "markdown",
   "id": "41b38f76-f917-4523-9c79-4ff491f5e34a",
   "metadata": {},
   "source": [
    "##  Mutability and function calls\n",
    "So what happens if you pass such a mutable object to a function? From our previous experience, we can expect that the mutable object, e.g., a list, might be changed after the function by accident!\n",
    "\n",
    "Here is an example what happens if you __pass a mutable datatype to a function that modifies its inputs__, e.g., by appending something. You see that the function has external effects."
   ]
  },
  {
   "cell_type": "code",
   "execution_count": null,
   "id": "040fea2c-8d5d-4ca7-92e3-f1888a49b60c",
   "metadata": {},
   "outputs": [],
   "source": [
    "def modify_list(my_list):\n",
    "    my_list += [4]\n",
    "    print(\"Inside function:\", my_list)\n",
    "    \n",
    "my_list = [1, 2, 3]\n",
    "\n",
    "print(\"Before function:\", my_list)\n",
    "modify_list(my_list)\n",
    "print(\"Outside function:\", my_list)"
   ]
  },
  {
   "cell_type": "markdown",
   "id": "6ca3809c-5174-45c5-9563-ae3246fc915d",
   "metadata": {},
   "source": [
    "On the contrary, here is an example what happens if you __pass an immutable datatype to a function that modifies its inputs__, here incrementing an integer by 1. You see that the function has no external effects."
   ]
  },
  {
   "cell_type": "code",
   "execution_count": null,
   "id": "2791b850-b931-42da-9ce3-4d78621901a8",
   "metadata": {},
   "outputs": [],
   "source": [
    "def increment_integer(x):\n",
    "    x += 1\n",
    "    print(\"Inside function:\", x)\n",
    "\n",
    "x = 100000\n",
    "\n",
    "print(\"Before function:\", x)\n",
    "increment_integer(x)\n",
    "print(\"Outside function:\", x)\n"
   ]
  },
  {
   "cell_type": "markdown",
   "id": "6db796db-5241-4488-8f26-d477a93eb9c8",
   "metadata": {},
   "source": [
    "## Summary and Outlook\n",
    "\n",
    "In this notebook, we've explored differences between mutable and immutable data types in Python.\n",
    "\n",
    "In the NumPy library which we will discuss later, you'll find that most of its array-like structures (such as `ndarray`; basically specialised lists of lists) are mutable, allowing for efficient computations on large arrays. However, it also necessitates caution: since multiple variables can reference the same NumPy array, unintentional modifications can lead to unexpected results.\n",
    "There is much more to know about this topic. If interested, you can for instance look into differences between a regular `copy` and a `deepcopy`.\n",
    "\n",
    "\n",
    "1. **Mutable vs. Immutable**: Be aware of whether the objects you are passing to functions are mutable or immutable. If your function modifies a mutable object, those changes will persist outside the function, potentially affecting other parts of your code.\n",
    "\n",
    "2. **Copying Data**: If you need to maintain the original data unchanged, ensure you create a copy of mutable objects before modification, e.g. using methods like `.copy()` or the `copy` module.\n",
    "\n",
    "It's important to remember the differences between mutable and immutable types. In the end, a core question is: What do data modifications should be shared between different parts of the code, and which procedures should not have outside effects?\n",
    "\n",
    "The next notebook will talk about Classes and Objects. Classes enable you to bundle data and functionality in a single object and can be useful in a variety of contexts.\n"
   ]
  }
 ],
 "metadata": {
  "kernelspec": {
   "display_name": "base",
   "language": "python",
   "name": "python3"
  },
  "language_info": {
   "codemirror_mode": {
    "name": "ipython",
    "version": 3
   },
   "file_extension": ".py",
   "mimetype": "text/x-python",
   "name": "python",
   "nbconvert_exporter": "python",
   "pygments_lexer": "ipython3",
   "version": "3.12.8"
  }
 },
 "nbformat": 4,
 "nbformat_minor": 5
}
