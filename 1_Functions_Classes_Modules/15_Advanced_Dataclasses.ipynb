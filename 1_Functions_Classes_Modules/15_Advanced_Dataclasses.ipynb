{
  "cells": [
    {
      "cell_type": "markdown",
      "metadata": {
        "id": "qQsddH0E933l"
      },
      "source": [
        "# Dataclasses\n",
        "\n",
        "## Learning Goals\n",
        "\n",
        "* What are dataclasses?\n",
        "* How can dataclasses make class creation easier?\n",
        "* What functions are provided automatically?\n",
        "\n",
        "## Introduction"
      ]
    },
    {
      "cell_type": "markdown",
      "metadata": {
        "id": "tGrWpfB8-Cgo"
      },
      "source": [
        "So far we have learned how we can use classes to make storing and manipulating data cleaner and safer. Since version 3.7, python provides a built-in decorator called **@dataclass** (from the dataclasses module) to make defining simple classes for data storage easier and cleaner by automatically adding methods to your class.\n",
        "\n",
        "Upon creation, a dataclass automatically creates the following methods for you:\n",
        "* `__init__()` --> the constructor\n",
        "* `__repr__()` --> an automatic object representation with all attributes\n",
        "* `__eq__()`   --> an object comparison\n",
        "\n",
        "First we start by importing the dataclass module.\n",
        "\n",
        "```python\n",
        "    from dataclasses import dataclass\n",
        "```\n",
        "After that, we only need to add `@dataclass` above our class definition.\n"
      ]
    },
    {
      "cell_type": "markdown",
      "metadata": {},
      "source": [
        "Please recall the previous definition of our `Student` class:\n",
        "\n",
        "As you can see above, the `__init__()` method is quite writing intensive and needs us to type each variable name at least three times. Furthermore, when we try to print the object, we only see the class and the memory location but do not see any of the attributes. (As we would need to write a `__str__()` method)"
      ]
    },
    {
      "cell_type": "code",
      "execution_count": null,
      "metadata": {},
      "outputs": [],
      "source": [
        "# Code snippet from the previous notebook\n",
        "class Student:\n",
        "  occupation = 'Student'\n",
        "\n",
        "  # Init method\n",
        "  def __init__(self, full_name, student_id):\n",
        "    self.full_name = full_name\n",
        "    self.student_id = student_id\n",
        "\n",
        "# create 2 student objects with the same attributes\n",
        "student1   = Student('John Doe', 'abc123')\n",
        "student2   = Student('John Doe', 'abc123')\n",
        "\n",
        "print(student1)\n",
        "# Are the two objects the same?\n",
        "print(student2 == student1)"
      ]
    },
    {
      "cell_type": "markdown",
      "metadata": {},
      "source": [
        "Now we will create a similar class called `StudentEasier` using a **dataclass**"
      ]
    },
    {
      "cell_type": "code",
      "execution_count": null,
      "metadata": {},
      "outputs": [],
      "source": [
        "from dataclasses import dataclass # import the dataclass decorator\n",
        "\n",
        "@dataclass # Define the Student class with the dataclass decorator\n",
        "class StudentEasier:\n",
        "    full_name: str\n",
        "    student_id: str\n",
        "    occupation: str = 'Student' # dafault values work the same way\n",
        "\n",
        "# create 2 student objects with the same attributes\n",
        "student1   = StudentEasier('John Doe', 'abc123')\n",
        "student2   = StudentEasier('John Doe', 'abc123')\n",
        "\n",
        "print(student1)\n",
        "# Are the two objects the same here?\n",
        "print(student2 == student1)"
      ]
    },
    {
      "cell_type": "markdown",
      "metadata": {},
      "source": [
        "We now see that the class definition got way shorter and that we already have an object representation that gives us all the attributes. Furthermore, the comparison of two objects with the exact same attributes yields *false* using the standard python classes, as the objects are in different memory locations.  \n",
        "\n",
        ">When using **dataclass** we assume that _objects are equal if their data is_, therefore the comparison `print(student2 == student1)` yields `True` in the lower example.\n",
        "\n",
        "Also note when defining a dataclass in Python, we specify the expected type of each variable by adding `: type` after the variable name. These are called **type hints**, and they indicate what kind of input is expected when creating an object. In dataclasses, **every variable must have a type hint**. If the type does not matter, you can use `: Any` to indicate that the variable can hold any type of value.  \n",
        "\n",
        "Type hints serve as **documentation** to help users understand what type is expected for each variable. However, it's important to note that Python **does not enforce type hints at runtime**. This means that even if a variable is annotated with a specific type, Python will still allow values of other types to be assigned. For example, a variable annotated as `str` could still receive an integer or a list without causing an immediate error. Using type hints improves code readability and usability.  \n",
        "\n",
        "We can of course still add any costum methods as before. Below we will add the `set_study_program()` method from the previous notebook to our new `StudentEasier()` class:"
      ]
    },
    {
      "cell_type": "code",
      "execution_count": null,
      "metadata": {
        "id": "kg7odGwR-BlQ"
      },
      "outputs": [],
      "source": [
        "@dataclass\n",
        "class StudentEasier:\n",
        "  full_name: str\n",
        "  student_id: str\n",
        "  occupation: str = 'Student'\n",
        "  course: str = 'Programming with Python'\n",
        "  uni: str = 'East West University'\n",
        "  study_program: str = 'Undeclared'\n",
        "\n",
        "  # The set_study_program method from before\n",
        "  def set_study_program(self, study_program: str):\n",
        "    \"\"\"Set the student's study program with validation.\"\"\"\n",
        "    VALID_PROGRAMS = [\"Computer Science\", \"Mechanical Engineering\", \"Biology\", \n",
        "                      \"Psychology\", \"Business Administration\", \"Philosophy\", \"Art and Design\"]\n",
        "\n",
        "    if study_program not in VALID_PROGRAMS:\n",
        "        raise ValueError(f\"Invalid study program. Must be one of: {', '.join(VALID_PROGRAMS)}\")\n",
        "\n",
        "    self.study_program = study_program\n",
        "\n",
        "\n",
        "student3 = StudentEasier('Emily Smith', 'cba321')\n",
        "print(student3)\n",
        "print(student3.course)\n",
        "print(student3.study_program)\n",
        "student3.set_study_program('Mechanical Engineering')\n",
        "print(student3.study_program)"
      ]
    },
    {
      "cell_type": "markdown",
      "metadata": {},
      "source": [
        "### Summary  \n",
        "In this notebook, we explored how to use the **dataclass** module to efficiently create classes for storing data. By applying the **`@dataclass`** decorator, we eliminate the need to manually define the `__init__()` method while also getting a default object representation automatically. Additionally, dataclasses assume that two objects are considered equal if all their attributes have the same values, enabling easy onject comparison."
      ]
    }
  ],
  "metadata": {
    "colab": {
      "provenance": [],
      "toc_visible": true
    },
    "kernelspec": {
      "display_name": "py311",
      "language": "python",
      "name": "python3"
    },
    "language_info": {
      "codemirror_mode": {
        "name": "ipython",
        "version": 3
      },
      "file_extension": ".py",
      "mimetype": "text/x-python",
      "name": "python",
      "nbconvert_exporter": "python",
      "pygments_lexer": "ipython3",
      "version": "3.11.0"
    }
  },
  "nbformat": 4,
  "nbformat_minor": 0
}
