{
  "cells": [
    {
      "cell_type": "markdown",
      "metadata": {
        "id": "xDLRSMA_YXMA"
      },
      "source": [
        "# Modules\n",
        "\n",
        "## Learning Goals\n",
        "* What are modules?\n",
        "* How do I install and import them?\n",
        "* How do I call functions from a module?"
      ]
    },
    {
      "cell_type": "markdown",
      "metadata": {
        "id": "ODibxghWlaBz"
      },
      "source": [
        "# What is a Module?\n",
        "In Python, a module is a single file (or sometimes a collection of files) that contains Python code, including definitions of functions, classes, and variables. Modules are a way to logically organize your Python code and reuse it across different projects.\n",
        "\n",
        "Modules serve two key purposes:\n",
        "\n",
        "* **Code Reusability**: By defining functions, variables, and classes in a module, you can use them across multiple programs without having to rewrite the same code. This makes your code easier to maintain and debug.\n",
        "* **Code Organization**: As your programs grow larger, splitting the code into separate modules helps maintain clarity. Instead of having one large script, related functionalities can be grouped into different modules.\n",
        "\n",
        "Python has a robust standard library which comes with numerous pre-built modules (like math, os, datetime, etc.), but you can also create your own custom modules to encapsulate specific functionality or install external ones using package managers like pip.\n",
        "\n",
        "A module can define functions, classes, variables, and even runnable code.\n",
        "Any Python file with a .py extension can be treated as a module and imported into other Python scripts.\n",
        "\n"
      ]
    },
    {
      "cell_type": "markdown",
      "metadata": {
        "id": "XxjiiW5tohd-"
      },
      "source": [
        "# Importing internal Modules and their functions\n",
        "\n",
        "Lets begin with an easy example:"
      ]
    },
    {
      "cell_type": "code",
      "execution_count": null,
      "metadata": {
        "id": "br-nvNXRmDsW"
      },
      "outputs": [],
      "source": [
        "# Importing a built-in module (math)\n",
        "import math\n",
        "\n",
        "# Using the sqrt() function from the math module:\n",
        "print(\"The square root of 25 is:\", math.sqrt(25))"
      ]
    },
    {
      "cell_type": "markdown",
      "metadata": {
        "id": "EzBGYgU2mSd4"
      },
      "source": [
        "Here, we import the whole math module and indicate to python that we want to use the `sqrt()` function from the math module by writing `math.sqrt()`.  \n",
        " This follows the general syntax of calling functions from modules:\n",
        "\n",
        "```python \n",
        "module.function()\n",
        "```\n",
        "\n",
        "Alternatively, if we know that we *only* care about the `sqrt()` function, we can import it specifically. This can be done by writing\n",
        "\n",
        "```python\n",
        "from math import sqrt\n",
        "```\n",
        "\n",
        "which follows the pattern:\n",
        "\n",
        "```python \n",
        "from some_module import some_function\n",
        "```\n",
        "\n",
        "We then do *not* need to specify the module before the function:"
      ]
    },
    {
      "cell_type": "code",
      "execution_count": null,
      "metadata": {
        "id": "eNd-tHBEmQRw"
      },
      "outputs": [],
      "source": [
        "# Importing only the 'sqrt' function from the 'math' module\n",
        "from math import sqrt\n",
        "\n",
        "# Using the 'sqrt' function directly\n",
        "print(\"The square root of 36 is:\", sqrt(36))"
      ]
    },
    {
      "cell_type": "markdown",
      "metadata": {
        "id": "ZGThAo3Xm-qB"
      },
      "source": [
        "# Alias import\n",
        "\n",
        "When importing some modules where we know that we are gonna use their functions a lot, we can also import the module with an alias (another name that can be shorter than the full name), using the syntax\n",
        "\n",
        "```python\n",
        "    import module as alias\n",
        "```\n",
        "\n",
        "For many commonly used modules, there are relatively strong conventions about which alias to choose for a module, and it's recommended to stick with that. You will see these conventions once you have read more code."
      ]
    },
    {
      "cell_type": "code",
      "execution_count": null,
      "metadata": {
        "id": "CbKYZnj_nPZy"
      },
      "outputs": [],
      "source": [
        "import math as ma\n",
        "\n",
        "# Using the sqrt() function from the math module:\n",
        "print(\"The square root of 25 is:\", ma.sqrt(25))"
      ]
    },
    {
      "cell_type": "markdown",
      "metadata": {
        "id": "yR4GaDKXnz5k"
      },
      "source": [
        "# Installing external modules\n",
        "\n",
        "Not all modules come pre-installed with Python. You can install additional modules using the Python package manager, `pip`.\n",
        "\n",
        "For example, you can install the requests module, which is useful for making HTTP requests, by running the following command in your terminal (or directly in a Jupyter notebook using !):"
      ]
    },
    {
      "cell_type": "code",
      "execution_count": null,
      "metadata": {
        "id": "BbEs39LToCct"
      },
      "outputs": [],
      "source": [
        "# Installing the 'requests' module\n",
        "!pip install requests"
      ]
    },
    {
      "cell_type": "markdown",
      "metadata": {
        "id": "udgkMlUgpPLP"
      },
      "source": [
        "Once it is installed in your environment, you can import it and use it like the internal modules."
      ]
    },
    {
      "cell_type": "code",
      "execution_count": null,
      "metadata": {
        "id": "O4WZI0aMpXzh"
      },
      "outputs": [],
      "source": [
        "import requests"
      ]
    },
    {
      "cell_type": "markdown",
      "metadata": {},
      "source": [
        "## Summary and Outlook\n",
        "\n",
        "In this notebook, we learned how to import modules, and how to install external modules via pip. We learned that we can give imported modules aliases, new short names for use in later code.\n",
        "The next notebook will use a special module to create a special kind of classes, so-called dataclasses. These are classes tailored to representing, well, data (and less focussed on extended functionality via methods)."
      ]
    },
    {
      "cell_type": "markdown",
      "metadata": {},
      "source": []
    }
  ],
  "metadata": {
    "colab": {
      "provenance": []
    },
    "kernelspec": {
      "display_name": "Python 3",
      "name": "python3"
    },
    "language_info": {
      "name": "python"
    }
  },
  "nbformat": 4,
  "nbformat_minor": 0
}
