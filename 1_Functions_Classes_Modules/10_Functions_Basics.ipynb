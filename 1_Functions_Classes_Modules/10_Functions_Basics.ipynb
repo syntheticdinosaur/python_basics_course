{
 "cells": [
  {
   "cell_type": "markdown",
   "metadata": {},
   "source": [
    "# Introduction to Python: Functions\n",
    "\n",
    "## Learning Goals\n",
    "\n",
    "*  What are functions and why are they useful?\n",
    "*  How are functions used in (modular) code?\n",
    "*  How can I make functions more flexible with input parameters?\n",
    "*  How can I make functions return some value?\n",
    "\n",
    "## Introduction \n",
    "\n",
    "A function in programming is a reusable block of code designed to perform a specific task by executing a defined sequence of operations. A function has a name, and may take some input arguments, too.\n",
    "\n",
    "An example of a function was for example the usage of the `print()` function, as seen in a previous previous tutorial:\n",
    "```Python\n",
    "    print('Hello World')\n",
    "```\n",
    "Here, everytime the `print()` function is called, it prints the string or number given in the parentheses into the console. This message is the function input. Using functions allows us to execute a predefined set of instructions without needing to enter them all in detail every time. Functions encapsulate chunks of code for convenient later, repeated usage.\n",
    "\n",
    "## Example: Temperature Conversion\n",
    "\n",
    "Consider that you want to convert a temperature value from degrees Fahrenheit into Celsius. This can be done with the formula:\n",
    "$$ °C = (°F - 32) * \\frac{5}{9} $$\n",
    "So if you want to compute different the °Celsius equivalent of different °Fahrenheit temperatures you can do it in the straightforward way!"
   ]
  },
  {
   "cell_type": "code",
   "execution_count": null,
   "metadata": {},
   "outputs": [],
   "source": [
    "# Run the following code for some celsius-fahrenheit conversions\n",
    "fahrenheit_temperature = 42\n",
    "print(f\"{fahrenheit_temperature}° Fahrenheit correspond to {(fahrenheit_temperature - 32) * 5/9}° Celsius\")\n",
    "\n",
    "fahrenheit_temperature = 100\n",
    "print(f\"{fahrenheit_temperature}° Fahrenheit correspond to {(fahrenheit_temperature - 32) * 5/9}° Celsius\")"
   ]
  },
  {
   "cell_type": "markdown",
   "metadata": {},
   "source": [
    "Here however, we re-wrote the same code in the print statement of each temperature conversion. While this effort here is manageable, it is still not a good coding practice for different reasons:\n",
    "\n",
    "Imagine, we messed up the formula, and for example instead of `*(5/9)` wrote something else. Correcting this would necessitate to correct it in each line seperately. Writing the same thing multiple times can easily sneak in a some mistakes (for example typos). Furthermore, if anyone later would read our code they would need to carefully check if every line does exactly the same or if there are small differences between the lines.\n",
    "\n",
    "> One rule of good and efficient coding is therefore __DRY! (standing for \"Don't Repeat Yourself!\")__. Functions can help us with that.\n",
    "\n",
    "As we do the same calculation for each temperature, we can define our own function to do that for us:"
   ]
  },
  {
   "cell_type": "code",
   "execution_count": null,
   "metadata": {},
   "outputs": [],
   "source": [
    "def fahrenheit_to_celsius(fahrenheit_temperature):\n",
    "  celsius_temperature = (fahrenheit_temperature - 32) * 5/9\n",
    "  print(f\"{fahrenheit_temperature}° Fahrenheit correspond to {celsius_temperature}° Celsius\")\n",
    "\n",
    "fahrenheit_to_celsius(42)\n",
    "fahrenheit_to_celsius(100)"
   ]
  },
  {
   "cell_type": "markdown",
   "metadata": {},
   "source": [
    "### Defining and using functions\n",
    "\n",
    "To use a custom function you need to define the function first by using the `def` keyword followed by the function name, parentheses ```()```, and a colon ```:```.\n",
    "```python\n",
    "    def my_function_name(parameter):\n",
    "      # Function body:\n",
    "      # Code to perform a task, working with the parameter variable\n",
    "```\n",
    "* `def`: This keyword is used to define a function.\n",
    "* `my_function_name`: The name of the function, which you will use to call it later.\n",
    "* `parameters`: Optional. These are inputs the function can accept. You can have zero or more parameters. If you don't want the function to take any parameters, just don't put something in the parentheses, e.g. `def my_function()`:\n",
    "* Function body: Indented code block that contains the logic or operations the function will perform. The Function body must be intented by 1 tab-space (relative to the def line/function header) to indicate to python that all these actions need to be performed *inside* the function.\n",
    "\n",
    "To then use the function after it is defined you just write the function name and pass the parameter(s) that the function needs.\n",
    "```\n",
    "my_function_name(parameter)\n",
    "```"
   ]
  },
  {
   "cell_type": "markdown",
   "metadata": {},
   "source": [
    "**Order matters: First Define, then Use a Function**\n",
    "\n",
    "To use a function, it needs to be defined before we can then call it. The function needs to be defined before the first call and the code in which it is defined needs to run before any function calls (i.e., uses of the function in later code)."
   ]
  },
  {
   "cell_type": "code",
   "execution_count": null,
   "metadata": {},
   "outputs": [],
   "source": [
    "# Running this cell will give an error!\n",
    "\n",
    "# Function call\n",
    "greeting('Everybody')\n",
    "\n",
    "# function definition\n",
    "def greeting(name):\n",
    "  print(f\"Hello {name}!\")"
   ]
  },
  {
   "cell_type": "markdown",
   "metadata": {},
   "source": [
    "If you fix the order it then works:"
   ]
  },
  {
   "cell_type": "code",
   "execution_count": null,
   "metadata": {},
   "outputs": [],
   "source": [
    "# function definition\n",
    "def greeting(name):\n",
    "  print(f\"Hello {name}!\")\n",
    "\n",
    "# function call\n",
    "greeting('Everybody')"
   ]
  },
  {
   "cell_type": "markdown",
   "metadata": {},
   "source": [
    "The function is now defined and in the memory of our Jupyter Notebook session. This means all code cells in this notebook that run afterwards can use the function. "
   ]
  },
  {
   "cell_type": "markdown",
   "metadata": {},
   "source": [
    "## Calling functions with multiple input arguments\n",
    "Have a look at the following function with multiple inputs."
   ]
  },
  {
   "cell_type": "code",
   "execution_count": null,
   "metadata": {},
   "outputs": [],
   "source": [
    "def formal_greeting_multilingual(name, time_of_day, language):\n",
    "    if language == \"german\":\n",
    "        print(\"Ich wünsche Ihnen einen guten\", time_of_day, \",\", name, \".\" )\n",
    "    elif language == \"english\":\n",
    "        print(\" I wish you a pleasant\", time_of_day, name, \".\")\n",
    "    else:\n",
    "        print(\"LANGUAGE NOT RECOGNIZED!\")"
   ]
  },
  {
   "cell_type": "markdown",
   "metadata": {},
   "source": [
    "When calling the above function, we can rely on order to assign arguments to their values in the function call, i.e., the first function input is the name, the second the time of day, etc. For functions with more inputs this however becomes quite complicated at some point"
   ]
  },
  {
   "cell_type": "code",
   "execution_count": null,
   "metadata": {},
   "outputs": [],
   "source": [
    "formal_greeting_multilingual(\"Max Mustermann\", \"Nachmittag\", \"german\")"
   ]
  },
  {
   "cell_type": "markdown",
   "metadata": {},
   "source": [
    "If we mess up the order, it might look like this:\n"
   ]
  },
  {
   "cell_type": "code",
   "execution_count": null,
   "metadata": {},
   "outputs": [],
   "source": [
    "formal_greeting_multilingual(\"afternoon\", \"John Doe\", \"english\")"
   ]
  },
  {
   "cell_type": "markdown",
   "metadata": {},
   "source": [
    "To make things clearer, you can also call functions with arguments by explicitly assigning them. If you do it this way, the order for named arguments passed to the function also doesn't matter."
   ]
  },
  {
   "cell_type": "code",
   "execution_count": null,
   "metadata": {},
   "outputs": [],
   "source": [
    "formal_greeting_multilingual(language=\"english\", name = \"Student\", time_of_day=\"morning\")"
   ]
  },
  {
   "cell_type": "markdown",
   "metadata": {},
   "source": [
    "### Return values\n",
    "\n",
    "So far, we have only written functions that performed an action and then printed out a statement. Functions can also perform action on the input data and return a value that can depend on the input given to the function. This is done by adding a `return` statement. The return statement defines which variable(s) is/are returned. Upon being called, the function then takes the input, performs its operations on it and returns something back, which can be stored in a new variable.\n",
    "\n",
    "For our temperature function, it would be good if we could save the converted temperatur to a variable. We can accordingly modify our `fahrenheit_to_celsius()` function to not only print the resulting °C temperature but return it as a float number:"
   ]
  },
  {
   "cell_type": "code",
   "execution_count": null,
   "metadata": {},
   "outputs": [],
   "source": [
    "# function definition\n",
    "def fahrenheit_to_celsius(fahrenheit_temperature):            # function header\n",
    "  celsius_temperature = (fahrenheit_temperature - 32) * 5/9   # function body\n",
    "  return celsius_temperature                                  # return statement\n",
    "\n",
    "fahrenheit_temperature = 212\n",
    "celsius_temperature = fahrenheit_to_celsius(fahrenheit_temperature) # function call\n",
    "print(f\"{fahrenheit_temperature}°F correspond to {celsius_temperature}°C\")"
   ]
  },
  {
   "cell_type": "markdown",
   "metadata": {},
   "source": [
    "> __Important__: Return statements are endpoints of functions. After the return statement, the function is exited and it passes the specified value (if any) back to the caller. Everything after the return statement is therefore not executed, as seen in the following example:"
   ]
  },
  {
   "cell_type": "code",
   "execution_count": null,
   "metadata": {},
   "outputs": [],
   "source": [
    "def fahrenheit_to_celsius(fahrenheit_temperature):\n",
    "  celsius_temperature = (fahrenheit_temperature - 32) * 5/9\n",
    "  return celsius_temperature\n",
    "  celsius_temperature = 10000           # will never be reached\n",
    "  print('This will never get printed')  # will never be reached\n",
    "\n",
    "print(fahrenheit_to_celsius(50))"
   ]
  },
  {
   "cell_type": "markdown",
   "metadata": {},
   "source": [
    "## Summary and Outlook\n",
    "\n",
    "In this notebook, we learned how to define simple functions, and how to make functions return specific values. For function definition, syntax and indentation matter, otherwise your function might throw an error. Functions help you to encapsulate reusable pieces of code with varying inputs and outputs. In the next notebook, we will talk about some advanced concerns of functions, such as adding default arguments and adding documentation for easier understanding."
   ]
  }
 ],
 "metadata": {
  "kernelspec": {
   "display_name": "base",
   "language": "python",
   "name": "python3"
  },
  "language_info": {
   "codemirror_mode": {
    "name": "ipython",
    "version": 3
   },
   "file_extension": ".py",
   "mimetype": "text/x-python",
   "name": "python",
   "nbconvert_exporter": "python",
   "pygments_lexer": "ipython3",
   "version": "3.12.8"
  }
 },
 "nbformat": 4,
 "nbformat_minor": 2
}
