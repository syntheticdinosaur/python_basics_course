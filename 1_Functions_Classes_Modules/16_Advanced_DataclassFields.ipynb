{
  "cells": [
    {
      "cell_type": "markdown",
      "metadata": {},
      "source": [
        "# Dataclasses: Introduction to `field()`\n",
        "\n",
        "## Learning Goals\n",
        "\n",
        "* How can we control mutability in dataclasses?  \n",
        "* How do we customize how objects are represented?  \n",
        "* How can we modify or exclude specific fields from certain behaviors?  \n",
        "* How does Python compare dataclass objects? \n",
        "\n",
        "## Introduction\n",
        "\n",
        "The `field()` function in Python’s `dataclasses` module allows fine-tuned control over attributes. It is useful for:\n",
        "\n",
        "- Setting default values correctly (especially for mutable types like lists).\n",
        "- Hiding fields from `repr` to avoid exposing sensitive data.\n",
        "- Adding metadata to store additional information about fields.\n",
        "\n",
        "To use `field`, import it alongside `dataclass`:\n",
        "\n",
        "```python\n",
        "    from dataclasses import dataclass, field\n",
        "```"
      ]
    },
    {
      "cell_type": "markdown",
      "metadata": {},
      "source": [
        "### Default Values and Mutability\n",
        "\n",
        "When defining attributes in a class, we must be careful when using **mutable default values** like lists or dictionaries.\n",
        "\n",
        "> If a __mutable object__ is used as a __default value__, it is __shared across all instances of the class__, leading to possibly unintended behavior.\n",
        "\n",
        "Consider the case where we define a `courses` attribute with a default empty list. Without `field(default_factory=list)`, every instance of the class would reference the **same** list in memory. This means that modifying the list in one instance would also affect all other instances, even though we expect them to be independent."
      ]
    },
    {
      "cell_type": "code",
      "execution_count": null,
      "metadata": {},
      "outputs": [],
      "source": [
        "from dataclasses import dataclass # Example without using field\n",
        "\n",
        "@dataclass\n",
        "class Student:\n",
        "    full_name: str\n",
        "    student_id: str\n",
        "    courses = [] # Possible Danger\n",
        "\n",
        "# Creating two students\n",
        "s1 = Student(\"Jordan Lee\", \"s123\")\n",
        "s2 = Student(\"Taylor Davis\", \"s456\")\n",
        "\n",
        "# Modifying one student's courses\n",
        "s1.courses.append(\"Mathematics\")\n",
        "\n",
        "# Checking the courses of both students\n",
        "print(\"s1 courses:\", s1.courses)\n",
        "print(\"s2 courses:\", s2.courses)"
      ]
    },
    {
      "cell_type": "markdown",
      "metadata": {},
      "source": [
        "As you can see above, both students share the same courses, even if the course was never added to `s2`. This happens because Python assigns the same list object to all instances, rather than creating a new list for each student. By using `field(default_factory=list)`, we ensure that every student gets an independent list that is not shared across instances.\n",
        "\n",
        "Using `field(default_factory=list)` ensures that each instance gets its **own separate list** instead of sharing a single list. This avoids accidental modifications affecting multiple instances and ensures predictable behavior when working with mutable data types.\n",
        "\n",
        "We can now see why handling mutable defaults properly is important when designing classes, especially in cases where each object should manage its own independent data."
      ]
    },
    {
      "cell_type": "code",
      "execution_count": null,
      "metadata": {},
      "outputs": [],
      "source": [
        "from dataclasses import dataclass, field # Importing field along with dataclass\n",
        "\n",
        "@dataclass\n",
        "class Student:\n",
        "    full_name: str\n",
        "    student_id: str\n",
        "    courses: list = field(default_factory=list)  # Prevents shared mutable defaults\n",
        "\n",
        "# Creating two students\n",
        "s1 = Student(\"Jordan Lee\", \"s123\")\n",
        "s2 = Student(\"Taylor Davis\", \"s456\")\n",
        "\n",
        "# Modifying one student's courses\n",
        "s1.courses.append(\"Mathematics\")\n",
        "\n",
        "# Checking the courses of both students\n",
        "print(\"s1 courses:\", s1.courses)\n",
        "print(\"s2 courses:\", s2.courses)"
      ]
    },
    {
      "cell_type": "markdown",
      "metadata": {},
      "source": [
        "You can see that each of our student object has an individual list now."
      ]
    },
    {
      "cell_type": "markdown",
      "metadata": {},
      "source": [
        "### Making Dataclasses Immutable with `frozen=True`\n",
        "\n",
        "By default, dataclass instances in Python are **mutable**, meaning their attributes can be modified after creation. While this is useful in many cases, there are situations where immutability is preferred. Making a dataclass **immutable** ensures that once an object is created, its attributes cannot be changed, preventing accidental modifications and enforcing data integrity.  \n",
        "\n",
        "Using `frozen=True` in a `dataclass` makes all fields read-only. This is particularly useful when working with data structures that **should not be modified** after initialization. If an attempt is made to change an attribute, Python will raise an error, ensuring the object remains unchanged throughout its lifecycle.\n"
      ]
    },
    {
      "cell_type": "code",
      "execution_count": null,
      "metadata": {},
      "outputs": [],
      "source": [
        "from dataclasses import dataclass\n",
        "\n",
        "@dataclass(frozen=True)\n",
        "class Student:\n",
        "    full_name: str\n",
        "    student_id: str\n",
        "\n",
        "# Creating a student object\n",
        "s = Student(\"Jordan Lee\", \"s123\")\n",
        "\n",
        "# Attempting to modify an attribute\n",
        "s.full_name = \"Taylor Davis\"  # This will raise an error"
      ]
    },
    {
      "cell_type": "markdown",
      "metadata": {},
      "source": [
        "### Excluding Fields from `repr()` in Dataclasses\n",
        "\n",
        "When printing an instance, Python generates a string representation (`__repr__`) that shows all attributes. This is useful for debugging, but sometimes you want to hide certain attributes for clarity—such as sensitive data (passwords, API keys) or redundant information—to reduce clutter.\n",
        "\n",
        "To exclude a field from `repr`, we can use `repr=False` in `field()`. The attribute remains part of the object and can still be accessed normally, but it will not appear when the object is printed.\n",
        "\n",
        "In the example below, we define a `Student` class where the **university name** is always the same for all students. Since this information is redundant, we exclude it from the representation to keep the output more concise."
      ]
    },
    {
      "cell_type": "code",
      "execution_count": null,
      "metadata": {
        "id": "umaaoG_0Qz07"
      },
      "outputs": [],
      "source": [
        "@dataclass\n",
        "class Student:\n",
        "    full_name: str\n",
        "    student_id: str\n",
        "    university: str = field(default=\"Academy of Software Arts\", repr=False)  # Exclude from repr\n",
        "\n",
        "# Creating a student object\n",
        "s = Student(\"Jordan Lee\", \"s123\")\n",
        "\n",
        "# Printing the object\n",
        "print(s)"
      ]
    },
    {
      "cell_type": "markdown",
      "metadata": {},
      "source": [
        "### Controlling Object Comparisons with `order=True` in Dataclasses\n",
        "\n",
        "By default, dataclass instances do not support ordering, meaning objects cannot be compared using operators like `<`, `>`, `<=`, or `>=`. However, by setting `order=True`, Python automatically generates ordering methods based on the fields of the dataclass.  \n",
        "\n",
        "When ordering is enabled, Python compares objects **field by field** in the order they are defined. The first attribute acts as the primary sorting key, and if two objects have the same value for that attribute, the next field is used, and so on.  \n",
        "\n",
        "To control which attributes are used for ordering, you can **exclude specific fields** by setting `compare=False` in `field()`. This allows you to define fields that are part of the object but should not be considered when comparing instances. Choosing the right attributes for ordering depends on the context.\n",
        "\n",
        "In the example below, the `borrowed_books` attribute is used as the sorting key, while `full_name` and `student_id` are excluded from comparisons using `compare=False`. This ensures that students are ordered only by the number of books they have borrowed, without other attributes affecting the comparison."
      ]
    },
    {
      "cell_type": "code",
      "execution_count": null,
      "metadata": {},
      "outputs": [],
      "source": [
        "@dataclass(order=True)\n",
        "class Student:\n",
        "    full_name: str = field(compare=False)   # Excluded from ordering\n",
        "    student_id: str = field(compare=False)  # Excluded from ordering\n",
        "    borrowed_books: int                     # Primary sorting key\n",
        "\n",
        "# Creating student objects\n",
        "\n",
        "s1 = Student(\"Jordan Lee\",   \"s123\", 3)     # Borrowed 3 books\n",
        "s2 = Student(\"Taylor Davis\", \"s456\", 6)     # Borrowed 6 books\n",
        "\n",
        "# Comparing students\n",
        "print(s1 > s2)\n",
        "print(s1 < s2)"
      ]
    },
    {
      "cell_type": "markdown",
      "metadata": {},
      "source": [
        "### Summary \n",
        "Dataclasses provide a structured way to define objects while reducing boilerplate code. With `field()`, we gain more control over how attributes behave, allowing us to refine object representation, enforce constraints, and improve consistency. Understanding these tools helps create more predictable and maintainable code, making object management in Python both clearer and more efficient.\n"
      ]
    }
  ],
  "metadata": {
    "colab": {
      "provenance": [],
      "toc_visible": true
    },
    "kernelspec": {
      "display_name": "psychopy",
      "language": "python",
      "name": "python3"
    },
    "language_info": {
      "codemirror_mode": {
        "name": "ipython",
        "version": 3
      },
      "file_extension": ".py",
      "mimetype": "text/x-python",
      "name": "python",
      "nbconvert_exporter": "python",
      "pygments_lexer": "ipython3",
      "version": "3.9.21"
    }
  },
  "nbformat": 4,
  "nbformat_minor": 0
}
