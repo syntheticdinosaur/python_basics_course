{
  "cells": [
    {
      "cell_type": "markdown",
      "metadata": {
        "id": "xDLRSMA_YXMA"
      },
      "source": [
        "# Objects & Classes\n",
        "\n",
        "\n",
        "## Learning Goals\n",
        "\n",
        "* What is a class? What is an object?\n",
        "* How can I use them and what do they make easier?\n",
        "* What are attributes and methods?\n",
        "* Why is encapsulation important?\n",
        "\n",
        "## Introduction\n",
        "\n",
        "Classes allow you to group related properties and functions into a single structure. Objects of a class are a bit like machines: They have specific properties and can do specific things. The class itself is like a manual or a blueprint: It provides a way to construct objects of a certain type - we also say that an object is an instance of a class.  \n",
        "Objects have specific data (attributes) and behaviors (methods). An example could be a car. A car has a smanufacturer and type. That is the class. Of this class, your very own car of this type is the object, or instance of a class. This object has some attributes (mileage, age, color, ...) and certain behaviors (driving, heating, ...). \n",
        "Attributes are the data stored within an object, while methods define the actions an object can perform. Methods are very similar to functions. Encapsulation ensures that the internal workings of a class are hidden, by controlling access to its attributes and methods."
      ]
    },
    {
      "cell_type": "markdown",
      "metadata": {
        "id": "2I1f4agnEtC6"
      },
      "source": [
        "## Example: Course Participants\n",
        "Imagine we want to keep track of all participants of this course programatically. We then would need to store the name, matriculation number, the study program and the degree.  What we could do for that is, for example, to make a list of lists and store the name as the first element of each sublist, the matriculation number as the second and so on.\n",
        "\n",
        "```python\n",
        "all_students = [[student_1_name, student_1_ID, student_1_study_program...], [student_2_name, student_2_ID, ...]]\n",
        "```\n",
        "\n",
        "While this could work, accessing, adding or manipulating info would be inefficient, inconvenient and error prone. Especially the indexing would be very unintuitive. It can work if everything is indexed properly but there is no protection mechanisms for wrong input opersations.\n",
        "\n",
        "Let's say the information we want to store for each student are:\n",
        "* Course\n",
        "* University\n",
        "* Name\n",
        "* Student-ID\n",
        "\n",
        "We want to create our own datastructure which holds all the information that we care about in a uniform structure for each student. This is where Classes and Objects come into play:"
      ]
    },
    {
      "cell_type": "markdown",
      "metadata": {
        "id": "8QazdWnLJmRw"
      },
      "source": [
        "## Classes and Objects\n",
        "\n",
        "Classes provide a way to link data and intended functionality together. Classes hereby serve as constuction scheme (blueprint) for objects that then allow us to store data in a similar structure and perform predefined operations on that data.\n",
        "\n",
        "An object is an instance of the class, that means it has the structure that is defined in the class but instead of the mere structure it has *actual* values assigned.\n",
        "\n",
        "This will get more clear by continuing our *Course Participants* example:"
      ]
    },
    {
      "cell_type": "markdown",
      "metadata": {
        "id": "HKGfOe5aeWQE"
      },
      "source": [
        "## Defining a class\n",
        "\n",
        "Some points on Python class:\n",
        "\n",
        "Classes are created by keyword `class`followed by the Name of the class and `:`. The style convention is that the name of the class is capitalized in PascalCase (no spaces, every word starts capitalized, and a capitalized first letter).\n",
        "\n",
        "After the class definition line, you can add class specific variables, so called Attributes."
      ]
    },
    {
      "cell_type": "code",
      "execution_count": null,
      "metadata": {
        "id": "iZmPzw22MtlU"
      },
      "outputs": [],
      "source": [
        "class Student:\n",
        "  occupation = 'Student'\n",
        "  course = 'Programming with Python'\n",
        "  uni = 'East West University'"
      ]
    },
    {
      "cell_type": "markdown",
      "metadata": {
        "id": "iHaR7F0AZkXc"
      },
      "source": [
        "The code above tells us that each object that will be creasted using our student class will have the two attributes of a course they are enrolled in and a university they are stuying at.\n",
        "\n",
        "We can now create an object of our Student class (or instantiate our Student class):"
      ]
    },
    {
      "cell_type": "code",
      "execution_count": null,
      "metadata": {
        "id": "LzGpqN25cmlQ"
      },
      "outputs": [],
      "source": [
        "student1 = Student()\n",
        "student2 = Student()"
      ]
    },
    {
      "cell_type": "markdown",
      "metadata": {
        "id": "UanyvCo6eFrr"
      },
      "source": [
        "We now created an object of the Student class, of which we can access the individual attributes using the syntax `objectname.attribute`.\n"
      ]
    },
    {
      "cell_type": "code",
      "execution_count": null,
      "metadata": {
        "id": "_P95nuyNerBq"
      },
      "outputs": [],
      "source": [
        "print(student1.course)\n",
        "print(student1.uni)\n",
        "print(student2.uni)"
      ]
    },
    {
      "cell_type": "markdown",
      "metadata": {
        "id": "mnwVVjWlfNtQ"
      },
      "source": [
        "## The `__init__()` method\n",
        "\n",
        "As you can see, we now have an intuitive way to access the individual information for each student. However until now every Object that we will create, will have the same attributes. This works well for the information on *Course* and *University* but not for *Name* and *Student ID*.\n",
        "\n",
        "We will therefore add an `__init__()` method to our Student class that allows us to set individual values when we create an object, so each student can have their own unique information. Methods are special functions bound to a specific class.\n",
        "The `__init__()` method is a special method that is automatically called when you create an object (instance) of a class. It's used to initialize the object's attributes.\n",
        "Think of it as the constructor of the class: it prepares the object with the necessary information when it is created.\n",
        "\n",
        "The parentheses in the `__init__()` method define the parameters that the method takes when you create an object. The first parameter is always `self`, which represents the instance of the class, i.e. the concrete object you are creating. After `self`, you list the variables that you want to initialize in the object, such as full_name and student_id. Inside the `__init__()` method, you use `self`.variable_name to assign these values to the object's attributes. For example, `self.full_name = full_name` assigns the `full_name` parameter to the object's `full_name` attribute. This ensures that each time you create a new object, the values passed are correctly stored in that instance."
      ]
    },
    {
      "cell_type": "code",
      "execution_count": null,
      "metadata": {
        "id": "nW42mYP_evvU"
      },
      "outputs": [],
      "source": [
        "class Student:\n",
        "  occupation = 'Student'\n",
        "  course = 'Programming with Python'\n",
        "  uni = 'East West University'\n",
        "\n",
        "  # Init method\n",
        "  def __init__(self, full_name, student_id):\n",
        "    self.full_name = full_name\n",
        "    self.student_id = student_id\n",
        "\n",
        "# Creating an Object from the Student Class\n",
        "student1 = Student('John Doe', 'abc123')\n",
        "\n",
        "# Retrieving attributes from our Object\n",
        "print(student1.full_name)\n",
        "print(student1.occupation)\n",
        "print(student1.student_id)\n",
        "print(student1.course)\n",
        "print(student1.uni)"
      ]
    },
    {
      "cell_type": "markdown",
      "metadata": {
        "id": "BhdYW5Ddp4Q_"
      },
      "source": [
        "## Class and instance variables\n",
        "\n",
        "After adding the `__init()__` method to our class definition, we have two types of variables in our `Students` class:\n",
        "* Variables that are the same for all objects we create from a class are called **class variables**. In our example this would be the `occupation`,`course` and `uni`.\n",
        "\n",
        "* The other type of variabels differ between all instances of the class and are thus called **instance variables**. In the example above this would be `full_name` and `student_id`."
      ]
    },
    {
      "cell_type": "markdown",
      "metadata": {
        "id": "XutOmZJIo3YV"
      },
      "source": [
        "# Class Methods\n",
        "\n",
        "Methods are essentially functions that belong to a class. They define behaviors that instances of the class can perform.\n",
        "\n",
        "Just like regular functions, methods have parameters, return values, and perform actions. However, methods are different because they operate on the data (variables) that belong to the class or instance. This means you can expect the data to have a uniform structure and then perform actions that are taylored to that data format.\n",
        "\n",
        "\n",
        "The most important thing to remember is that methods always have at least one parameter, usually called `self`. `self` is a reference to the current instance of the class.\n",
        "When you call a method on an object, Python automatically passes that object as the first argument to the method, which is why `self` must always be the first parameter.\n"
      ]
    },
    {
      "cell_type": "markdown",
      "metadata": {
        "id": "Ah_ebq1cAYky"
      },
      "source": [
        "## `set()` and `get()` methods\n",
        "\n",
        "With the `__init()__` method we assign values to our instance variables the moment that we create our object. However, we might also want to add instance variables at a later stage.\n",
        "\n",
        "Therefore, we can create a `set()` method for an instance variable that we want to create later and not upon object creation. In the set() method, we can do input checking and for example throw an error if the input is not valid for our class.\n",
        "\n",
        " We then directly also add a `get()` method that we can use to retreive the value of an instance variable."
      ]
    },
    {
      "cell_type": "code",
      "execution_count": null,
      "metadata": {
        "id": "E7GpP-m1BazN"
      },
      "outputs": [],
      "source": [
        "class Student:\n",
        "  # Class Variables\n",
        "  occupation = 'Student'\n",
        "  course = 'Programming with Python'\n",
        "  uni = 'East West University'\n",
        "\n",
        "  # Init method\n",
        "  def __init__(self, full_name, student_id):\n",
        "    # Instance Variabels\n",
        "    self.full_name = full_name\n",
        "    self.student_id = student_id\n",
        "\n",
        "  # our new set method\n",
        "  def set_study_program(self, study_program):\n",
        "    VALID_PROGRAMS = [\"Computer Science\", \"Mechanical Engineering\", \"Biology\", \n",
        "                      \"Psychology\", \"Business Administration\", \"Philosophy\", \"Art and Design\"]\n",
        "\n",
        "    # raise value error if the study program is not in the list of valid programs\n",
        "    if study_program not in VALID_PROGRAMS:\n",
        "        raise ValueError(f\"Invalid study program. Must be one of: {', '.join(VALID_PROGRAMS)}\")\n",
        "\n",
        "    # if study_program is in the list of valid programs it can be assigned to out current object\n",
        "    self.study_program = study_program\n",
        "\n",
        "\n",
        "  # method to retrieve the study_program instance variable\n",
        "  def get_study_program(self):\n",
        "    return self.study_program\n",
        "\n",
        "student1 = Student('John Doe', 'abc123')\n",
        "print(student1.full_name)\n",
        "\n",
        "#print(student1.study_program) # will throw error, as we need to set it first"
      ]
    },
    {
      "cell_type": "markdown",
      "metadata": {
        "id": "oIX9IB0YCWlE"
      },
      "source": [
        "As the `study_program` attribute is not defined in the constructor (the `__init__()` method), it does not exist upon creation of the Object. We need to set it manually with our `set_study_program` method.\n",
        "\n",
        "Furthermore, we can update the instance variable by calling the set() method again, this overwrites the previous attribute."
      ]
    },
    {
      "cell_type": "code",
      "execution_count": null,
      "metadata": {
        "id": "86J_21vnCUvF"
      },
      "outputs": [],
      "source": [
        "student1.set_study_program('Computer Science')\n",
        "print(student1.get_study_program())\n",
        "student1.set_study_program('Philosophy')\n",
        "print(student1.get_study_program())"
      ]
    },
    {
      "cell_type": "markdown",
      "metadata": {
        "id": "A6wGZUDR0kxC"
      },
      "source": [
        "Also when entering an invalid study program, we will receive a customized error message:"
      ]
    },
    {
      "cell_type": "code",
      "execution_count": null,
      "metadata": {
        "id": "x0oTj6s10uIL"
      },
      "outputs": [],
      "source": [
        "student1.set_study_program('Alchemy')"
      ]
    },
    {
      "cell_type": "markdown",
      "metadata": {},
      "source": [
        "However, please note that _everything_ that is not explicitly listed in the list `VALID_PROGRAMS` will not be accepted! This includes spelling mistakes or, in that example, also the valid programs starting with a lower case letter."
      ]
    },
    {
      "cell_type": "markdown",
      "metadata": {
        "id": "PyVwyIy0lS2L"
      },
      "source": [
        "## The `__str__()` method\n",
        "Another useful method is the `__str__()` method, which specifies the string representation of our Objects. This representation occurs when we print our object:\n",
        "\n"
      ]
    },
    {
      "cell_type": "code",
      "execution_count": null,
      "metadata": {
        "id": "xFGSrsUCpV0_"
      },
      "outputs": [],
      "source": [
        "class Student:\n",
        "    occupation = 'Student'\n",
        "    course = 'Programming with Python'\n",
        "    uni = 'East West University'\n",
        "\n",
        "    # Init method\n",
        "    def __init__(self, full_name, student_id):\n",
        "      self.full_name = full_name\n",
        "      self.student_id = student_id\n",
        "\n",
        "    def __str__(self):\n",
        "      return f\"{self.full_name}, {self.occupation} at the {self.uni}.\"\n",
        "\n",
        "student1 = Student('John Doe', 'abc123')\n",
        "print(student1)"
      ]
    },
    {
      "cell_type": "markdown",
      "metadata": {
        "id": "lYma8hKtrRs3"
      },
      "source": [
        "## Adding custom methods\n",
        "\n",
        "We can of course also add methods where information is presented or manipulated to our design. We can for example add a full_information function where all our attributes are printed in the way that we want:\n"
      ]
    },
    {
      "cell_type": "code",
      "execution_count": null,
      "metadata": {
        "id": "rSapOao8rNzj"
      },
      "outputs": [],
      "source": [
        "class Student:\n",
        "    occupation = 'Student'\n",
        "    course = 'Programming with Python'\n",
        "    uni = 'East West University'\n",
        "\n",
        "    # Init method\n",
        "    def __init__(self, full_name, student_id):\n",
        "      self.full_name = full_name\n",
        "      self.student_id = student_id\n",
        "\n",
        "    def __str__(self):\n",
        "      return f\"{self.full_name}, Student at the {self.uni}.\"\n",
        "\n",
        "    def full_introduction(self):\n",
        "      print(\n",
        "      f'Hi, I am {self.full_name} and I am taking the course {self.course}\\n'\n",
        "      f'offered at the {self.uni}.'\n",
        "      )\n",
        "\n",
        "student1 = Student('John Doe', 'abc123')\n",
        "student1.full_introduction()"
      ]
    },
    {
      "cell_type": "markdown",
      "metadata": {
        "id": "c78xlqife9ji"
      },
      "source": [
        "## Summary and Outlook\n",
        "\n",
        "In this notebook, we discussed classes and objects. Objects are instances of a class, which combines data and functionality. An object has attributes, i.e. its data, such as the name and age of a student, as well as internal functions, called methods. We have learned how to initialize objects using the __init__ method, how to add custom methods. We learned how to use the pattern of `.set()` and `.get()` methods to access and change attributes of an object with special care and checks.\n",
        "In the next notebook, we have a look at modules, which package a lot of different functions and classes that you can use in your own projects after importing the module.\n"
      ]
    }
  ],
  "metadata": {
    "colab": {
      "provenance": [],
      "toc_visible": true
    },
    "kernelspec": {
      "display_name": "py311",
      "language": "python",
      "name": "python3"
    },
    "language_info": {
      "codemirror_mode": {
        "name": "ipython",
        "version": 3
      },
      "file_extension": ".py",
      "mimetype": "text/x-python",
      "name": "python",
      "nbconvert_exporter": "python",
      "pygments_lexer": "ipython3",
      "version": "3.11.0"
    }
  },
  "nbformat": 4,
  "nbformat_minor": 0
}
